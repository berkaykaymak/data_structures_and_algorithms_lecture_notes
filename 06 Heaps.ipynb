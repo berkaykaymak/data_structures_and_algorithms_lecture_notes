{
 "cells": [
  {
   "cell_type": "markdown",
   "metadata": {},
   "source": [
    "## Today's Agenda\n",
    "- Priority Queues and Heaps"
   ]
  },
  {
   "cell_type": "markdown",
   "metadata": {},
   "source": [
    "# Priority Queues and Heaps\n",
    "\n",
    "## Motivation\n",
    "- Recall the FindMin operation : Find the smallest ( or highest priority) item quickly,\n",
    "- Some Applications:\n",
    "    - Operating system needs to schedule jobs according to priority instead of FIFO \n",
    "    - Find student with highest grade, employee with highest salary etc.\n",
    "    \n",
    "## Priority Queue ADT\n",
    "-  Priority Queue should efficiently do\n",
    "    -  FindMin()\n",
    "        - Returns minimum value but does not delete it\n",
    "    -  DeleteMin()\n",
    "        - Returns minimum value and deletes it\n",
    "    -  Insert($k$)\n",
    "        - Inserts the key value $k$ to the priority queue\n",
    "    - Size() and IsEmpty()"
   ]
  },
  {
   "cell_type": "markdown",
   "metadata": {},
   "source": [
    "## List implementation of a Priority Queue\n",
    "\n",
    "- What if we use unsorted lists\n",
    "    - FindMin and DeleteMin are $\\mathcal{O}(n)$\n",
    "        -  Indeed, we have to go through the whole list\n",
    "    - Insert($k$) is $\\mathcal{O}(1)$\n",
    "- What if we use unsorted lists\n",
    "    - FindMin and DeleteMin are $\\mathcal{O}(n)$\n",
    "        -  Indeed, we have to go through the whole list\n",
    "    - Insert($k$) is $\\mathcal{O}(1)$\n",
    "\n",
    "- What if we use sorted lists\n",
    "    - FindMin and DeleteMin are $\\mathcal{O}(1)$\n",
    "        -  Be careful if we want both Min and Max (circular array or doubly linked list)\n",
    "    - Insert($k$) is $\\mathcal{O}(n)$\n",
    "    - Note that, in this case, we need sorting algorithms to sort the given list. "
   ]
  },
  {
   "cell_type": "markdown",
   "metadata": {},
   "source": [
    "## Binary Search Tree (BST) implementation of a Priority Queue\n",
    "\n",
    "- Worst case (degenerate tree)\n",
    "    - FindMin(), DeleteMin() and Insert($k$) are all $\\mathcal{O}(n)$\n",
    "- Best case (completely balanced BST)\n",
    "    - FindMin(), DeleteMin and Insert($k$) are all $\\mathcal{O}(\\log{n})$\n",
    "- Balanced BSTs (such as AVL)\n",
    "    - FindMin(), DeleteMin() and Insert($k$) are all $\\mathcal{O}(\\log{n})$"
   ]
  },
  {
   "cell_type": "markdown",
   "metadata": {},
   "source": [
    "# Binary Heaps\n",
    "\n",
    "- We can do better than Balanced BST?\n",
    "    - With limited requirements: Insert, FindMin, DeleteMin. \n",
    "    - The goals are:\n",
    "        - FindMin is $\\mathcal{O}(1)$\n",
    "        - Insert is $\\mathcal{O}(\\log{n})$\n",
    "        - DeleteMin is $\\mathcal{O}(\\log{n})$"
   ]
  },
  {
   "cell_type": "markdown",
   "metadata": {},
   "source": [
    "## Binary Heaps        \n",
    "- A binary heap is a binary tree (NOT a BST) that is:\n",
    "    - Complete: the tree is completely filled except possibly the bottom level, which is filled from left to right\n",
    "    - Satisfies the heap order property\n",
    "        - every node is less than or equal to its children\n",
    "        - or every node is greater than or equal to its children\n",
    "- The root node is always the smallest node\n",
    "    - or the largest, depending on the heap order\n",
    "    "
   ]
  },
  {
   "cell_type": "code",
   "execution_count": 1,
   "metadata": {},
   "outputs": [],
   "source": [
    "from IPython.display import HTML, display"
   ]
  },
  {
   "cell_type": "code",
   "execution_count": 6,
   "metadata": {},
   "outputs": [
    {
     "data": {
      "text/html": [
       "<table><tr><td><img src='images/week-06/heap1.png'></td><td><img src='images/week-06/heap2.png'></td></tr></table>"
      ],
      "text/plain": [
       "<IPython.core.display.HTML object>"
      ]
     },
     "metadata": {},
     "output_type": "display_data"
    }
   ],
   "source": [
    "display(HTML(\"<table><tr><td><img src='images/week-06/heap1.png'></td><td><img src='images/week-06/heap2.png'></td></tr></table>\"))"
   ]
  },
  {
   "cell_type": "markdown",
   "metadata": {},
   "source": [
    "**NOTE:**  A binary heap is NOT a binary search tree"
   ]
  },
  {
   "cell_type": "markdown",
   "metadata": {},
   "source": [
    "## Heap order property\n",
    "- A heap provides limited ordering information\n",
    "- Each path is sorted, but the subtrees are not sorted relative to each other"
   ]
  },
  {
   "cell_type": "code",
   "execution_count": 3,
   "metadata": {},
   "outputs": [
    {
     "data": {
      "text/html": [
       "<table><tr><td><img src='images/week-06/heap1.png'></td><td><img src='images/week-06/heap4.png'></td></tr></table>"
      ],
      "text/plain": [
       "<IPython.core.display.HTML object>"
      ]
     },
     "metadata": {},
     "output_type": "display_data"
    }
   ],
   "source": [
    "display(HTML(\"<table><tr><td><img src='images/week-06/heap1.png'></td><td><img src='images/week-06/heap4.png'></td></tr></table>\"))"
   ]
  },
  {
   "cell_type": "markdown",
   "metadata": {},
   "source": [
    "## Binary Heap vs Binary Search Tree\n",
    "\n",
    "<img src=\"images/week-06/heap5.png\">\n",
    "\n",
    "- The left is binary heap, and right BST\n",
    "- Parent is less than both left and right children\n",
    "- Parent is greater than left child, less than right child"
   ]
  },
  {
   "cell_type": "markdown",
   "metadata": {},
   "source": [
    "## Structure property\n",
    "- A binary heap is a complete tree\n",
    "    - All nodes are in use except for possibly the right end of the bottom row\n",
    "    \n",
    "    <img src=\"images/week-06/heap6.png\">"
   ]
  },
  {
   "cell_type": "markdown",
   "metadata": {},
   "source": [
    "## Examples\n",
    "\n",
    " <img src=\"images/week-06/heap7.png\">\n",
    " \n",
    "- Binary heap (complete tree and heap order is MAX)\n",
    " \n",
    " <img src=\"images/week-06/heap8.png\">\n",
    " \n",
    "- Binary heap (complete tree and heap order is MIN)\n",
    "  \n",
    " <img src=\"images/week-06/heap9.png\">\n",
    " \n",
    "- Not complete tree, so it is not heap\n",
    "   \n",
    " <img src=\"images/week-06/heap10.png\">\n",
    " \n",
    "- Complete tree, but min (or max) heap order is broken"
   ]
  },
  {
   "cell_type": "markdown",
   "metadata": {},
   "source": [
    "## Array Implementation of Heaps\n",
    "\n",
    "- Root node = $A[1]$, (note indexing starts with 1, not zero)\n",
    "- Children of $A[i]$ are $A[2i]$ and, $A[2i+1]$\n",
    "- Keep track of current size $n$ (number of nodes)\n",
    "\n",
    "<img src=\"images/week-06/heap11.png\">"
   ]
  },
  {
   "cell_type": "markdown",
   "metadata": {},
   "source": [
    "## FindMin() and DeleteMin() Operations\n",
    "- FindMin()\n",
    "    - It is easy. Just return the root value $A[1]$\n",
    "    - Runtime is $\\mathcal{O}(1)$\n",
    "    \n",
    "    <img src=\"images/week-06/heap12.png\">\n",
    "    \n",
    "- DeleteMin()\n",
    "    - Delete and return the root node.\n",
    "    \n",
    "    <img src=\"images/week-06/heap13.png\">"
   ]
  },
  {
   "cell_type": "markdown",
   "metadata": {},
   "source": [
    "## Maintain the Structure Property\n",
    "- We now have a “Hole” at the root\n",
    "    - Need to fill the hole with another value\n",
    "- When we get done, the tree will have one less node and must still be complete"
   ]
  },
  {
   "cell_type": "code",
   "execution_count": 7,
   "metadata": {},
   "outputs": [
    {
     "data": {
      "text/html": [
       "<table><tr><td><img src='images/week-06/heap13.png'></td><td><img src='images/week-06/heap14.png'></td></tr></table>"
      ],
      "text/plain": [
       "<IPython.core.display.HTML object>"
      ]
     },
     "metadata": {},
     "output_type": "display_data"
    }
   ],
   "source": [
    "display(HTML(\"<table><tr><td><img src='images/week-06/heap13.png'></td><td><img src='images/week-06/heap14.png'></td></tr></table>\"))"
   ]
  },
  {
   "cell_type": "markdown",
   "metadata": {},
   "source": [
    "## Maintain the Heap Property\n",
    "- The last value has lost its node\n",
    "    - we need to find a new place for it\n",
    "    \n",
    "    <img src=\"images/week-06/heap15.png\">"
   ]
  },
  {
   "cell_type": "markdown",
   "metadata": {},
   "source": [
    "## DeleteMin(): Percolate Down    \n",
    " \n",
    "<img src=\"images/week-06/heap16.png\">\n",
    "\n",
    "- Keep comparing with children $A[2i]$ and $A[2i+1]$\n",
    "- Copy smaller child up and go down one level\n",
    "- Done if both children are ≥ item or reached a leaf node\n",
    "- What is the run time?\n",
    "    - It is height of the tree, $\\mathcal{O}(\\log{n})$."
   ]
  },
  {
   "cell_type": "markdown",
   "metadata": {},
   "source": [
    "## Insertion: Insert($k$)  \n",
    "- Add a value to the tree\n",
    "- Structure and heap order properties must still be correct when we are done\n",
    "\n",
    "<img src=\"images/week-06/heap17.png\">"
   ]
  },
  {
   "cell_type": "markdown",
   "metadata": {},
   "source": [
    "## Maintain the Structure Property\n",
    "- The only valid place for a new node in a complete tree is at the end of the array\n",
    "- We need to decide on the correct value for the new node, and adjust\n",
    "<img src=\"images/week-06/heap18.png\">"
   ]
  },
  {
   "cell_type": "markdown",
   "metadata": {},
   "source": [
    "## Maintain the Heap Property\n",
    "- Where does the new value go?\n",
    "- We search on the path from the new place to the root to find the correct place for it in the tree\n",
    "\n",
    "<img src=\"images/week-06/heap19.png\">\n",
    "\n",
    "## Insertion: Percolate Up\n",
    "- Start at last node and keep comparing with parent $A[i/2]$\n",
    "- If parent larger, copy parent down and go up one level\n",
    "- Done if parent $\\le$ item or reached top node $A[1]$\n",
    "\n",
    "<img src=\"images/week-06/heap20.png\">"
   ]
  },
  {
   "cell_type": "markdown",
   "metadata": {},
   "source": [
    "## Insertion is done\n",
    "<img src=\"images/week-06/heap21.png\">\n",
    "\n",
    "- What is the run time?\n",
    "    - Again, it is height of the tree, $\\mathcal{O}(\\log{n})$."
   ]
  },
  {
   "cell_type": "code",
   "execution_count": 8,
   "metadata": {},
   "outputs": [],
   "source": [
    "class BinHeap:\n",
    "    def __init__(self):\n",
    "        self.heapList = [0]\n",
    "        self.currentSize = 0\n",
    "\n",
    "\n",
    "    def percUp(self,i):\n",
    "        while i // 2 > 0:\n",
    "            if self.heapList[i] < self.heapList[i // 2]:\n",
    "                tmp = self.heapList[i // 2]\n",
    "                self.heapList[i // 2] = self.heapList[i]\n",
    "                self.heapList[i] = tmp\n",
    "            i = i // 2\n",
    "\n",
    "    def insert(self,k):\n",
    "        self.heapList.append(k)\n",
    "        self.currentSize = self.currentSize + 1\n",
    "        self.percUp(self.currentSize)\n",
    "\n",
    "    def percDown(self,i):\n",
    "        while (i * 2) <= self.currentSize:\n",
    "            mc = self.minChild(i)\n",
    "            if self.heapList[i] > self.heapList[mc]:\n",
    "                tmp = self.heapList[i]\n",
    "                self.heapList[i] = self.heapList[mc]\n",
    "                self.heapList[mc] = tmp\n",
    "            i = mc\n",
    "\n",
    "    def minChild(self,i):\n",
    "        if i * 2 + 1 > self.currentSize:\n",
    "            return i * 2\n",
    "        else:\n",
    "            if self.heapList[i*2] < self.heapList[i*2+1]:\n",
    "                return i * 2\n",
    "            else:\n",
    "                return i * 2 + 1\n",
    "\n",
    "    def delMin(self):\n",
    "        retval = self.heapList[1]\n",
    "        self.heapList[1] = self.heapList[self.currentSize]\n",
    "        self.currentSize = self.currentSize - 1\n",
    "        self.heapList.pop()\n",
    "        self.percDown(1)\n",
    "        return retval\n",
    "    \n",
    "    def findMin(self):\n",
    "        pass\n",
    "\n",
    "    def buildHeap(self,alist):\n",
    "        i = len(alist) // 2\n",
    "        self.currentSize = len(alist)\n",
    "        self.heapList = [0] + alist[:]\n",
    "        while (i > 0):\n",
    "            self.percDown(i)\n",
    "            i = i - 1\n",
    "            \n",
    "    def Print(self): \n",
    "        for i in range(1, (self.currentSize//2)+1): \n",
    "            print(\" PARENT : \"+ str(self.heapList[i])+\" LEFT CHILD : \"+ \n",
    "                                str(self.heapList[2 * i])+\" RIGHT CHILD : \"+\n",
    "                                str(self.heapList[2 * i + 1])) "
   ]
  },
  {
   "cell_type": "markdown",
   "metadata": {},
   "source": [
    "## Build Heap\n",
    "- Suppose you have $n$ items to put in a new (empty) priority queue\n",
    "    - Call this operation buildHeap\n",
    "- $n$ inserts works\n",
    "    - $\\mathcal{O}(n\\log{n})$\n",
    "    \n",
    "- On the other hand, the algorithm called Floyd’s Method does faster\n",
    "    - Efficiency: $\\mathcal{O}(n)$\n",
    "    - The main steps are:\n",
    "        - Use $n$ items to make any complete tree you want\n",
    "            - That is, put them in array indices $1,2,\\cdots ,n$\n",
    "        - Treat it as a heap and fix the heap-order property\n",
    "            - Bottom-up: leaves are already in heap order, work up toward the root one level at a time"
   ]
  },
  {
   "cell_type": "raw",
   "metadata": {},
   "source": [
    "The basic idea:\n",
    "- Start with an array of all n elements\n",
    "- Start traversing backwards – e.g. from the bottom of the tree to the top\n",
    "- Call percolateDown(...) per each node"
   ]
  },
  {
   "cell_type": "markdown",
   "metadata": {},
   "source": [
    "            \n",
    "<img src=\"images/week-06/heapBuild1.png\">\n",
    "\n",
    "<img src=\"images/week-06/heapBuild2.png\">\n",
    "\n",
    "<img src=\"images/week-06/heapBuild3.png\">\n",
    "\n",
    "<img src=\"images/week-06/heapBuild4.png\">\n",
    "\n",
    "<img src=\"images/week-06/heapBuild5.png\">\n",
    "\n",
    "<img src=\"images/week-06/heapBuild6.png\">"
   ]
  },
  {
   "cell_type": "code",
   "execution_count": 9,
   "metadata": {},
   "outputs": [],
   "source": [
    "bh = BinHeap()\n",
    "bh.buildHeap([2,4,6,7,5,3,1])"
   ]
  },
  {
   "cell_type": "code",
   "execution_count": 10,
   "metadata": {},
   "outputs": [
    {
     "name": "stdout",
     "output_type": "stream",
     "text": [
      "[1, 4, 2, 7, 5, 3, 6]\n"
     ]
    }
   ],
   "source": [
    "print(bh.heapList[1:bh.currentSize+1])"
   ]
  },
  {
   "cell_type": "code",
   "execution_count": 11,
   "metadata": {},
   "outputs": [
    {
     "name": "stdout",
     "output_type": "stream",
     "text": [
      " PARENT : 1 LEFT CHILD : 4 RIGHT CHILD : 2\n",
      " PARENT : 4 LEFT CHILD : 7 RIGHT CHILD : 5\n",
      " PARENT : 2 LEFT CHILD : 3 RIGHT CHILD : 6\n"
     ]
    }
   ],
   "source": [
    "bh.Print()"
   ]
  },
  {
   "cell_type": "code",
   "execution_count": 12,
   "metadata": {},
   "outputs": [
    {
     "name": "stdout",
     "output_type": "stream",
     "text": [
      "1\n"
     ]
    }
   ],
   "source": [
    "print(bh.delMin())"
   ]
  },
  {
   "cell_type": "code",
   "execution_count": null,
   "metadata": {},
   "outputs": [],
   "source": [
    "bh.Print()"
   ]
  },
  {
   "cell_type": "code",
   "execution_count": 14,
   "metadata": {},
   "outputs": [
    {
     "name": "stdout",
     "output_type": "stream",
     "text": [
      "[2, 4, 3, 7, 5, 6]\n"
     ]
    }
   ],
   "source": [
    "print(bh.heapList[1:bh.currentSize+1])"
   ]
  },
  {
   "cell_type": "code",
   "execution_count": null,
   "metadata": {},
   "outputs": [],
   "source": [
    "print(bh.heapList[1:bh.currentSize+1])"
   ]
  },
  {
   "cell_type": "code",
   "execution_count": null,
   "metadata": {},
   "outputs": [],
   "source": [
    "print(bh.delMin())\n",
    "print(bh.delMin())\n",
    "print(bh.delMin())\n",
    "print(bh.delMin())"
   ]
  },
  {
   "cell_type": "code",
   "execution_count": null,
   "metadata": {},
   "outputs": [],
   "source": [
    "bh1 = BinHeap()\n",
    "bh1.buildHeap([9,5,6,2,3])"
   ]
  },
  {
   "cell_type": "code",
   "execution_count": null,
   "metadata": {},
   "outputs": [],
   "source": []
  }
 ],
 "metadata": {
  "anaconda-cloud": {},
  "kernelspec": {
   "display_name": "Python 3 (ipykernel)",
   "language": "python",
   "name": "python3"
  },
  "language_info": {
   "codemirror_mode": {
    "name": "ipython",
    "version": 3
   },
   "file_extension": ".py",
   "mimetype": "text/x-python",
   "name": "python",
   "nbconvert_exporter": "python",
   "pygments_lexer": "ipython3",
   "version": "3.10.9"
  }
 },
 "nbformat": 4,
 "nbformat_minor": 1
}
