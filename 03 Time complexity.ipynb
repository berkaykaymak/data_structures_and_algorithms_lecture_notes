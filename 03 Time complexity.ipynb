{
 "cells": [
  {
   "cell_type": "markdown",
   "metadata": {},
   "source": [
    "# Algorithm analysis - Time Complexity "
   ]
  },
  {
   "cell_type": "markdown",
   "metadata": {},
   "source": [
    "- *Time complexity* estimates the time to run an algorithm. \n",
    "- It's calculated by counting elementary operations."
   ]
  },
  {
   "cell_type": "markdown",
   "metadata": {},
   "source": [
    "Textbook: Problem Solving With Algorithms and Data Structures Using Python by Brad Miller and David Ranum, Luther College\n",
    "It can be reached at: https://runestone.academy/runestone/books/published/pythonds/index.html"
   ]
  },
  {
   "cell_type": "markdown",
   "metadata": {},
   "source": [
    "**Algorithm** is a step-by-step procedure, which defines a set of instructions to be executed in a certain order to get the desired output."
   ]
  },
  {
   "cell_type": "markdown",
   "metadata": {},
   "source": [
    "### Characteristics of an Algorithm\n",
    "An algorithm should have the following characteristics −\n",
    "\n",
    "- **Unambiguous** − Algorithm should be clear and unambiguous. Each of its steps (or phases), and their inputs/outputs should be clear and must lead to only one meaning.\n",
    "\n",
    "- **Input** − An algorithm should have 0 or more well-defined inputs.\n",
    "- **Output** − An algorithm should have 1 or more well-defined outputs, and should match the desired output.\n",
    "- **Finiteness** − Algorithms must terminate after a finite number of steps.\n",
    "- **Feasibility** − Should be feasible with the available resources.\n",
    "- **Independent** − An algorithm should have step-by-step directions, which should be independent of any programming code."
   ]
  },
  {
   "cell_type": "markdown",
   "metadata": {},
   "source": [
    "An example of an algorithm:\n",
    "\n",
    "Step 1 − START\n",
    "\n",
    "Step 2 − declare three integers a, b & c\n",
    "\n",
    "Step 3 − define values of a & b\n",
    "\n",
    "Step 4 − add values of a & b\n",
    "\n",
    "Step 5 − store output of step 4 to c\n",
    "\n",
    "Step 6 − print c\n",
    "\n",
    "Step 7 − STOP"
   ]
  },
  {
   "cell_type": "code",
   "execution_count": 5,
   "metadata": {},
   "outputs": [],
   "source": [
    "a=5\n",
    "b=3"
   ]
  },
  {
   "cell_type": "code",
   "execution_count": 6,
   "metadata": {},
   "outputs": [
    {
     "name": "stdout",
     "output_type": "stream",
     "text": [
      "5 3\n"
     ]
    }
   ],
   "source": [
    "print(a,b)"
   ]
  },
  {
   "cell_type": "code",
   "execution_count": 3,
   "metadata": {},
   "outputs": [],
   "source": [
    "a=b\n",
    "b=a"
   ]
  },
  {
   "cell_type": "code",
   "execution_count": 4,
   "metadata": {},
   "outputs": [
    {
     "name": "stdout",
     "output_type": "stream",
     "text": [
      "3 3\n"
     ]
    }
   ],
   "source": [
    "print(a,b)"
   ]
  },
  {
   "cell_type": "code",
   "execution_count": 7,
   "metadata": {},
   "outputs": [],
   "source": [
    "temp=a\n",
    "a=b\n",
    "b=temp"
   ]
  },
  {
   "cell_type": "code",
   "execution_count": 8,
   "metadata": {},
   "outputs": [
    {
     "name": "stdout",
     "output_type": "stream",
     "text": [
      "3 5\n"
     ]
    }
   ],
   "source": [
    "print(a,b)"
   ]
  },
  {
   "cell_type": "code",
   "execution_count": null,
   "metadata": {},
   "outputs": [],
   "source": [
    "n=5\n",
    "n=n+1\n",
    "print(n)"
   ]
  },
  {
   "cell_type": "markdown",
   "metadata": {},
   "source": [
    "### Algorithm analysis \n",
    "- It is concerned with comparing algorithms based upon the amount of **computing resources** that each algorithm uses. \n",
    "- We want to be able to consider two algorithms and say that one is better than the other because it is more efficient in its use of those resources or perhaps because it simply uses fewer.\n",
    "\n",
    "- It is important to think more about what we really mean by computing resources. \n",
    "- There are two different ways to look at this.\n",
    "    - The amount of space or memory an algorithm requires to solve the problem - i.e. space requirements, space complexity\n",
    "    - The amount of time they require to execute - i.e. time requirements, time complexity\n",
    "\n",
    "- We analyze and compare algorithms based on the amount of time they require to execute. \n",
    "- This measure is sometimes referred to as the “execution time” or “running time” of the algorithm. \n",
    "- One way we can measure the execution time to do a benchmark analysis. It means that we will track the actual time required for the program to compute its result."
   ]
  },
  {
   "cell_type": "code",
   "execution_count": 9,
   "metadata": {},
   "outputs": [],
   "source": [
    "import numpy as np\n",
    "import matplotlib.pyplot as plt\n",
    "import time"
   ]
  },
  {
   "cell_type": "code",
   "execution_count": 14,
   "metadata": {},
   "outputs": [],
   "source": [
    "a = np.random.rand(60000)"
   ]
  },
  {
   "cell_type": "code",
   "execution_count": 12,
   "metadata": {},
   "outputs": [
    {
     "name": "stdout",
     "output_type": "stream",
     "text": [
      "[0.98458514 0.53939115 0.0805674  0.87992305 0.97455284 0.5011803\n",
      " 0.19888519 0.28920894 0.62932431 0.57419096 0.01153628 0.21688412\n",
      " 0.64207058 0.91092596 0.02066546 0.1671004  0.44486711 0.95933422\n",
      " 0.74346506 0.45823503 0.45297636 0.05515901 0.35720651 0.3510896\n",
      " 0.82810082 0.80987648 0.09392757 0.86757286 0.77076344 0.71172608\n",
      " 0.63415142 0.88852884 0.17750909 0.4683538  0.50690315 0.88956413\n",
      " 0.28783421 0.79270853 0.09680693 0.97368026 0.46831196 0.82114412\n",
      " 0.49888194 0.52441721 0.00327317 0.22336013 0.70998073 0.05631381\n",
      " 0.6431082  0.4765301  0.64054562 0.78170659 0.90877635 0.44943241\n",
      " 0.8886925  0.93703926 0.1492901  0.45721861 0.52016625 0.38105602]\n"
     ]
    }
   ],
   "source": [
    "print(a)"
   ]
  },
  {
   "cell_type": "code",
   "execution_count": 15,
   "metadata": {},
   "outputs": [],
   "source": [
    "def firstElement(a): # Return the first elemet of an array list\n",
    "    return a[0]"
   ]
  },
  {
   "cell_type": "code",
   "execution_count": null,
   "metadata": {},
   "outputs": [],
   "source": [
    "a"
   ]
  },
  {
   "cell_type": "code",
   "execution_count": null,
   "metadata": {},
   "outputs": [],
   "source": [
    "firstElement(a)"
   ]
  },
  {
   "cell_type": "code",
   "execution_count": 16,
   "metadata": {},
   "outputs": [],
   "source": [
    "def sumoffirstnposint(n):\n",
    "# result 1+2+3+....+n\n",
    "    sum=0\n",
    "    for i in range(1,n+1):\n",
    "        sum=sum+i \n",
    "    return sum"
   ]
  },
  {
   "cell_type": "code",
   "execution_count": null,
   "metadata": {},
   "outputs": [],
   "source": [
    "sum=0\n",
    "n=7\n",
    "for i in range(1,n+1):\n",
    "    sum=sum+i \n",
    "    print(i,sum)\n",
    "    i=5+i\n",
    "    print(i)"
   ]
  },
  {
   "cell_type": "code",
   "execution_count": 17,
   "metadata": {},
   "outputs": [],
   "source": [
    "def sumoffirstnposintFormula(n):\n",
    "    return n*(n+1)/2"
   ]
  },
  {
   "cell_type": "code",
   "execution_count": 20,
   "metadata": {},
   "outputs": [
    {
     "name": "stdout",
     "output_type": "stream",
     "text": [
      "sum is  1.12500000075e+18\n"
     ]
    }
   ],
   "source": [
    "print(\"sum is \",sumoffirstnposintFormula(1500000000))"
   ]
  },
  {
   "cell_type": "code",
   "execution_count": 19,
   "metadata": {},
   "outputs": [
    {
     "name": "stdout",
     "output_type": "stream",
     "text": [
      "sum is  1125000000750000000\n"
     ]
    }
   ],
   "source": [
    "print(\"sum is \",sumoffirstnposint(1500000000))"
   ]
  },
  {
   "cell_type": "markdown",
   "metadata": {},
   "source": [
    "## Example - Fibonacci Numbers"
   ]
  },
  {
   "cell_type": "markdown",
   "metadata": {},
   "source": [
    "Fibonacci numbers are:\n",
    "$$F_{1}=1, F_{2}=1,\\quad \\textrm{and}\\quad F_{n}=F_{n-1}+F_{n-2}\\quad \\textrm{when}\\quad n>2.$$"
   ]
  },
  {
   "cell_type": "code",
   "execution_count": 21,
   "metadata": {},
   "outputs": [],
   "source": [
    "def myFibonacciRecursive(n):\n",
    "    if (n==1 or n==2): return 1\n",
    "    else: return myFibonacciRecursive(n-1)+myFibonacciRecursive(n-2)"
   ]
  },
  {
   "cell_type": "code",
   "execution_count": 22,
   "metadata": {},
   "outputs": [],
   "source": [
    "import numpy as np\n",
    "def myFibonacci(n):\n",
    "    if (n==1 or n==2): \n",
    "        return 1\n",
    "    else: \n",
    "        F=np.zeros(n) \n",
    "        F[0]=1\n",
    "        F[1]=1\n",
    "        for i in range(2,n):\n",
    "            F[i]=F[i-1]+F[i-2]\n",
    "    return F[n-1]"
   ]
  },
  {
   "cell_type": "code",
   "execution_count": 25,
   "metadata": {},
   "outputs": [
    {
     "data": {
      "text/plain": [
       "102334155"
      ]
     },
     "execution_count": 25,
     "metadata": {},
     "output_type": "execute_result"
    }
   ],
   "source": [
    "myFibonacciRecursive(40)"
   ]
  },
  {
   "cell_type": "code",
   "execution_count": 27,
   "metadata": {},
   "outputs": [
    {
     "name": "stdout",
     "output_type": "stream",
     "text": [
      "12586269025\n"
     ]
    }
   ],
   "source": [
    "print(int(myFibonacci(50)))"
   ]
  },
  {
   "cell_type": "code",
   "execution_count": 29,
   "metadata": {},
   "outputs": [
    {
     "data": {
      "text/plain": [
       "array([  50000,  100000,  150000,  200000,  250000,  300000,  350000,\n",
       "        400000,  450000,  500000,  550000,  600000,  650000,  700000,\n",
       "        750000,  800000,  850000,  900000,  950000, 1000000], dtype=int64)"
      ]
     },
     "execution_count": 29,
     "metadata": {},
     "output_type": "execute_result"
    }
   ],
   "source": [
    "x = np.arange( 50000, 1000001, 50000,dtype='int64')\n",
    "y = np.zeros(len(x),dtype='int64')\n",
    "x"
   ]
  },
  {
   "cell_type": "code",
   "execution_count": null,
   "metadata": {},
   "outputs": [],
   "source": [
    "print(x,len(x))\n",
    "print(y)"
   ]
  },
  {
   "cell_type": "code",
   "execution_count": 32,
   "metadata": {},
   "outputs": [],
   "source": [
    "i=0\n",
    "for val in x:\n",
    "    a = np.random.rand(val)\n",
    "    s = time.process_time_ns()\n",
    "    firstElement(a)\n",
    "    e = time.process_time_ns()\n",
    "    y[i] = e - s\n",
    "    i=i+1"
   ]
  },
  {
   "cell_type": "code",
   "execution_count": 33,
   "metadata": {},
   "outputs": [
    {
     "name": "stdout",
     "output_type": "stream",
     "text": [
      "[0 0 0 0 0 0 0 0 0 0 0 0 0 0 0 0 0 0 0 0]\n"
     ]
    }
   ],
   "source": [
    "print(y)"
   ]
  },
  {
   "cell_type": "code",
   "execution_count": 34,
   "metadata": {},
   "outputs": [
    {
     "data": {
      "image/png": "[encoded data removed]",
      "text/plain": [
       "<Figure size 640x480 with 1 Axes>"
      ]
     },
     "metadata": {},
     "output_type": "display_data"
    }
   ],
   "source": [
    "plt.plot(x, y, 'ro')\n",
    "plt.axis([0, 1000101, -0.01, .2])\n",
    "plt.show()"
   ]
  },
  {
   "cell_type": "code",
   "execution_count": 35,
   "metadata": {},
   "outputs": [],
   "source": [
    "x = np.arange( 50000, 10000001, 500000,dtype='int64' )\n",
    "yFormula = np.zeros(len(x),dtype='int64')"
   ]
  },
  {
   "cell_type": "code",
   "execution_count": 36,
   "metadata": {},
   "outputs": [],
   "source": [
    "i=0\n",
    "for val in x:\n",
    "    s = time.process_time()\n",
    "    sumoffirstnposintFormula(val)\n",
    "    e = time.process_time()\n",
    "    yFormula[i] = e - s\n",
    "    i=i+1"
   ]
  },
  {
   "cell_type": "code",
   "execution_count": 37,
   "metadata": {},
   "outputs": [
    {
     "data": {
      "image/png": "[encoded data removed]",
      "text/plain": [
       "<Figure size 640x480 with 1 Axes>"
      ]
     },
     "metadata": {},
     "output_type": "display_data"
    }
   ],
   "source": [
    "plt.plot(x, yFormula, 'ro')\n",
    "plt.axis([0, 10001001, -0.1, .2])\n",
    "plt.show()"
   ]
  },
  {
   "cell_type": "code",
   "execution_count": 38,
   "metadata": {},
   "outputs": [],
   "source": [
    "x = np.arange( 50000, 10000001, 500000 )\n",
    "y = np.zeros(len(x))"
   ]
  },
  {
   "cell_type": "code",
   "execution_count": 39,
   "metadata": {},
   "outputs": [],
   "source": [
    "i=0\n",
    "for val in x:\n",
    "    s = time.process_time()\n",
    "    sumoffirstnposint(val)\n",
    "    e = time.process_time()\n",
    "    y[i] = e - s\n",
    "    i=i+1"
   ]
  },
  {
   "cell_type": "code",
   "execution_count": 41,
   "metadata": {},
   "outputs": [
    {
     "data": {
      "image/png": "[encoded data removed]",
      "text/plain": [
       "<Figure size 640x480 with 1 Axes>"
      ]
     },
     "metadata": {},
     "output_type": "display_data"
    }
   ],
   "source": [
    "plt.plot(x, y, 'ro')\n",
    "plt.axis([0, 10000101, -0.00001, 0.75])\n",
    "plt.show()"
   ]
  },
  {
   "cell_type": "code",
   "execution_count": 42,
   "metadata": {},
   "outputs": [
    {
     "data": {
      "image/png": "[encoded data removed]",
      "text/plain": [
       "<Figure size 640x480 with 1 Axes>"
      ]
     },
     "metadata": {},
     "output_type": "display_data"
    }
   ],
   "source": [
    "plt.plot(x, y, 'ro',x, yFormula, 'bo')\n",
    "plt.axis([0, 10000101, -0.1, 1.2])\n",
    "plt.show()"
   ]
  },
  {
   "cell_type": "code",
   "execution_count": 48,
   "metadata": {},
   "outputs": [],
   "source": [
    "x = np.arange( 5, 46, 5 )\n",
    "y = np.zeros(len(x))"
   ]
  },
  {
   "cell_type": "code",
   "execution_count": 49,
   "metadata": {},
   "outputs": [],
   "source": [
    "i=0\n",
    "for val in x:\n",
    "    s = time.process_time()\n",
    "    myFibonacciRecursive(val)\n",
    "    e = time.process_time()\n",
    "    y[i] = e - s\n",
    "    i=i+1"
   ]
  },
  {
   "cell_type": "code",
   "execution_count": 50,
   "metadata": {},
   "outputs": [
    {
     "data": {
      "text/plain": [
       "array([0.000000e+00, 0.000000e+00, 0.000000e+00, 0.000000e+00,\n",
       "       3.125000e-02, 4.375000e-01, 4.593750e+00, 5.031250e+01,\n",
       "       5.445625e+02])"
      ]
     },
     "execution_count": 50,
     "metadata": {},
     "output_type": "execute_result"
    }
   ],
   "source": [
    "y"
   ]
  },
  {
   "cell_type": "code",
   "execution_count": 54,
   "metadata": {},
   "outputs": [
    {
     "data": {
      "image/png": "[encoded data removed]",
      "text/plain": [
       "<Figure size 640x480 with 1 Axes>"
      ]
     },
     "metadata": {},
     "output_type": "display_data"
    }
   ],
   "source": [
    "plt.plot(x, y, 'bo')\n",
    "plt.axis([0, 46, -5, 55])\n",
    "plt.show()"
   ]
  },
  {
   "cell_type": "markdown",
   "metadata": {},
   "source": [
    "## Data structures\n",
    "- A __data structure__ is a way to organize to enable efficient computation over that information\n",
    "\n",
    "- A data structure supports certain operations, each with a:\n",
    "    - Meaning: what does the operation do/return\n",
    "    - Performance: how efficient is the operation\n",
    "\n",
    "Examples of data structures:\n",
    "- List  with operations insert and delete\n",
    "- Stack  with operations push(insert an element) and pop (delete the element at the top)\n",
    "\n",
    "Data structures are important in coding efficient programs."
   ]
  },
  {
   "cell_type": "markdown",
   "metadata": {},
   "source": [
    "What is an “Efficient” Algorithm?\n",
    "- Efficiency measures\n",
    "    - Small amount of time,\n",
    "    - Low memory usage,\n",
    "    - Low power consumption,\n",
    "\n",
    "But there are unavoidable trade-offs:\n",
    "- Time vs. space\n",
    "- One operation more efficient if another less efficient\n",
    "- Generality vs. simplicity vs. performance"
   ]
  },
  {
   "cell_type": "markdown",
   "metadata": {},
   "source": [
    "## Measuring Running Time\n",
    "- Experimentally\n",
    "    - Implement algorithm\n",
    "    - Run program with inputs of varying size\n",
    "    - Measure running times\n",
    "    - Plot results (**Exercise: plot problem size vs running time, then see the diffence between myFibonacciRecursive and myFibonacci**)\n",
    "    \n",
    "- Running Time\n",
    "    - Grows with the input size\n",
    "        - Focus on large inputs\n",
    "    - Varies with input\n",
    "        - Consider the **worst-case** input"
   ]
  },
  {
   "cell_type": "code",
   "execution_count": null,
   "metadata": {},
   "outputs": [],
   "source": [
    "def myArrayElement(a):\n",
    "    return a[0] ## Two operations: index 0 and return\n",
    "alist = ['red','green','blue']\n",
    "myArrayElement(alist)"
   ]
  },
  {
   "cell_type": "code",
   "execution_count": null,
   "metadata": {},
   "outputs": [],
   "source": [
    "A=np.random.rand(1000) \n",
    "myArrayElement(A)"
   ]
  },
  {
   "cell_type": "code",
   "execution_count": null,
   "metadata": {},
   "outputs": [],
   "source": [
    "nsize=10\n",
    "B=np.random.rand(nsize) "
   ]
  },
  {
   "cell_type": "code",
   "execution_count": null,
   "metadata": {},
   "outputs": [],
   "source": [
    "def myargmax(array):\n",
    "    # Input: an array\n",
    "    # Output: the index of the maximum value\n",
    "    index = 0 # assignment, 1 op\n",
    "    mylength = array.shape[0] # assignment, 2 op\n",
    "    for i in range(1,mylength): # 1 op per loop\n",
    "        if array[i] > array[index]: # 3 ops per loop\n",
    "            index = i # 1 op per loop, but not always\n",
    "    return index # 1 op"
   ]
  },
  {
   "cell_type": "code",
   "execution_count": null,
   "metadata": {},
   "outputs": [],
   "source": [
    "myargmax(B)"
   ]
  },
  {
   "cell_type": "code",
   "execution_count": null,
   "metadata": {},
   "outputs": [],
   "source": [
    "2**20"
   ]
  },
  {
   "cell_type": "markdown",
   "metadata": {},
   "source": [
    "- How many operations if the list has 10 elements? 100,000 elements?\n",
    "    - Varies proportional to the size of the input list: 5*nsize + 4\n",
    "    - Note that the **for** loop longer and longer as the input list grows\n",
    "    - Thus, if we plot nsize against running time, the runtime would increase linearly"
   ]
  },
  {
   "cell_type": "markdown",
   "metadata": {},
   "source": [
    "## Terminology\n",
    "- Abstract Data Type (ADT)\n",
    "    - Mathematical description of a “thing” with set of operations\n",
    "    - Not concerned with implementation details\n",
    "\n",
    "- Algorithm\n",
    "    - A high level, language-independent description of a step-by-step process\n",
    "\n",
    "- Data structure\n",
    "    - A specific organization of data and family of algorithms for implementing an ADT\n",
    "\n",
    "- Implementation of a data structure\n",
    "    - A specific implementation in a specific language\n",
    "    "
   ]
  },
  {
   "cell_type": "markdown",
   "metadata": {},
   "source": [
    "## For example : Stacks\n",
    "- The Stack ADT supports operations:\n",
    "    - isEmpty: have there been same number of pops as pushes\n",
    "    - push: takes an item\n",
    "    - pop: raises an error if empty, else returns most-recently pushed item\n",
    "    - top: returns the top element of the stack\n",
    "    \n",
    "A Stack **data structure** could use a _linked-list_ or an _array_ or something else, and associated algorithms for the operations"
   ]
  },
  {
   "cell_type": "markdown",
   "metadata": {},
   "source": [
    "## Time Complexity\n",
    "\n",
    "Given an algorithm can you estimate how much time and memory it will take to process a given amount of data?\n",
    "\n",
    "- Asymptotic complexity : It is mathematical description of \"how much time (and sometimes space) it takes to solve a problem of a given input size\".\n",
    "\n",
    "- When the problem size is $n$, we will say that \"program A takes $2\\log{n}+1$ to produce its output\".\n",
    "    - The time complexity of the program A is $2\\log{n}+1$,\n",
    "    - $T(n)=$$2\\log{n}+1$.\n",
    "- OR \"It requires $2n+5$ space to run\".\n",
    "    - The space complexity of the program A is $2n+5$,\n",
    "    - $S(n)=2n+5$.\n",
    "- Usually, when $n$ increases both the time complexity and the space complexity increase.\n",
    "\n",
    "### Exercise\n",
    "**Program A** has complexity $10000\\log{n}+2020$ and **Program B** $\\frac{1}{10000}n$. Which program would you prefer. Describe why?\n"
   ]
  },
  {
   "cell_type": "markdown",
   "metadata": {},
   "source": [
    "How can we characterize the comparison between two programs?\n",
    "- Readability?\n",
    "- Space (storage) usage (requirement)\n",
    "- Execution time"
   ]
  },
  {
   "cell_type": "markdown",
   "metadata": {},
   "source": [
    "We have seen two different programs **myFibonacciRecursive** and **myFibonacci**, but they compute the same thing.\n",
    "\n",
    "However, their running times are different."
   ]
  },
  {
   "cell_type": "markdown",
   "metadata": {},
   "source": [
    "Many factors could affect the performance programs\n",
    "- A different (faster, slower) computer\n",
    "- A different language is used\n",
    "\n",
    "That's why we need a characterization that describes algorithm performance regardless of these kinds of variability."
   ]
  },
  {
   "cell_type": "markdown",
   "metadata": {},
   "source": [
    "## Asymptotic Analysis\n",
    "Asymptotic analysis of an algorithm refers to defining the mathematical boundation/framing of its run-time performance. "
   ]
  },
  {
   "cell_type": "markdown",
   "metadata": {},
   "source": [
    "The answer is **Big O**, read as _\"big ohh\"_.\n",
    "\n",
    "- It is an asymptotic complexity measure,\n",
    "- It gives upper bound for computational complexity,\n",
    "- Its notation $\\mathcal{O}$, for example, $\\mathcal{O}(\\log{n})$\n",
    "- There are other types of (asymptotic) computational complexity estimates:\n",
    "- Lower bounds, \"Big Omega\" notation; e.g., $\\Omega(n)$ \n",
    "- Asymptotically tight estimates, when the asymptotic upper and lower bounds coincide, \"big Theta\"; e.g., $\\Theta(n log n)$."
   ]
  },
  {
   "cell_type": "markdown",
   "metadata": {},
   "source": [
    "Usually, the time required by an algorithm falls under three types −\n",
    "\n",
    "- **Best Case** − Minimum time required for program execution.\n",
    "- **Average Case** − Average time required for program execution.\n",
    "- **Worst Case** − Maximum time required for program execution."
   ]
  },
  {
   "cell_type": "markdown",
   "metadata": {},
   "source": [
    "# Big O - $\\mathcal{O}$\n",
    "\n",
    "The Big O notation defines an upper bound of an algorithm, it bounds a function only from above.\n",
    "\n",
    "Its mathematical definition is\n",
    "\n",
    "$\\mathcal{O}(g(n)) = \\{ f(n):\\, \\textrm{there exist positive constants}\\, c \\,\\textrm{and}\\,n_{0}\\, \\textrm{such that}\\, 0 \\le f(n) \\le c g(n) \\,\\textrm{for all}, n \\ge n_{0}\\}$\n",
    "\n",
    "OR\n",
    "\n",
    "$f(n)=\\mathcal{O}(g(n)) \\textrm{ if and only if there exist positive constants}\\, c \\,\\textrm{and}\\,n_{0}\\, \\textrm{such that}\\, 0 \\le f(n) \\le c g(n) \\,\\textrm{for all}, n \\ge n_{0}$\n",
    "\n",
    "\n",
    "<img src=\"images/week-03/asymptotic_notation_big_ohh.png\" width=\"300\" height=\"300\">\n",
    "\n",
    "- Note that big $\\mathcal{O}$ gives an upper bound for $f(n)$,\n",
    "- Also note that $f(n)$ grows at least as quickly as $g(n)$.\n",
    "\n",
    "For example, $2n^{2}=\\mathcal{O}(n^{3})$, but also $2n^{2}=\\mathcal{O}(n^{2})$."
   ]
  },
  {
   "cell_type": "markdown",
   "metadata": {},
   "source": [
    "Let consider **myargmax** program. Its time complexity is $T(n)=5n+4000000$. \n",
    "\n",
    "It means $T(n)$ is the time that  **myargmax** takes to solve the problem of size $n$, i.e. $5n+4$ steps.\n",
    "\n",
    "Observe that the problem size increases the first term dominates.\n",
    "\n",
    "Big-O $\\mathcal{O}$ function describes the part of $T(n)$ that increases the fastest as $n$ increases, i.e. the dominate part of $T(n)$.\n",
    "\n",
    "Therefore, $\\mathcal{O}(T(n))=n$."
   ]
  },
  {
   "cell_type": "markdown",
   "metadata": {},
   "source": [
    "### Example\n",
    "\n",
    "$T(n)=10n^{2}+50n+100$, then $\\mathcal{O}(T(n))=?$.\n",
    "\\begin{align*}\n",
    "10n^{2}+50n+100&=10n^{2}+5(10n)+10\\times 10\\\\\n",
    "&\\le 10n^{2}+5n^{2}+n^{2}\\quad\\textrm{when}\\, n\\ge 10\\\\\n",
    "&\\le 16n^{2}\n",
    "\\end{align*}\n",
    "Thus,\n",
    "$$T(n)\\le 16n^{2},\\quad n\\ge 10$$\n",
    "and \n",
    "$$T(n)=\\mathcal{O}(n^{2}).$$"
   ]
  },
  {
   "cell_type": "markdown",
   "metadata": {},
   "source": [
    "In general, when computing $\\mathcal{O}$\n",
    "- Eliminate low-order terms, i.e. eliminate n, and constant 100\n",
    "- Eliminate coefficients, i.e. eliminate 10.\n",
    "\n",
    "<table style=\"width:100%\">\n",
    "  <tr>\n",
    "    <th style=\"text-align: center; vertical-align: middle;\">Function</th>\n",
    "    <th style=\"text-align: center; vertical-align: middle;\">Big-O</th>\n",
    "  </tr>\n",
    "  <tr>\n",
    "    <td style=\"text-align: center; vertical-align: middle;\">$4n+5$</td>\n",
    "    <td style=\"text-align: center; vertical-align: middle;\">$\\mathcal{O}(n)$</td>\n",
    "  </tr>\n",
    "  <tr>\n",
    "    <td style=\"text-align: center; vertical-align: middle;\">$0.5n\\log{n}+2n+5$</td>\n",
    "    <td style=\"text-align: center; vertical-align: middle;\">$\\mathcal{O}(n\\log{n})$</td>\n",
    "  </tr>\n",
    "  <tr>\n",
    "    <td style=\"text-align: center; vertical-align: middle;\">$n^{3}+2^{n}+4n+5$</td>\n",
    "    <td style=\"text-align: center; vertical-align: middle;\">$\\mathcal{O}(2^{n})$</td>\n",
    "  </tr>\n",
    "  <tr>\n",
    "    <td style=\"text-align: center; vertical-align: middle;\">$n\\log{(10n^{2})}$</td>\n",
    "    <td style=\"text-align: center; vertical-align: middle;\">$\\mathcal{O}(n\\log{n})$ Exercise</td>\n",
    "  </tr>\n",
    "</table>"
   ]
  },
  {
   "cell_type": "markdown",
   "metadata": {},
   "source": [
    "### Comparison of Functions\n",
    "\n",
    "For large input size $n$, we have:\n",
    "$$c\\le \\log{n}\\le n\\le n\\log{n}\\le n^{2}\\le n^{3}\\le a^{n}$$\n",
    "where $c$ is a constant and $a>1$.\n",
    "<img src=\"images/week-03/bigOfunctions.png\" width=\"500\" height=\"500\">"
   ]
  },
  {
   "cell_type": "markdown",
   "metadata": {},
   "source": [
    "## Question\n",
    "Would you prefer \"Slow Program, Fast Computer\" or \"Fast Program, Slow Computer\"?\n",
    "<img src=\"images/week-03/comparision of programs.png\"  width=\"400\" height=\"400\">"
   ]
  },
  {
   "cell_type": "markdown",
   "metadata": {},
   "source": [
    "# Big $\\Omega$-notation\n",
    "\n",
    "Big $\\Omega$  notation defines an lower bound of an algorithm, it bounds a function only from below. İt is read as \"Big Omega\".\n",
    "\n",
    "Its mathematical definition is\n",
    "\n",
    "$\\Omega(g(n)) = \\{ f(n):\\, \\textrm{there exist positive constants}\\, c \\,\\textrm{and}\\,n_{0}\\, \\textrm{such that}\\, 0 \\le c g(n) \\le f(n) \\,\\textrm{for all}, n \\ge n_{0}\\}$\n",
    "\n",
    "OR\n",
    "\n",
    "$f(n)=\\Omega(g(n)) = \\textrm{ if and only if there exist positive constants}\\, c \\,\\textrm{and}\\,n_{0}\\, \\textrm{such that}\\, 0 \\le c g(n) \\le f(n) \\,\\textrm{for all}, n \\ge n_{0}$\n",
    "\n",
    "<img src=\"images/week-03/asymptotic_notation_big_omega.png\" width=\"300\" height=\"300\">"
   ]
  },
  {
   "cell_type": "markdown",
   "metadata": {},
   "source": [
    "For example, $n^{3}=\\Omega(n^{2})$. Another example: $\\sqrt{n}=\\Omega(\\log{n})$, here $c=1$ and $n_{0}=16$ are possible choices.\n",
    "\n",
    "### Example\n",
    "\n",
    "$T(n)=10n^{2}+50n+100$, then $\\Omega(T(n))=?$.\n",
    "\n",
    "It is obvious that\n",
    "$$T(n)\\ge 10n^{2},\\quad n\\ge 0$$\n",
    "and \n",
    "$$T(n)=\\Omega(n^{2}).$$"
   ]
  },
  {
   "cell_type": "markdown",
   "metadata": {},
   "source": [
    "# $\\Theta$-notation\n",
    "\n",
    "Note that \n",
    "$$10n^{2}\\le 10n^{2}+50n+100\\le 16n^{2}$$\n",
    "when $n\\ge 16$. Which means one can bound $T(n)=10n^{2}+50n+100$ from both above and below. In this case, we write $$T(n)=\\Theta(n^{2}).$$\n",
    "\n",
    "\n",
    "$\\Theta$  notation defines tight bounds of an algorithm, it bounds a function from both below and above.\n",
    "\n",
    "The mathematical definition of $\\Theta$-notation is\n",
    "\n",
    "$\\Theta(g(n)) = \\{ f(n):\\, \\textrm{there exist positive constants}\\, c_{1},\\, c_{2} \\,\\textrm{and}\\,n_{0}\\, \\textrm{such that}\\, 0 \\le c_{1} g(n) \\le f(n) \\le c_{2} g(n) \\,\\textrm{for all}, n \\ge n_{0}\\}$\n",
    "\n",
    "OR\n",
    "\n",
    "$f(n)=\\Theta(g(n)) = \\textrm{ if and only if there exist positive constants}\\, c_{1},\\, c_{2} \\,\\textrm{and}\\,n_{0}\\, \\textrm{such that}\\, 0 \\le c_{1} g(n) \\le f(n) \\le c_{2} g(n) \\,\\textrm{for all}, n \\ge n_{0}$\n",
    "\n",
    "<img src=\"images/week-03/asymptotic_notation_big_theta.png\" width=\"300\" height=\"300\">"
   ]
  },
  {
   "cell_type": "markdown",
   "metadata": {},
   "source": [
    "$\\Theta$-notation is stronger that both $\\mathcal{O}$-notation and $\\Omega$-notation."
   ]
  },
  {
   "cell_type": "markdown",
   "metadata": {},
   "source": [
    "$\\mathcal{O}$-notation is used to provide worst-case running time.\n",
    "\n",
    "$\\Omega$-notation is used to provide best-case running time.\n",
    "\n",
    "$\\Theta$-notation is used to provide worst-case and best-case running times."
   ]
  },
  {
   "cell_type": "code",
   "execution_count": null,
   "metadata": {},
   "outputs": [],
   "source": []
  }
 ],
 "metadata": {
  "anaconda-cloud": {},
  "kernelspec": {
   "display_name": "Python 3 (ipykernel)",
   "language": "python",
   "name": "python3"
  },
  "language_info": {
   "codemirror_mode": {
    "name": "ipython",
    "version": 3
   },
   "file_extension": ".py",
   "mimetype": "text/x-python",
   "name": "python",
   "nbconvert_exporter": "python",
   "pygments_lexer": "ipython3",
   "version": "3.10.9"
  }
 },
 "nbformat": 4,
 "nbformat_minor": 1
}
