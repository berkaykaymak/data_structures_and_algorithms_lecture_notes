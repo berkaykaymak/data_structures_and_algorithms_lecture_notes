{
 "cells": [
  {
   "cell_type": "code",
   "execution_count": null,
   "metadata": {},
   "outputs": [],
   "source": [
    "from IPython.display import Image\n",
    "#Image(url='https://www.maxpierini.it/ncov/pics/ITA.png', width=200)"
   ]
  },
  {
   "cell_type": "markdown",
   "metadata": {},
   "source": [
    "# Sorting Algorithms"
   ]
  },
  {
   "cell_type": "markdown",
   "metadata": {},
   "source": [
    "Sorting is the process of arranging items in a specific order or sequence. It is a common algorithmic problem in computer science and is used in various applications such as searching, data analysis, and information retrieval.\n",
    "\n",
    "\n",
    "The problem of sorting is an ideal problem to introduce many concepts of fundamental algorithm design. Some good reasons to study sorting are:\n",
    "\n",
    "* sorting is used by many applications,\n",
    "    * Humans can sort, but computers can sort fast\n",
    "    * Very common to need data sorted somehow\n",
    "        * Alphabetical list of people\n",
    "        * List of countries ordered by population\n",
    "        * Search engine results by relevance\n",
    "* sorting is the (first) step of many algorithms,\n",
    "\n",
    "* many techniques can be illustrated by studying sorting.\n",
    "\n",
    "\n",
    "\n",
    "For us the last reason is most important. In particular, sorting allows us to study the algorithmic techniques that we have seen for the searching problem on a more complex algorithmic problem. In the following we give an overview of the sorting algorithms discussed in the course. Before we do so, let us define the swap routine that is used by many of the sorting algorithms."
   ]
  },
  {
   "cell_type": "markdown",
   "metadata": {},
   "source": [
    "#### Swapping\n",
    "Swapping two numbers means exchanging their values."
   ]
  },
  {
   "cell_type": "code",
   "execution_count": null,
   "metadata": {},
   "outputs": [],
   "source": [
    "def myswap(a,b):\n",
    "    temp=a\n",
    "    a=b\n",
    "    b=temp\n",
    "    return a,b"
   ]
  },
  {
   "cell_type": "code",
   "execution_count": null,
   "metadata": {},
   "outputs": [],
   "source": [
    "a=5\n",
    "b=3\n",
    "print(a,b)"
   ]
  },
  {
   "cell_type": "code",
   "execution_count": null,
   "metadata": {},
   "outputs": [],
   "source": [
    "[a,b] = myswap(a,b)\n",
    "print(a,b)"
   ]
  },
  {
   "cell_type": "markdown",
   "metadata": {},
   "source": [
    "### Sorting\n",
    "Assume we have $n$ comparable elements in an array and we want to rearrange them to be in increasing order\n",
    "\n",
    "**Input:**\n",
    "* A sequence $a_{n}$ of $n$ numbers: $a_{0}, a_{1},\\cdots, a_{n-1}$ of data records,\n",
    "* A key value in each data record,\n",
    "* A comparison function (consistent and total).\n",
    "    \n",
    "**Effect:**\n",
    "* Reorganize the elements of $a_{n}$ such that for any $i$ and $j$, if $i < j$ then $a_{i} \\le a_{j}$\n",
    "* Also, $a_{n}$ must have exactly the same data it started with\n",
    "* For example; \n",
    "    - *Input:* <31, 41, 59, 26, 41, 58>\n",
    "    - *Output:* <26, 31, 41, 41, 58, 59>\n",
    "* Could also sort in reverse order, of course\n",
    "\n",
    "An algorithm doing this is a **comparison sort**."
   ]
  },
  {
   "cell_type": "markdown",
   "metadata": {},
   "source": [
    "## Bubble Sort"
   ]
  },
  {
   "cell_type": "code",
   "execution_count": null,
   "metadata": {},
   "outputs": [],
   "source": [
    "def swap(alist, i, j):\n",
    "    alist[i], alist[j] = alist[j], alist[i]"
   ]
  },
  {
   "cell_type": "markdown",
   "metadata": {},
   "source": [
    "- Bubble sort is a simple sorting algorithm. \n",
    "\n",
    "- It works by repeatedly stepping through the list to be sorted, comparing each pair of adjacent items and swapping them if they are in the wrong order. \n",
    "- The pass through the list is repeated until no swaps are needed, which indicates that the list is sorted. \n",
    "- Because it only uses comparisons to operate on elements, it is a **comparison sort**."
   ]
  },
  {
   "cell_type": "code",
   "execution_count": null,
   "metadata": {},
   "outputs": [],
   "source": [
    "def bubbleSort(alist):\n",
    "    for passnum in range(len(alist)-1,0,-1):\n",
    "        for i in range(passnum):\n",
    "            if alist[i]>alist[i+1]:\n",
    "                swap(alist,i,i+1)"
   ]
  },
  {
   "cell_type": "code",
   "execution_count": null,
   "metadata": {},
   "outputs": [],
   "source": [
    "import numpy as np\n",
    "import matplotlib.pyplot as plt\n",
    "import time\n",
    "import random"
   ]
  },
  {
   "cell_type": "code",
   "execution_count": null,
   "metadata": {},
   "outputs": [],
   "source": [
    "alist = random.sample(range(1, 101), 15)\n",
    "print(alist)"
   ]
  },
  {
   "cell_type": "code",
   "execution_count": null,
   "metadata": {},
   "outputs": [],
   "source": [
    "bubbleSort(alist)\n",
    "print(alist)"
   ]
  },
  {
   "cell_type": "code",
   "execution_count": null,
   "metadata": {},
   "outputs": [],
   "source": [
    "n = np.arange(1000,5001,100000, dtype='int64')"
   ]
  },
  {
   "cell_type": "code",
   "execution_count": null,
   "metadata": {},
   "outputs": [],
   "source": [
    "i=0\n",
    "for val in n:\n",
    "    alist = random.sample(range(1, 1000000001), val)\n",
    "    yBubble = np.zeros(len(alist),dtype='int64')\n",
    "    s = time.process_time()\n",
    "    bubbleSort(alist)\n",
    "    e = time.process_time()\n",
    "    yBubble[i] = e - s\n",
    "    print(yBubble[i])\n",
    "    #print(val)\n",
    "    i=i+1"
   ]
  },
  {
   "cell_type": "markdown",
   "metadata": {},
   "source": [
    "[See sorting simulation visually.](https://www.cs.usfca.edu/~galles/visualization/ComparisonSort.html)"
   ]
  },
  {
   "cell_type": "markdown",
   "metadata": {},
   "source": [
    "##  Selection Sort"
   ]
  },
  {
   "cell_type": "markdown",
   "metadata": {},
   "source": [
    "Selection sort is possibly the conceptually simplest sorting algorithm. It finds the smallest element and places it on the first position. Then it finds the second smallest and places it at the second position, and so on."
   ]
  },
  {
   "cell_type": "code",
   "execution_count": null,
   "metadata": {},
   "outputs": [],
   "source": [
    "def selection_sort(A):\n",
    "    n = len(A)\n",
    "    for i in range(n):\n",
    "        smallest = i\n",
    "        for j in range(i+1 , n):\n",
    "            if A[j] < A[smallest]: smallest = j\n",
    "        swap(A, smallest, i )"
   ]
  },
  {
   "cell_type": "code",
   "execution_count": null,
   "metadata": {},
   "outputs": [],
   "source": [
    "A = [5,2,8,6]\n",
    "selection_sort(A)\n",
    "print(A)"
   ]
  },
  {
   "cell_type": "code",
   "execution_count": null,
   "metadata": {},
   "outputs": [],
   "source": [
    "alist = random.sample(range(1, 1001), 150)\n",
    "print(alist)"
   ]
  },
  {
   "cell_type": "code",
   "execution_count": null,
   "metadata": {},
   "outputs": [],
   "source": [
    "selection_sort(alist)\n",
    "print(alist)"
   ]
  },
  {
   "cell_type": "markdown",
   "metadata": {},
   "source": [
    "The correctness of selection\\_sort can be shown by first analyzing the inner loop (lines 5-6) and then the outer loop (lines 3-7). For both steps a loop invariant proof can be used. The running time of th inner loop is $O(n-i)$. The overall running time is therefore \n",
    "$$\n",
    "O(1) + \\sum_{i=0}^{n-1} O(n-i) = O(n^2)\\;.\n",
    "$$"
   ]
  },
  {
   "cell_type": "markdown",
   "metadata": {},
   "source": [
    "[See sorting simulation visually.](https://www.cs.usfca.edu/~galles/visualization/ComparisonSort.html)"
   ]
  },
  {
   "cell_type": "markdown",
   "metadata": {},
   "source": [
    "## Insertion Sort"
   ]
  },
  {
   "cell_type": "markdown",
   "metadata": {},
   "source": [
    "Insertion sort is an *incremental algorithm*. That means that it incrementally computes the solution for an increasing subset of the input. Specifically it sorts the subarray $A[0..i-1]$ for increasing $i$. While Insertion Sort is slow asymptotically, it is fast for small input."
   ]
  },
  {
   "cell_type": "code",
   "execution_count": null,
   "metadata": {},
   "outputs": [],
   "source": [
    "def insertion_sort(A):\n",
    "    n = len(A)\n",
    "    # at the beginning of the j-th iteration the subarray A[0..j-1] is sorted\n",
    "    for j in range(1,n):\n",
    "        key = A[j]\n",
    "        i = j -1\n",
    "        while i >= 0 and A[i] > key:\n",
    "            A[i+1] = A[i]\n",
    "            i = i -1\n",
    "        A[i+1] = key"
   ]
  },
  {
   "cell_type": "code",
   "execution_count": null,
   "metadata": {},
   "outputs": [],
   "source": [
    "A = [5,2,8,6,-1]\n",
    "insertion_sort(A)\n",
    "print(A)"
   ]
  },
  {
   "cell_type": "markdown",
   "metadata": {},
   "source": [
    "Also for insertion\\_sort the correctness can be shown by first analyzing the inner loop (lines 7-9) and then the outer loop (lines 4-10). For both steps a loop invariant proof can be used. \n",
    "The running time of th inner loop is $O(j)$. (Note that it is better in the best case.) The overall running time is therefore $$O(1) + \\sum_{j=1}^{n-1} O(j) = O(n^2)\\;.$$"
   ]
  },
  {
   "cell_type": "markdown",
   "metadata": {},
   "source": [
    "[See sorting simulation visually.](https://www.cs.usfca.edu/~galles/visualization/ComparisonSort.html)"
   ]
  },
  {
   "cell_type": "markdown",
   "metadata": {},
   "source": [
    "# Search algorithm"
   ]
  },
  {
   "cell_type": "markdown",
   "metadata": {},
   "source": [
    "## Linear search\n",
    "- A sequential search is made over all items one by one. \n",
    "- Every item is checked and if a match is found then that particular item is returned, otherwise the search continues till the end of the data collection."
   ]
  },
  {
   "cell_type": "markdown",
   "metadata": {},
   "source": [
    "<img src=\"images/week-08/linear_search.gif\">"
   ]
  },
  {
   "cell_type": "raw",
   "metadata": {},
   "source": [
    "Linear Search ( Array A, Value x)\n",
    "\n",
    "Step 1: Set i to 0\n",
    "Step 2: if i > n-1 then go to step 7\n",
    "Step 3: if A[i] = x then go to step 6\n",
    "Step 4: Set i to i + 1\n",
    "Step 5: Go to Step 2\n",
    "Step 6: Print Element x Found at index i and go to step 8\n",
    "Step 7: Print element not found\n",
    "Step 8: Return i and Exit"
   ]
  },
  {
   "cell_type": "code",
   "execution_count": null,
   "metadata": {},
   "outputs": [],
   "source": [
    "# Python3 code to linearly search x in arr[].\n",
    "# If x is present then return its location,\n",
    "# otherwise return -1\n",
    " \n",
    "def search(arr, x):\n",
    "    n = len(arr)\n",
    "    for i in range(0, n):\n",
    "        if (arr[i] == x):\n",
    "            return i\n",
    "    return -1"
   ]
  },
  {
   "cell_type": "code",
   "execution_count": null,
   "metadata": {},
   "outputs": [],
   "source": [
    "# Driver Code\n",
    "arr = [50,45,2, 3.5,3, 4, 10, 40]"
   ]
  },
  {
   "cell_type": "code",
   "execution_count": null,
   "metadata": {},
   "outputs": [],
   "source": [
    "# Function call\n",
    "result = search(arr, 10)\n",
    "if(result == -1):\n",
    "    print(\"Element is not present in array\")\n",
    "else:\n",
    "    print(\"Element is present at index\", result)\n",
    "# Function call"
   ]
  },
  {
   "cell_type": "code",
   "execution_count": null,
   "metadata": {},
   "outputs": [],
   "source": [
    "result = search(arr, 5)\n",
    "if(result == -1):\n",
    "    print(\"Element is not present in array\")\n",
    "else:\n",
    "    print(\"Element is present at index\", result)"
   ]
  },
  {
   "cell_type": "markdown",
   "metadata": {},
   "source": [
    " The time complexity of the linear serach algorithm is $\\mathcal{O}(n)$. "
   ]
  },
  {
   "cell_type": "markdown",
   "metadata": {},
   "source": [
    "## Binary Search\n",
    "- Binary search looks for a particular item by comparing the middle most item of the collection. \n",
    "- If a match occurs, then the index of item is returned. \n",
    "- If the middle item is greater than the item, then the item is searched in the sub-array to the left of the middle item. \n",
    "- Otherwise, the item is searched for in the sub-array to the right of the middle item. \n",
    "- This process continues on the sub-array as well until the size of the subarray reduces to zero."
   ]
  },
  {
   "cell_type": "raw",
   "metadata": {},
   "source": [
    "Binary Search ( Array A, Value x)\n",
    "\n",
    "Step 1: Set low=0 and high=length(A)-1\n",
    "Step 2: Compute mid = low + (high-low)/2, truncate mid to largest integer smaller than itself.\n",
    "Step 3: Compare x with the middle element A[mid] of A.\n",
    "Step 4: If x matches with the middle element, we return the mid index.\n",
    "        Else If x is greater than the mid element, then x can only lie in the right half subarray of A after the mid element. So we recur for the right half A[mid+1:high] of A. Set low=mid+1 and go to Step 2\n",
    "        Else (x is smaller) recur for the left half  A[0:mid-1] of A. Set high=mid-1 go to Step 2"
   ]
  },
  {
   "cell_type": "markdown",
   "metadata": {},
   "source": [
    "### An example of how binary search works\n",
    "- For a binary search to work, it is mandatory for the target array to be **sorted**. \n",
    "- Let us search the location of value $31$ using binary search.\n",
    "\n",
    "<img src=\"images/week-08/binary_search_0.jpg\" width=\"400\" height=\"400\">"
   ]
  },
  {
   "cell_type": "markdown",
   "metadata": {},
   "source": [
    "First, we have to determine half of the array by using the formula:\n",
    "\\begin{equation}\n",
    "mid = low+\\frac{high-low}{2}\n",
    "\\end{equation}"
   ]
  },
  {
   "cell_type": "markdown",
   "metadata": {},
   "source": [
    "Calculate $mid$ at first stage:\n",
    "\\begin{align*}\n",
    "mid &= \\lfloor 0+\\frac{9-0}{2}\\rfloor\\\\\n",
    "&=4.\n",
    "\\end{align*}\n",
    "So, 4 is the mid of the array.\n",
    "<img src=\"images/week-08/binary_search_1.jpg\" width=\"400\" height=\"400\">"
   ]
  },
  {
   "cell_type": "markdown",
   "metadata": {},
   "source": [
    "Now we compare the value stored at location 4, with the value being searched, i.e. 31. We find that the value at location 4 is 27, which is not a match. As the value is greater than 27 and we have a sorted array, so we also know that the target value must be in the upper portion of the array.\n",
    "<img src=\"images/week-08/binary_search_2.jpg\" width=\"400\" height=\"400\">"
   ]
  },
  {
   "cell_type": "markdown",
   "metadata": {},
   "source": [
    "We change our low to $mid + 1$ and find the new $mid$ value again.\n",
    "\\begin{align*}\n",
    "mid &= \\lfloor 5+\\frac{9-5}{2}\\rfloor\\\\\n",
    "&=7.\n",
    "\\end{align*}\n",
    "So, 7 is the mid of the remaining array.\n",
    "<img src=\"images/week-08/binary_search_3.jpg\" width=\"400\" height=\"400\">"
   ]
  },
  {
   "cell_type": "markdown",
   "metadata": {},
   "source": [
    "The value stored at location 7 is not a match, rather it is more than what we are looking for. So, the value must be in the lower part from this location.\n",
    "<img src=\"images/week-08/binary_search_4.jpg\" width=\"400\" height=\"400\">"
   ]
  },
  {
   "cell_type": "markdown",
   "metadata": {},
   "source": [
    "Hence, we calculate the $mid$ again. This time it is 5.\n",
    "<img src=\"images/week-08/binary_search_5.jpg\" width=\"400\" height=\"400\">"
   ]
  },
  {
   "cell_type": "markdown",
   "metadata": {},
   "source": [
    "We compare the value stored at location 5 with our target value. We find that it is a match.\n",
    "<img src=\"images/week-08/binary_search_6.jpg\" width=\"400\" height=\"400\">\n",
    "We conclude that the target value 31 is stored at location 5."
   ]
  },
  {
   "cell_type": "markdown",
   "metadata": {},
   "source": [
    "[See binary search simulation](https://www.cs.usfca.edu/~galles/visualization/Search.html)"
   ]
  },
  {
   "cell_type": "markdown",
   "metadata": {},
   "source": [
    "- Binary search algorithm works on the principle of **divide and conquer**. \n",
    "- For this algorithm to work properly, the data collection should be in the sorted form.\n",
    "- Binary search has run-time complexity of $\\mathcal{Ο}(\\log n)$.\n",
    "- *Exercise:* Implement binary search."
   ]
  },
  {
   "cell_type": "markdown",
   "metadata": {},
   "source": [
    "# Divide-and-conquer algorithms\n",
    "\n",
    "We have seen an example of divide-and-conquer algorithms:\n",
    "- Binary search\n",
    "\n",
    "We will soon see:\n",
    "- Merge sort\n",
    "- Quick sort\n",
    "\n",
    "**The steps are:**\n",
    "- A larger problem is broken up into smaller problems\n",
    "- The smaller problems are recursively solved\n",
    "- The results are combined together again into a solution."
   ]
  },
  {
   "cell_type": "markdown",
   "metadata": {},
   "source": [
    "More formally, we will consider only those algorithms which:\n",
    "- Divide a problem of size $n$ into $p$ sub-problems, each approximately of size $\\frac{n}{p}$\n",
    "    - For example in binary search $p=2$.\n",
    "- Solve $q\\ge 1$ of those sub-problems recursively\n",
    "    - For example in binary search $q=1$.\n",
    "- If $q\\gt 1$ then combine the solutions to the sub-problems to get a solution to the overall problem.\n",
    "- Recall that the time complexity of binary search is $\\mathcal{O}(\\log{n})$, while linear search is $\\mathcal{O}(n)$."
   ]
  },
  {
   "cell_type": "markdown",
   "metadata": {},
   "source": [
    "### Divide-and-conquer algorithm's time complexity\n",
    "\n",
    "When we calculate time complexity (run time), we must also consider\n",
    "- The effort required to divide the problem into two sub-problems\n",
    "- The effort required to combine the two solutions to the sub-problems.\n",
    "\n",
    "**Example:** Calculate the  time complexity of binary search.\n",
    "[See binary search simulation](https://www.cs.usfca.edu/~galles/visualization/Search.html)"
   ]
  },
  {
   "cell_type": "markdown",
   "metadata": {},
   "source": [
    "Suppose that there are $n$ integers. Also, suppose $T(n)$ represents the time complexity to search the existence of key value $k$ among these $n$ integers. Then, $T(\\frac{n}{2})$ represents the time complexity to search the existence of key value $k$ among almost half these $n$ integers.\n",
    "- What is the relation between $T(n)$ and $T(\\frac{n}{2})$.\n",
    "- First, note that $n=1$ then $T(n)=\\mathcal{O}(1)$.\n",
    "- $T(n)=T(\\frac{n}{2})+C$, $C$ is the number of operations required to split $n$ integers into $\\frac{n}{2}$.\n",
    "- Thus, \\begin{equation*}T(n)=\\begin{cases}\n",
    "    1, &  n=1 \\\\\n",
    "    T(\\frac{n}{2})+1, & \\text{otherwise }\n",
    "  \\end{cases}\\end{equation*}\n",
    "- How can we explicitly obtain $T(n)$?"
   ]
  },
  {
   "cell_type": "markdown",
   "metadata": {},
   "source": [
    "\\begin{align*}\n",
    "T(n)&=T(\\frac{n}{2})+1\\\\\n",
    "T(\\frac{n}{2^{0}})&=T(\\frac{n}{2})+1\\\\\n",
    "T(\\frac{n}{2})&=T(\\frac{n}{2^{2}})+1\\\\\n",
    "T(\\frac{n}{2^{2}})&=T(\\frac{n}{2^{3}})+1\\\\\n",
    "\\vdots &=\\vdots\\\\\n",
    "T(\\frac{n}{2^{k-1}})&=T(\\frac{n}{2^{k}})+1\n",
    "\\end{align*}\n",
    "\n",
    "Thus, $T(n)=T(\\frac{n}{2^{k}})+k$. Suppose $n=2^{k}\\implies k=\\log{n}$. So, $T(n)=k+1$. Note that base of logarithm is $2$."
   ]
  },
  {
   "cell_type": "markdown",
   "metadata": {},
   "source": [
    "# More Sorting Algorithms"
   ]
  },
  {
   "cell_type": "markdown",
   "metadata": {},
   "source": [
    "[See sorting simulation visually.](https://www.cs.usfca.edu/~galles/visualization/ComparisonSort.html)"
   ]
  },
  {
   "cell_type": "markdown",
   "metadata": {},
   "source": [
    "## Merge Sort"
   ]
  },
  {
   "cell_type": "markdown",
   "metadata": {},
   "source": [
    "- Merge Sort is an example of a recursive *divide&conquer* algorithm. \n",
    "- A divide&conquer algorithm divides the problem into smaller subproblems, solves the subproblems recursively, and then combines the solutions to the subproblems."
   ]
  },
  {
   "cell_type": "markdown",
   "metadata": {},
   "source": [
    "**Merge sort:** \n",
    "- Sort the left half of the elements (recursively)\n",
    "- Sort the right half of the elements (recursively)\n",
    "- Merge the two sorted halves into a sorted whole"
   ]
  },
  {
   "cell_type": "markdown",
   "metadata": {},
   "source": [
    "### Split"
   ]
  },
  {
   "cell_type": "code",
   "execution_count": null,
   "metadata": {},
   "outputs": [],
   "source": [
    "Image(filename='images/week-08/mergeSortSplit.png', width=500)"
   ]
  },
  {
   "cell_type": "markdown",
   "metadata": {},
   "source": [
    "### Merge"
   ]
  },
  {
   "cell_type": "code",
   "execution_count": null,
   "metadata": {},
   "outputs": [],
   "source": [
    "Image(filename='images/week-08/mergeSortMerge.png', width=500)"
   ]
  },
  {
   "cell_type": "markdown",
   "metadata": {},
   "source": [
    "<img src=\"images/mergeSort.png\">"
   ]
  },
  {
   "cell_type": "markdown",
   "metadata": {},
   "source": [
    "[See sorting simulation visually.](https://www.cs.usfca.edu/~galles/visualization/ComparisonSort.html)"
   ]
  },
  {
   "cell_type": "code",
   "execution_count": null,
   "metadata": {},
   "outputs": [],
   "source": [
    "def merge_sort(alist):\n",
    "    n = len(alist)\n",
    "    if n>1:\n",
    "        mid = n//2\n",
    "        alist1 = alist[:mid]\n",
    "        alist2 = alist[mid:]\n",
    "        # recursive calls:\n",
    "        merge_sort(alist1)\n",
    "        merge_sort(alist2)\n",
    "        # merge solutions\n",
    "        i=0\n",
    "        j=0\n",
    "        while i<mid and mid+j<n:\n",
    "            if alist1[i]<alist2[j]:\n",
    "                alist[i+j]=alist1[i]\n",
    "                i+=1\n",
    "            else:\n",
    "                alist[i+j]=alist2[j]\n",
    "                j+=1\n",
    "        \n",
    "        while i<mid:\n",
    "            alist[i+j]=alist1[i]\n",
    "            i+=1\n",
    "            \n",
    "        while mid+j<n:\n",
    "            alist[i+j]=alist2[j]\n",
    "            j+=1"
   ]
  },
  {
   "cell_type": "code",
   "execution_count": null,
   "metadata": {},
   "outputs": [],
   "source": [
    "        \n",
    "alist = [5,2,8,6]\n",
    "merge_sort(alist)\n",
    "print(alist)"
   ]
  },
  {
   "cell_type": "code",
   "execution_count": null,
   "metadata": {},
   "outputs": [],
   "source": [
    "alist = random.sample(range(1, 101), 15)\n",
    "print(alist)"
   ]
  },
  {
   "cell_type": "code",
   "execution_count": null,
   "metadata": {},
   "outputs": [],
   "source": [
    "merge_sort(alist)\n",
    "print(alist)"
   ]
  },
  {
   "cell_type": "code",
   "execution_count": null,
   "metadata": {},
   "outputs": [],
   "source": [
    "x = np.arange(100000,1500000,100000, dtype='int64')"
   ]
  },
  {
   "cell_type": "code",
   "execution_count": null,
   "metadata": {},
   "outputs": [],
   "source": [
    "y = np.zeros(len(x),dtype='int64')"
   ]
  },
  {
   "cell_type": "code",
   "execution_count": null,
   "metadata": {},
   "outputs": [],
   "source": [
    "y"
   ]
  },
  {
   "cell_type": "code",
   "execution_count": null,
   "metadata": {},
   "outputs": [],
   "source": [
    "i=0\n",
    "for val in x:\n",
    "    alist = random.sample(range(1, 10000001), val)\n",
    "    s = time.process_time()\n",
    "    merge_sort(alist)\n",
    "    e = time.process_time()\n",
    "    y[i] = e - s\n",
    "    i=i+1"
   ]
  },
  {
   "cell_type": "code",
   "execution_count": null,
   "metadata": {},
   "outputs": [],
   "source": [
    "y"
   ]
  },
  {
   "cell_type": "code",
   "execution_count": null,
   "metadata": {},
   "outputs": [],
   "source": [
    "plt.plot(x, y, 'ro')\n",
    "plt.axis([50000, 1550000, -1.0, 50])\n",
    "plt.show()"
   ]
  },
  {
   "cell_type": "markdown",
   "metadata": {
    "collapsed": true
   },
   "source": [
    " ### Time Complexity\n",
    " \\begin{equation*}T(n)=\\begin{cases}\n",
    "    1, &  n=1 \\\\\n",
    "   2 T(\\frac{n}{2})+n, & \\text{otherwise }\n",
    "  \\end{cases}\\end{equation*}"
   ]
  },
  {
   "cell_type": "markdown",
   "metadata": {
    "collapsed": true
   },
   "source": [
    "Merge Sort is a recursive algorithm and we can prove its correctness by mathematical induction. The base case is $n=1$. An array of length 1 is always sorted. In the induction step, we can assume (by the induction hypothesis) that the recursive calls work correctly. Thus, we mostly need to prove that the merge (lines 11-27) works correctly. The recurrence of the running time is $T(n)= 2 T(n/2) + O(n)$. This recurrence solves to $T(n) = O(n \\log n)$. Explicitly,\n",
    "\n",
    "\\begin{equation*}T(n)=\\begin{cases}\n",
    "    1, &  n=1 \\\\\n",
    "  \\mathcal{O}(n\\log{n}), & \\text{otherwise }\n",
    "  \\end{cases}\\end{equation*}"
   ]
  },
  {
   "cell_type": "markdown",
   "metadata": {},
   "source": [
    "## Quick Sort"
   ]
  },
  {
   "cell_type": "markdown",
   "metadata": {},
   "source": [
    "Quick Sort is another example of a recursive *divide&conquer* algorithm. In contrast to Merge Sort the main work of the algorithm happens before the recursive calls.\n",
    "\n",
    "**Quick sort:** \n",
    "- Pick a “pivot” element\n",
    "- Divide elements into less-than pivot and greater-than pivot\n",
    "- Sort the two divisions (recursively on each)\n",
    "- Answer is **sorted-less-than** then **pivot** then **sorted-greater-than**"
   ]
  },
  {
   "cell_type": "markdown",
   "metadata": {},
   "source": [
    "<img src=\"images/week-08/quickSort.png\">"
   ]
  },
  {
   "cell_type": "markdown",
   "metadata": {},
   "source": [
    "<img src=\"images/week-08/quickSort1.png\">"
   ]
  },
  {
   "cell_type": "markdown",
   "metadata": {},
   "source": [
    "[See sorting simulation visually.](https://www.cs.usfca.edu/~galles/visualization/ComparisonSort.html)"
   ]
  },
  {
   "cell_type": "code",
   "execution_count": null,
   "metadata": {},
   "outputs": [],
   "source": [
    "def partition(alist, p, r):\n",
    "    x = alist[r]\n",
    "    i = p-1\n",
    "    for j in range(p,r):\n",
    "        if alist[j] <= x: \n",
    "            i+=1\n",
    "            swap(alist, i, j)\n",
    "    swap(alist, i+1, r)\n",
    "    return  i+1\n",
    "\n",
    "def quick_sort(alist, p=0, r=None):\n",
    "    if r==None: r=len(alist)-1\n",
    "    if p<r:\n",
    "        q = partition(alist, p, r)\n",
    "        quick_sort(alist, p, q-1)\n",
    "        quick_sort(alist, q+1, r)"
   ]
  },
  {
   "cell_type": "code",
   "execution_count": null,
   "metadata": {},
   "outputs": [],
   "source": [
    "        \n",
    "alist = [5,2,8,6]\n",
    "quick_sort(alist)\n",
    "print(alist)"
   ]
  },
  {
   "cell_type": "code",
   "execution_count": null,
   "metadata": {},
   "outputs": [],
   "source": [
    "alist = random.sample(range(1, 101), 17)\n",
    "print(alist)"
   ]
  },
  {
   "cell_type": "code",
   "execution_count": null,
   "metadata": {},
   "outputs": [],
   "source": [
    "quick_sort(alist)\n",
    "print(alist)"
   ]
  },
  {
   "cell_type": "code",
   "execution_count": null,
   "metadata": {},
   "outputs": [],
   "source": [
    "x = np.arange(100000,1500000,100000, dtype='int64')"
   ]
  },
  {
   "cell_type": "code",
   "execution_count": null,
   "metadata": {},
   "outputs": [],
   "source": [
    "y = np.zeros(len(x),dtype='int64')"
   ]
  },
  {
   "cell_type": "code",
   "execution_count": null,
   "metadata": {},
   "outputs": [],
   "source": [
    "i=0\n",
    "for val in x:\n",
    "    alist = random.sample(range(1, 10000001), val)\n",
    "    s = time.process_time()\n",
    "    quick_sort(alist)\n",
    "    e = time.process_time()\n",
    "    y[i] = e - s\n",
    "    i=i+1"
   ]
  },
  {
   "cell_type": "code",
   "execution_count": null,
   "metadata": {},
   "outputs": [],
   "source": [
    "y"
   ]
  },
  {
   "cell_type": "code",
   "execution_count": null,
   "metadata": {},
   "outputs": [],
   "source": [
    "plt.plot(x, y, 'ro')\n",
    "plt.axis([50000, 1550000, -1.0, 50])\n",
    "plt.show()"
   ]
  },
  {
   "cell_type": "markdown",
   "metadata": {
    "collapsed": true
   },
   "source": [
    "## Time Complexity"
   ]
  },
  {
   "cell_type": "markdown",
   "metadata": {
    "collapsed": true
   },
   "source": [
    "### Best case\n",
    "\n",
    "\\begin{equation*}T(n)=\\begin{cases}\n",
    "    1, &  n=1 \\\\\n",
    "   2 T(\\frac{n}{2})+n, & \\text{otherwise }\n",
    "  \\end{cases}\\end{equation*}\n",
    "  \n",
    "Explicitly,\n",
    "\n",
    "\\begin{equation*}T(n)=\\begin{cases}\n",
    "    1, &  n=1 \\\\\n",
    "   \\mathcal{O}(n\\log{n}), & \\text{otherwise }\n",
    "  \\end{cases}\\end{equation*}"
   ]
  },
  {
   "cell_type": "markdown",
   "metadata": {
    "collapsed": true
   },
   "source": [
    "### Worst case\n",
    "\n",
    "\\begin{equation*}T(n)=\\begin{cases}\n",
    "    1, &  n=1 \\\\\n",
    "   T(n-1)+n, & \\text{otherwise }\n",
    "  \\end{cases}\\end{equation*}\n",
    "  \n",
    "Explicitly,\n",
    "\n",
    "\\begin{equation*}T(n)=\\begin{cases}\n",
    "    1, &  n=1 \\\\\n",
    "   n^{2}, & \\text{otherwise }\n",
    "  \\end{cases}\\end{equation*}"
   ]
  },
  {
   "cell_type": "markdown",
   "metadata": {
    "collapsed": true
   },
   "source": [
    "To see why follow the following line of equations\n",
    "\\begin{align*}\n",
    "T(n)&=T(n-1)+n-1\\\\\n",
    "T(n-1)&=T(n-2)+n-2\\\\\n",
    "T(n-2)&=T(n-3)+n-3\\\\\n",
    "\\vdots &=\\vdots\\\\\n",
    "T(2)&=T(1)+1\n",
    "\\end{align*}"
   ]
  },
  {
   "cell_type": "markdown",
   "metadata": {
    "collapsed": true
   },
   "source": [
    "### How to pick the pivot element\n",
    "- Any choice is correct: data will end up sorted\n",
    "- But as analysis shows, want the two partitions to be about equal in size."
   ]
  },
  {
   "cell_type": "markdown",
   "metadata": {
    "collapsed": true
   },
   "source": [
    "### Potential pivot rules\n",
    "- Pick first or last\n",
    "    - Fast, but worst-case occurs with mostly sorted input.\n",
    "    \n",
    "- Pick random element in the range\n",
    "    - Does as well as any technique, but (pseudo)random number generation can be slow\n",
    "    - Still probably the most elegant approach\n",
    "\n",
    "- Median of 3, e.g., first, middle and last\n",
    "    - Common heuristic that tends to work well"
   ]
  },
  {
   "cell_type": "markdown",
   "metadata": {
    "collapsed": true
   },
   "source": [
    "- Quick Sort is a recursive algorithm and as for Merge Sort we can prove its correctness by mathematical induction. The crucial part is to prove that partition works correctly. \n",
    "- The worst-case running time of Quick Sort is quadratic, but in practice it is much faster, and if the pivot is picked at random the expected running time is $O(n \\log n)$. \n",
    "- Quick Sort is a fast and simple in-place algorithm."
   ]
  },
  {
   "cell_type": "markdown",
   "metadata": {
    "collapsed": true
   },
   "source": [
    "## Heap Sort\n",
    "\n",
    "- Heap Sort is another example of an efficient sorting algorithm. \n",
    "- Its main advantage is that it has a great worst-case runtime of $\\mathcal{O}(n \\log{n})$ regardless of the input data.\n",
    "- Heap Sort relies heavily on the heap data structure.\n",
    "- Heap Sort works by \"removing\" elements from the heap part of the array one-by-one and adding them to the sorted part of the array.\n",
    "- The complexity of the next smallest element moving to the first position, while keeping the array a heap still, takes $\\mathcal{O}(\\log{n})$ time, which is a highly efficient operation.\n",
    "- The implementation for Heap Sort is fairly straight-forward.\n",
    "- Heap Sort Algorithm for sorting in increasing order: \n",
    "    - **Step 1** Build a max heap from the input data. \n",
    "    - **Step 2** At this point, the largest item is stored at the root of the heap. Replace it with the last item of the heap followed by reducing the size of heap by 1. Finally, heapify the root of the tree. \n",
    "    - **Step 3** Repeat step 2 while size of heap is greater than 1."
   ]
  },
  {
   "cell_type": "markdown",
   "metadata": {
    "collapsed": true
   },
   "source": [
    "- Represent tree as single list:\n",
    "<pre>\n",
    "    - Root of tree is A[1], with index i of node\n",
    "    - PARENT(i)\n",
    "        return ⌊i/2⌋\n",
    "    - Left(i)\n",
    "        return 2i\n",
    "    - Right(i)\n",
    "        return 2i + 1\n",
    "</pre>"
   ]
  },
  {
   "cell_type": "markdown",
   "metadata": {
    "collapsed": true
   },
   "source": [
    "**Max-heap**\n",
    "<pre>\n",
    "    • A[PARENT(i)] ≥ A[i]: Value of node i is at most value of its parent\n",
    "    • Largest value stored at root\n",
    "    • Subtree rooted at node contains no values larger than value of node itself\n",
    "    • Used for Heapsort\n",
    "</pre>"
   ]
  },
  {
   "cell_type": "markdown",
   "metadata": {
    "collapsed": true
   },
   "source": [
    "- **MAX-HEAPIFY** Given a node at index $i$ whose left and right subtrees are max-heaps, MAX-HEAPIFY moves the node at $i$ down the max-heap until it no longer violates the max-heap property (that is, the node is not smaller than its children).\n",
    "\n",
    "- The longest path that a node can take before it is in the proper position is equal to the starting height of the node. \n",
    "- If the node being heapified is the root of the max-heap, then the longest path it can take is the height of the tree, or $\\mathcal{O}(\\log{n})$.\n",
    "- MAX-HEAPIFY moves only one node. If you want to convert an array to a max-heap, you have to ensure that all of the subtrees are max-heaps before moving on to the root. You do this by calling MAX-HEAPIFY on $\\dfrac{n}{2}$ nodes (leaves always satisfy the max-heap property).\n",
    "- <pre>for i = floor(length(A)/2) downto 1\n",
    "    do MAX-HEAPIFY(A,i)\n",
    "  </pre>\n",
    "  \n",
    "- Since you call MAX-HEAPIFY $\\mathcal{O}(n)$ times, building the entire heap is $\\mathcal{O}(n\\log{n})$.\n",
    "- **Exercise** Can we reduce to time complexity of building heap to $\\mathcal{O}(n)$? [Visit stackoverflow for the answer](https://stackoverflow.com/questions/9755721/how-can-building-a-heap-be-on-time-complexity)"
   ]
  },
  {
   "cell_type": "code",
   "execution_count": null,
   "metadata": {},
   "outputs": [],
   "source": [
    "Image(filename='images/week-08/max_heapify1.png', width=500)"
   ]
  },
  {
   "cell_type": "code",
   "execution_count": null,
   "metadata": {},
   "outputs": [],
   "source": [
    "Image(filename='images/week-08/max_heapify2.png', width=500)"
   ]
  },
  {
   "cell_type": "code",
   "execution_count": null,
   "metadata": {},
   "outputs": [],
   "source": [
    "Image(filename='images/week-08/max_heapify3.png', width=500)"
   ]
  },
  {
   "cell_type": "code",
   "execution_count": null,
   "metadata": {},
   "outputs": [],
   "source": [
    "# heapify\n",
    "def heapify(alist, n, i):\n",
    "    largest = i # largest value\n",
    "    l = 2 * i + 1 # left\n",
    "    r = 2 * i + 2 # right\n",
    "    # if left child exists\n",
    "    if l < n and alist[i] < alist[l]:\n",
    "        largest = l\n",
    "    # if right child exits\n",
    "    if r < n and alist[largest] < alist[r]:\n",
    "        largest = r\n",
    "    # root\n",
    "    if largest != i:\n",
    "        swap(alist, largest, i)\n",
    "        # root.\n",
    "        heapify(alist, n, largest)"
   ]
  },
  {
   "cell_type": "code",
   "execution_count": null,
   "metadata": {},
   "outputs": [],
   "source": [
    "# sort\n",
    "def heapSort(alist):\n",
    "    n = len(alist)\n",
    "    # maxheap\n",
    "    for i in range(n, -1, -1):\n",
    "        heapify(alist, n, i)\n",
    "    # element extraction\n",
    "    for i in range(n-1, 0, -1):\n",
    "        swap(alist, 0, i)\n",
    "        heapify(alist, i, 0)"
   ]
  },
  {
   "cell_type": "code",
   "execution_count": null,
   "metadata": {},
   "outputs": [],
   "source": [
    "# main\n",
    "alist = [2,5,3,8,6,5,4,7]\n",
    "heapSort(alist)\n",
    "print (\"Sorted array is\")\n",
    "print(alist)"
   ]
  },
  {
   "cell_type": "markdown",
   "metadata": {
    "collapsed": true
   },
   "source": [
    "## Bucket Sort (a.k.a. Bin Sort)\n",
    "\n",
    "- If all values to be sorted are known to be integers between $1$ and $K$ (or any small range):\n",
    "    - Create an array of size $K$\n",
    "    - Put each element in its proper bucket (a.k.a. bin)\n",
    "    - If data is only integers, no need to store more than a count of how times that bucket has been used\n",
    "- Output result via linear pass through array of buckets"
   ]
  },
  {
   "cell_type": "markdown",
   "metadata": {
    "collapsed": true
   },
   "source": [
    "### Analyzing Bucket Sort\n",
    "- Overall: $\\mathcal{O}(n+K)$\n",
    "    - Linear in $n$, but also linear in $K$.\n",
    "- **Good** when $K$ is smaller (or not much larger) than $n$\n",
    "- **Bad** when $K$ is much larger than $n$\n",
    "    - *Wasted space*; wasted time during linear $\\mathcal{O}(K)$ pass\n",
    "- For data in addition to integer keys, use list at each bucket"
   ]
  },
  {
   "cell_type": "markdown",
   "metadata": {},
   "source": [
    "## Master\ttheorem\n",
    "Suppose \n",
    "\\begin{equation*}\n",
    "T(n)=a\\cdot T(\\frac{n}{b})+\\mathcal{O}(n^{d})\n",
    "\\end{equation*}"
   ]
  },
  {
   "cell_type": "markdown",
   "metadata": {},
   "source": [
    "Then,\n",
    "\\begin{equation*}\n",
    "T(n)=\\begin{cases}\n",
    "\\mathcal{O}(n^{d}\\log{n}) &\\text{if $a=b^{d}$}\\\\\n",
    "\\mathcal{O}(n^{d}) &\\text{if $a<b^{d}$}\\\\\n",
    "\\mathcal{O}(n^{\\log_{b}{a}}) &\\text{if $a>b^{d}$}\n",
    "\\end{cases}\n",
    "\\end{equation*}\n",
    "where\n",
    "- $n$: size of input\n",
    "- $a$: number of subproblems, and must be an integer greater than or equal to 1.\n",
    "- $b$: factor by which input size shrinks, all subproblems are assumed to have the same size. It must hold that $b > 1$.\n",
    "- $d$: $d$ is the exponent of $n$ in the time it takes to generate the subproblems and combine their solutions.\n",
    "\n",
    "Note that $\\frac{n}{b}$ is the size of each sub-problem."
   ]
  },
  {
   "cell_type": "markdown",
   "metadata": {},
   "source": [
    "### Example\n",
    "\\begin{equation*}\n",
    "T(n)=4T(\\frac{n}{2})+\\mathcal{O}(n)\n",
    "\\end{equation*}\n",
    "\n",
    "The parameters are $a = 4$, $b = 2$, $d = 1$, so $a > b^{d}$\n",
    ", hence $T(n)=\\mathcal{O}(n^{\\log_{2}{4}})=\\mathcal{O}(n^{2})$."
   ]
  },
  {
   "cell_type": "markdown",
   "metadata": {},
   "source": [
    "### Exercise\n",
    "- $T(n)=3T(\\frac{n}{2})+\\mathcal{O}(n)$\n",
    "- $T(n)=2T(\\frac{n}{2})+\\mathcal{O}(n)$\n",
    "- $T(n)=2T(\\frac{n}{2})+\\mathcal{O}(n^{2})$"
   ]
  },
  {
   "cell_type": "code",
   "execution_count": null,
   "metadata": {},
   "outputs": [],
   "source": []
  }
 ],
 "metadata": {
  "anaconda-cloud": {},
  "kernelspec": {
   "display_name": "Python 3 (ipykernel)",
   "language": "python",
   "name": "python3"
  },
  "language_info": {
   "codemirror_mode": {
    "name": "ipython",
    "version": 3
   },
   "file_extension": ".py",
   "mimetype": "text/x-python",
   "name": "python",
   "nbconvert_exporter": "python",
   "pygments_lexer": "ipython3",
   "version": "3.10.9"
  }
 },
 "nbformat": 4,
 "nbformat_minor": 1
}
