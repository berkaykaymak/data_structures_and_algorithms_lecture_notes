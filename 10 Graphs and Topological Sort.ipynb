{
 "cells": [
  {
   "cell_type": "code",
   "execution_count": 2,
   "metadata": {},
   "outputs": [],
   "source": [
    "from IPython.display import Image"
   ]
  },
  {
   "cell_type": "markdown",
   "metadata": {},
   "source": [
    "Textbook: Problem Solving With Algorithms and Data Structures Using Python by Brad Miller and David Ranum, Luther College\n",
    "It can be reached at: https://runestone.academy/runestone/books/published/pythonds/index.html"
   ]
  },
  {
   "cell_type": "markdown",
   "metadata": {},
   "source": [
    "## Today's Agenda\n",
    "- Graphs\n",
    "- Topological order"
   ]
  },
  {
   "cell_type": "markdown",
   "metadata": {},
   "source": [
    "# Graphs \n",
    "\n",
    "- More general structure than trees\n",
    "     - Tree is a special type of graph\n",
    "- Graphs can represent:\n",
    "     - Roads\n",
    "     - Airline flights from city to city\n",
    "     - How the Internet is connected\n",
    "- Once good representation for problem, graph algorithms can be applied"
   ]
  },
  {
   "cell_type": "markdown",
   "metadata": {},
   "source": [
    "## Graphs\n",
    "- Computer can understand roadmap as a graph\n",
    "- Computer can use graph representation to determine:\n",
    "     - Shortest path\n",
    "     - Easiest path\n",
    "     - Quickest path"
   ]
  },
  {
   "cell_type": "markdown",
   "metadata": {},
   "source": [
    "# Graphs "
   ]
  },
  {
   "cell_type": "markdown",
   "metadata": {},
   "source": [
    "- A graph is a collection of nodes plus edges\n",
    "     - Linked lists, trees, and heaps are all special cases of graphs\n",
    "- The nodes are known as vertices (node =“vertex”)"
   ]
  },
  {
   "cell_type": "markdown",
   "metadata": {},
   "source": [
    "- Formal Definition: A graph $G$ is a pair $(V, E)$ where\n",
    "     - $V$ is a set of vertices or nodes\n",
    "     - $E$ is a set of edges that connect vertices"
   ]
  },
  {
   "cell_type": "markdown",
   "metadata": {},
   "source": [
    "   \n",
    "- A graph $G$ consists of a set $V$ of vertices and a set $E$ of pairs of distinct vertices from $V$.\n",
    "- These pairs of vertices are called edges.\n",
    "- If the pairs of vertices are unordered, $G$ is an undirected graph. \n",
    "- If the pairs of vertices are ordered, $G$ is a directed graph or digraph."
   ]
  },
  {
   "cell_type": "code",
   "execution_count": null,
   "metadata": {},
   "outputs": [],
   "source": [
    "Image(filename='images/week-10/graph1.png', width=500)"
   ]
  },
  {
   "cell_type": "markdown",
   "metadata": {},
   "source": [
    "## Graph Example\n",
    "- Here is a graph $G = (V, E)$\n",
    "    - Each edge is a pair $(v_1, v_2)$, where $v_1$, $v_2$ are vertices in $V$\n",
    "    - $V = \\{A, B, C, D, E, F\\}$\n",
    "    \n",
    "For example, $E = \\{(A,B), (A,D), (B,C), (C,D), (C,E), (D,E)\\}$"
   ]
  },
  {
   "cell_type": "code",
   "execution_count": null,
   "metadata": {},
   "outputs": [],
   "source": [
    "Image(filename='images/week-10/graph2a.png', width=300)"
   ]
  },
  {
   "cell_type": "markdown",
   "metadata": {},
   "source": [
    "## Directed vs Undirected Graphs\n",
    "\n",
    "- If the order of edge pairs $(v_1, v_2)$ matters, the graph is directed (also called a digraph): $(v_1, v_2)\\ne (v_2, v_1)$"
   ]
  },
  {
   "cell_type": "code",
   "execution_count": null,
   "metadata": {},
   "outputs": [],
   "source": [
    "Image(filename='images/week-10/graph2b.png', width=200)"
   ]
  },
  {
   "cell_type": "markdown",
   "metadata": {},
   "source": [
    "- If the order of edge pairs $(v_1, v_2)$ does not matter, the graph is called an undirected graph: in this case, $(v_1, v_2)= (v_2, v_1)$"
   ]
  },
  {
   "cell_type": "code",
   "execution_count": null,
   "metadata": {},
   "outputs": [],
   "source": [
    "Image(filename='images/week-10/graph2c.png', width=200)"
   ]
  },
  {
   "cell_type": "markdown",
   "metadata": {},
   "source": [
    "### Undirected Graph Terminology\n",
    "\n",
    "- An undirected graph $G$, where:\n",
    "- $E = \\{ \\{a, b\\}, \\{a, c\\}, \\{b, e\\}, \\{b, h\\}, \\{b, i\\} ,\\{c, d\\} , \\{c, e\\} , \\{e, f\\} , \\{e, g\\} , \\{h, i\\} \\}$\n",
    "- $e = \\{c, d\\}$ is an edge, incident with the vertices $c$ and $d$\n",
    "- Two vertices, $u$ and $v$, are adjacent in an undirected graph $G$ if $\\{u, v\\}$ is an edge in $G$, (i.e. in $E$).\n",
    "    - edge $e = \\{u,v\\}$ is incident with vertex $u$ and vertex $v$\n",
    "- The degree of a vertex in an undirected graph is the number of edges incident with it\n",
    "    - a self-loop counts twice (both ends count)\n",
    "    - denoted with $deg(v)$, for example $deg(0)=2$, $deg(1)=4$, $deg(2)=2$"
   ]
  },
  {
   "cell_type": "code",
   "execution_count": null,
   "metadata": {},
   "outputs": [],
   "source": [
    "Image(filename='images/week-10/graph4b1.png', width=100)"
   ]
  },
  {
   "cell_type": "markdown",
   "metadata": {},
   "source": [
    "- A path in $G$ is a sequence of distinct vertices, each adjacent to the next.\n",
    "- A path is simple if no vertex occurs twice in the path.\n",
    "- A cycle in $G$ is a path in $G$ containing at least three vertices, such that the last vertex in the sequence is adjacent to the first vertex in the sequence."
   ]
  },
  {
   "cell_type": "code",
   "execution_count": null,
   "metadata": {},
   "outputs": [],
   "source": [
    "Image(filename='images/week-10/graph2.png', width=200)"
   ]
  },
  {
   "cell_type": "markdown",
   "metadata": {},
   "source": [
    "- A graph $G$ is connected if, given any two vertices $x$ and $y$ in $G$, there is a path in G with first vertex $x$ and last vertex $y$.\n",
    "- The graph on the previous slide is connected.\n",
    "- If a graph $G$ is not connected, then we say that a maximal connected set of vertices is a component of $G$."
   ]
  },
  {
   "cell_type": "code",
   "execution_count": null,
   "metadata": {},
   "outputs": [],
   "source": [
    "Image(filename='images/week-10/graph3.png', width=200)"
   ]
  },
  {
   "cell_type": "markdown",
   "metadata": {},
   "source": [
    "### Directed Graph Terminology\n",
    "- The terminology for directed graphs is only slightly different.\n",
    "- Vertex $u$ is adjacent to vertex $v$ in a directed graph $G$ if $(u,v)$ is an edge in $G$\n",
    "    - vertex $u$ is the initial vertex of $(u,v)$\n",
    "- Vertex $v$ is adjacent from vertex $u$\n",
    "    - vertex $v$ is the terminal (or end) vertex of $(u,v)$\n",
    "- $e = (c, d)$ is an edge, from $c$ to $d$ \n",
    "- Degree\n",
    "    - **in-degree** is the number of edges with the vertex as the terminal(or end) vertex, denoted by $deg^{-}(v)$\n",
    "    - **out-degree** is the number of edges with the vertex as the initial vertex, denoted by $deg^{+}(v)$ \n",
    "    - For example $deg^{-}(0)=0$, $deg^{-}(1)=2$, $deg^{-}(2)=2$, $deg^{+}(0)=2$, $deg^{+}(1)=2$, $deg^{+}(2)=0$\n",
    "    "
   ]
  },
  {
   "cell_type": "code",
   "execution_count": null,
   "metadata": {},
   "outputs": [],
   "source": [
    "Image(filename='images/week-10/graph4c.png', width=80)"
   ]
  },
  {
   "cell_type": "markdown",
   "metadata": {},
   "source": [
    "### Weighted Graphs\n",
    "\n",
    "- Each edge has a weight a.k.a. cost"
   ]
  },
  {
   "cell_type": "code",
   "execution_count": null,
   "metadata": {},
   "outputs": [],
   "source": [
    "Image(filename='images/week-10/weighted_graph_example2.gif', width=200)"
   ]
  },
  {
   "cell_type": "code",
   "execution_count": null,
   "metadata": {},
   "outputs": [],
   "source": [
    "Image(filename='images/week-10/graph4.png', width=200)"
   ]
  },
  {
   "cell_type": "markdown",
   "metadata": {},
   "source": [
    "## Graph Representations\n",
    "- Space and time are analyzed in terms of:\n",
    "    - Number of vertices, denoted by $|V|$ and\n",
    "    - Number of edges, denoted by $|E|$.\n",
    "- There are at least two ways of representing graphs:\n",
    "     - The adjacency matrix representation\n",
    "     - The adjacency list representation"
   ]
  },
  {
   "cell_type": "markdown",
   "metadata": {},
   "source": [
    "### Adjacency Matrix Representation\n",
    "- A graph may be represented by a twodimensional adjacency matrix.\n",
    "\n",
    "- If $G$ has $n = |V|$ vertices, let $M$ be an $n$-by-$n$ matrix whose entries are defined by \\begin{equation}\n",
    "M_{v,w}=\\begin{cases}\n",
    "1 & \\textrm{if}\\quad (v,w)\\quad\\textrm{is an edge}\\\\\n",
    "0 & \\textrm{otherwise}\n",
    "\\end{cases}\n",
    "\\end{equation}"
   ]
  },
  {
   "cell_type": "code",
   "execution_count": null,
   "metadata": {},
   "outputs": [],
   "source": [
    "Image(filename='images/week-10/graph5a.png', width=400)"
   ]
  },
  {
   "cell_type": "markdown",
   "metadata": {},
   "source": [
    "## Adjacency Matrix for a Digraph"
   ]
  },
  {
   "cell_type": "code",
   "execution_count": null,
   "metadata": {},
   "outputs": [],
   "source": [
    "Image(filename='images/week-10/graph6.png', width=400)"
   ]
  },
  {
   "cell_type": "markdown",
   "metadata": {},
   "source": [
    "## Adjacency List\n",
    "- For each $v$ in $V$, $L(v)$ = list of $w$ such that $(v, w)$ is in $E$"
   ]
  },
  {
   "cell_type": "code",
   "execution_count": null,
   "metadata": {},
   "outputs": [],
   "source": [
    "Image(filename='images/week-10/graph7.png', width=400)"
   ]
  },
  {
   "cell_type": "markdown",
   "metadata": {},
   "source": [
    "## Adjacency List for a Digraph\n",
    "- For each $v$ in $V$, $L(v)$ = list of $w$ such that $(v, w)$ is in $E$"
   ]
  },
  {
   "cell_type": "code",
   "execution_count": null,
   "metadata": {},
   "outputs": [],
   "source": [
    "Image(filename='images/week-10/graph8.png', width=400)"
   ]
  },
  {
   "cell_type": "markdown",
   "metadata": {},
   "source": [
    "### Graph Terms\n",
    "\n",
    "- **Walk** A sequence of adjacent vertices. Each connected to next by an edge.\n",
    "    - $\\{A,B,C,D,E\\}$ and $\\{A,B,A\\}$.\n",
    "- **Path** A walk that doesn’t repeat a vertex.\n",
    "    - $\\{A,B,C,D,E\\}$ is a path, but $\\{A,B,A\\}$ is not.\n",
    "- **Cycle** A path with an extra edge from last vertex back to first.\n",
    "- **Length** The number of edges in a walk/path/cycle.\n",
    "    - $\\{A,B,C,D,E\\}$ has length 4 and $\\{A,B,A\\}$ has 2.\n",
    "- **Cost** Sum of weights of edges in a walk/path/cycle."
   ]
  },
  {
   "cell_type": "markdown",
   "metadata": {},
   "source": [
    "## Connected Graphs\n",
    "- **Connected graph** a graph where every vertex is connected to every other vertex via some path. \n",
    "- It is not required for every vertex to have an edge to every other vertex\n",
    "- There exists some way to get from each vertex to every other vertex"
   ]
  },
  {
   "cell_type": "code",
   "execution_count": 3,
   "metadata": {},
   "outputs": [
    {
     "data": {
      "image/png": "[encoded data removed]",
      "text/plain": [
       "<IPython.core.display.Image object>"
      ]
     },
     "metadata": {
      "image/png": {
       "width": 80
      }
     },
     "output_type": "display_data"
    },
    {
     "data": {
      "image/png": "[encoded data removed]",
      "text/plain": [
       "<IPython.core.display.Image object>"
      ]
     },
     "metadata": {
      "image/png": {
       "width": 80
      }
     },
     "output_type": "display_data"
    }
   ],
   "source": [
    "left=Image(filename='images/week-10/graph4b1.png', width=80)\n",
    "right=Image(filename='images/week-10/graph4c.png', width=80)\n",
    "display(left,right)"
   ]
  },
  {
   "cell_type": "markdown",
   "metadata": {},
   "source": [
    "### Directed-Graph Connectivity\n",
    "\n",
    "- A directed path in a directed graph $G$ is a sequence of distinct vertices, such that there is an edge from each vertex in the sequence to the next.\n",
    "- A directed graph $G$ is **strongly connected** if, given any two vertices $x$ and $y$ in $G$, there is a directed path in $G$ from $x$ to $y$.\n",
    "- A directed graph $G$ is **weakly connected** if, the undirected graph obtained by suppressing the directions on the edges of $G$ is connected (according to the previous definition).\n",
    "- A **complete** a.k.a. **fully connected** directed graph has an edge from every vertex to every other vertex.\n"
   ]
  },
  {
   "cell_type": "markdown",
   "metadata": {},
   "source": [
    "- **Connected Component** a subgraph in which any two vertices are connected via some path, but is connected to no additional vertices in the supergraph\n",
    "- There exists some way to get from each vertex within the connected component to every other vertex in the connected component\n",
    "- A vertex with no edges is itself a connected component"
   ]
  },
  {
   "cell_type": "code",
   "execution_count": null,
   "metadata": {},
   "outputs": [],
   "source": [
    "Image(filename='images/week-10/graph2a.png', width=300)"
   ]
  },
  {
   "cell_type": "markdown",
   "metadata": {},
   "source": [
    "The connected components of the above graph are $\\{A,B,C,D,E\\}$ and $\\{F\\}$."
   ]
  },
  {
   "cell_type": "markdown",
   "metadata": {},
   "source": [
    "### Directed Acyclic Graphs (DAGs)\n",
    "- A DAG is a directed graph with no (directed) cycles."
   ]
  },
  {
   "cell_type": "markdown",
   "metadata": {},
   "source": [
    "### Directed Acyclic Graphs (DAGs)\n",
    "- A DAG is a directed graph with no (directed) cycles.\n",
    "    - Fact 1:\n",
    "        - Every rooted directed tree is a DAG\n",
    "        - But not every DAG is a rooted directed tree\n",
    "    - Fact 2: \n",
    "        - Every DAG is a directed graph\n",
    "        - But not every directed graph is a DAG"
   ]
  },
  {
   "cell_type": "markdown",
   "metadata": {},
   "source": [
    "### Graph problems\n",
    "\n",
    "There are lots of interesting questions we can ask about a graph:\n",
    "- What is the shortest route from location $A$ to $B$?\n",
    "- What is the longest route without cycles?\n",
    "- Are there cycles?"
   ]
  },
  {
   "cell_type": "markdown",
   "metadata": {},
   "source": [
    "### Graph problems\n",
    "Some well known graph problems and their common names:\n",
    "- **s-t Path** Is there a path between vertices s and t?\n",
    "- **Connectivity** Is the graph connected?\n",
    "- **Biconnectivity** Is there a vertex whose removal disconnects the graph?\n",
    "- **Shortest s-t Path** What is the shortest path between vertices s and t?\n",
    "- **Cycle Detection** Does the graph contain any cycles?"
   ]
  },
  {
   "cell_type": "markdown",
   "metadata": {},
   "source": [
    "### s-t path Problem\n",
    "- Given source vertex $s$ and a target vertex $t$, does there exist a path between $s$ and $t$?"
   ]
  },
  {
   "cell_type": "code",
   "execution_count": null,
   "metadata": {},
   "outputs": [],
   "source": [
    "Image(filename='images/week-10/graph2a.png', width=300)"
   ]
  },
  {
   "cell_type": "markdown",
   "metadata": {},
   "source": [
    "## Topological sort "
   ]
  },
  {
   "cell_type": "markdown",
   "metadata": {},
   "source": [
    "- Given a DAG, order all the vertices so that every vertex comes before all of its neighbors\n",
    "- **Problem:** Given a DAG $G=(V,E)$, output all vertices in an order such that no vertex appears before another vertex that has an edge to it.\n",
    "\n",
    "- **Goal:** Know what to do first\n",
    "\n",
    "- Topological sort takes DAG and produces linear ordering of all vertices such that\n",
    "- If graph contains edge $(u,v)$ then vertex $u$ comes before vertex $v$.\n",
    "- Some examples:\n",
    "    - Project schedules\n",
    "    - Course registration\n",
    "    - Cook recipes\n",
    "\n",
    "#### Topological Sort Algorithm\n",
    "- While there are vertices not yet output:\n",
    "    <ol>\n",
    "        <li>Choose a vertex $v$ with in-degree of 0</li>\n",
    "        <li>Output $v$ and mark it removed</li>\n",
    "        <li>For each vertex $u$ adjacent to $v$ (i.e. $u$ such that $(v,u)$ in E), decrement the in-degree of $u$</li>\n",
    "     </ol>"
   ]
  },
  {
   "cell_type": "code",
   "execution_count": 4,
   "metadata": {},
   "outputs": [
    {
     "data": {
      "image/png": "[encoded data removed]",
      "text/plain": [
       "<IPython.core.display.Image object>"
      ]
     },
     "execution_count": 4,
     "metadata": {
      "image/png": {
       "width": 400
      }
     },
     "output_type": "execute_result"
    }
   ],
   "source": [
    "Image(filename='images/week-10/topological_sort.png', width=400)"
   ]
  },
  {
   "cell_type": "code",
   "execution_count": null,
   "metadata": {},
   "outputs": [],
   "source": [
    "Image(filename='images/week-10/topsort1.png', width=400)"
   ]
  },
  {
   "cell_type": "code",
   "execution_count": null,
   "metadata": {},
   "outputs": [],
   "source": [
    "Image(filename='images/week-10/topsort2.png', width=400)"
   ]
  },
  {
   "cell_type": "code",
   "execution_count": null,
   "metadata": {},
   "outputs": [],
   "source": [
    "Image(filename='images/week-10/topsort3.png', width=400)"
   ]
  },
  {
   "cell_type": "code",
   "execution_count": null,
   "metadata": {},
   "outputs": [],
   "source": [
    "Image(filename='images/week-10/topsort4.png', width=400)"
   ]
  },
  {
   "cell_type": "code",
   "execution_count": null,
   "metadata": {},
   "outputs": [],
   "source": [
    "Image(filename='images/week-10/topsort5.png', width=400)"
   ]
  },
  {
   "cell_type": "code",
   "execution_count": null,
   "metadata": {},
   "outputs": [],
   "source": [
    "Image(filename='images/week-10/topsort6.png', width=400)"
   ]
  },
  {
   "cell_type": "code",
   "execution_count": null,
   "metadata": {},
   "outputs": [],
   "source": [
    "Image(filename='images/week-10/topsort7.png', width=400)"
   ]
  },
  {
   "cell_type": "code",
   "execution_count": null,
   "metadata": {},
   "outputs": [],
   "source": [
    "Image(filename='images/week-10/topsort8.png', width=400)"
   ]
  },
  {
   "cell_type": "code",
   "execution_count": null,
   "metadata": {},
   "outputs": [],
   "source": [
    "Image(filename='images/week-10/topsort9.png', width=400)"
   ]
  },
  {
   "cell_type": "code",
   "execution_count": null,
   "metadata": {},
   "outputs": [],
   "source": [
    "Image(filename='images/week-10/topsort10.png', width=400)"
   ]
  },
  {
   "cell_type": "code",
   "execution_count": null,
   "metadata": {},
   "outputs": [],
   "source": [
    "Image(filename='images/week-10/topsort11.png', width=400)"
   ]
  },
  {
   "cell_type": "markdown",
   "metadata": {},
   "source": [
    "**One output:** 126, 142, 143, 374, 373, 417, 410, 413, XYZ, 415"
   ]
  },
  {
   "cell_type": "markdown",
   "metadata": {},
   "source": [
    "### Questions and comments\n",
    "- **Q** Why do we perform topological sorts only on DAGs?\n",
    "- **A** Because a cycle means there is no correct answer\n",
    "- **Q** Is there always a unique answer?\n",
    "- **A** No, there can be 1 or more answers; depends on the graph\n",
    "- **Q** Do some DAGs have exactly 1 answer?\n",
    "- **A** Yes, including all lists\n",
    "\n",
    "- **Attention:** A DAG represents a partial order and a topological sort produces a total order that is consistent with it."
   ]
  },
  {
   "cell_type": "markdown",
   "metadata": {},
   "source": [
    "#### Some notices\n",
    "- Needed a vertex with in-degree 0 to start\n",
    "    - Will always have at least 1 because no cycles\n",
    "- Ties among vertices with in-degrees of 0 can be broken arbitrarily\n",
    "    - Can be more than one correct answer, by definition, depending on the graph"
   ]
  },
  {
   "cell_type": "code",
   "execution_count": null,
   "metadata": {},
   "outputs": [],
   "source": [
    "class Vertex:\n",
    "    def __init__(self,key):\n",
    "        self.id = key\n",
    "        self.connectedTo = {}\n",
    "\n",
    "    def addNeighbor(self,nbr,weight=0):\n",
    "        self.connectedTo[nbr] = weight\n",
    "\n",
    "    def __str__(self):\n",
    "        return str(self.id) + ' connectedTo: ' + str([x.id for x in self.connectedTo])\n",
    "\n",
    "    def getConnections(self):\n",
    "        return self.connectedTo.keys()\n",
    "\n",
    "    def getId(self):\n",
    "        return self.id\n",
    "\n",
    "    def getWeight(self,nbr):\n",
    "        return self.connectedTo[nbr]"
   ]
  },
  {
   "cell_type": "code",
   "execution_count": null,
   "metadata": {},
   "outputs": [],
   "source": [
    "class Graph:\n",
    "    def __init__(self):\n",
    "        self.vertList = {}\n",
    "        self.numVertices = 0\n",
    "\n",
    "    def addVertex(self,key):\n",
    "        self.numVertices = self.numVertices + 1\n",
    "        newVertex = Vertex(key)\n",
    "        self.vertList[key] = newVertex\n",
    "        return newVertex\n",
    "\n",
    "    def getVertex(self,n):\n",
    "        if n in self.vertList:\n",
    "            return self.vertList[n]\n",
    "        else:\n",
    "            return None\n",
    "\n",
    "    def __contains__(self,n):\n",
    "        return n in self.vertList\n",
    "\n",
    "    def addEdge(self,f,t,cost=0):\n",
    "        if f not in self.vertList:\n",
    "            nv = self.addVertex(f)\n",
    "        if t not in self.vertList:\n",
    "            nv = self.addVertex(t)\n",
    "        self.vertList[f].addNeighbor(self.vertList[t], cost)\n",
    "\n",
    "    def getVertices(self):\n",
    "        return self.vertList.keys()\n",
    "\n",
    "    def __iter__(self):\n",
    "        return iter(self.vertList.values())"
   ]
  },
  {
   "cell_type": "code",
   "execution_count": null,
   "metadata": {},
   "outputs": [],
   "source": [
    "g = Graph()"
   ]
  },
  {
   "cell_type": "code",
   "execution_count": null,
   "metadata": {},
   "outputs": [],
   "source": [
    "g.vertList"
   ]
  },
  {
   "cell_type": "code",
   "execution_count": null,
   "metadata": {},
   "outputs": [],
   "source": [
    "for i in range(6):\n",
    "    g.addVertex(i)"
   ]
  },
  {
   "cell_type": "code",
   "execution_count": null,
   "metadata": {},
   "outputs": [],
   "source": [
    "g.vertList[5].connectedTo.keys()"
   ]
  },
  {
   "cell_type": "code",
   "execution_count": null,
   "metadata": {},
   "outputs": [],
   "source": [
    "g.addEdge(1,2,4)"
   ]
  },
  {
   "cell_type": "code",
   "execution_count": null,
   "metadata": {},
   "outputs": [],
   "source": [
    "g.vertList[1].connectedTo"
   ]
  },
  {
   "cell_type": "code",
   "execution_count": null,
   "metadata": {},
   "outputs": [],
   "source": [
    "g.getVertices()"
   ]
  },
  {
   "cell_type": "code",
   "execution_count": null,
   "metadata": {},
   "outputs": [],
   "source": [
    "g.addEdge(0,1,5)\n",
    "g.addEdge(0,5,2)\n",
    "g.addEdge(2,3,9)\n",
    "g.addEdge(3,4,7)\n",
    "g.addEdge(3,5,3)\n",
    "g.addEdge(4,0,1)\n",
    "g.addEdge(5,4,8)\n",
    "g.addEdge(5,2,1)"
   ]
  },
  {
   "cell_type": "code",
   "execution_count": null,
   "metadata": {},
   "outputs": [],
   "source": [
    "g.vertList[5].getWeight(g.vertList[4])"
   ]
  },
  {
   "cell_type": "code",
   "execution_count": null,
   "metadata": {},
   "outputs": [],
   "source": [
    "for v in g:\n",
    "    for w in v.getConnections():\n",
    "        print(\"( %s , %s , %s )\" % (v.getId(), w.getId(), g.vertList[v.getId()].getWeight(g.vertList[w.getId()])))"
   ]
  },
  {
   "cell_type": "code",
   "execution_count": null,
   "metadata": {},
   "outputs": [],
   "source": [
    "from collections import defaultdict\n",
    "\n",
    "\n",
    "class Graph:\n",
    "    def __init__(self, directed=False):\n",
    "        self.graph = defaultdict(list)\n",
    "        self.directed = directed\n",
    "\n",
    "    def addEdge(self, frm, to):\n",
    "        self.graph[frm].append(to)\n",
    "\n",
    "        if self.directed is False:\n",
    "            self.graph[to].append(frm)\n",
    "        else:\n",
    "            self.graph[to] = self.graph[to]\n",
    "\n",
    "    def topoSortvisit(self, s, visited, sortlist):\n",
    "        visited[s] = True\n",
    "\n",
    "        for i in self.graph[s]:\n",
    "            if not visited[i]:\n",
    "                self.topoSortvisit(i, visited, sortlist)\n",
    "\n",
    "        sortlist.insert(0, s)\n",
    "\n",
    "    def topoSort(self):\n",
    "        visited = {i: False for i in self.graph}\n",
    "\n",
    "        sortlist = []\n",
    "       \n",
    "        for v in self.graph:\n",
    "            if not visited[v]:\n",
    "                self.topoSortvisit(v, visited, sortlist)\n",
    "\n",
    "        print(sortlist)"
   ]
  },
  {
   "cell_type": "code",
   "execution_count": null,
   "metadata": {},
   "outputs": [],
   "source": [
    "g = Graph(directed=True)\n",
    "\n",
    "g.addEdge(1, 2)\n",
    "g.addEdge(1, 3)\n",
    "g.addEdge(2, 4)\n",
    "g.addEdge(2, 5)\n",
    "g.addEdge(3, 4)\n",
    "g.addEdge(3, 6)\n",
    "g.addEdge(4, 6)"
   ]
  },
  {
   "cell_type": "code",
   "execution_count": null,
   "metadata": {},
   "outputs": [],
   "source": [
    "print(\"Topological Sort:\")\n",
    "g.topoSort()"
   ]
  }
 ],
 "metadata": {
  "anaconda-cloud": {},
  "kernelspec": {
   "display_name": "Python 3 (ipykernel)",
   "language": "python",
   "name": "python3"
  },
  "language_info": {
   "codemirror_mode": {
    "name": "ipython",
    "version": 3
   },
   "file_extension": ".py",
   "mimetype": "text/x-python",
   "name": "python",
   "nbconvert_exporter": "python",
   "pygments_lexer": "ipython3",
   "version": "3.10.9"
  }
 },
 "nbformat": 4,
 "nbformat_minor": 1
}
