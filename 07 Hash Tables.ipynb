{
 "cells": [
  {
   "cell_type": "markdown",
   "metadata": {},
   "source": [
    "## Today's Agenda\n",
    "- Hash Tables"
   ]
  },
  {
   "cell_type": "markdown",
   "metadata": {},
   "source": [
    "# Hashing \n",
    "\n",
    "### The Map ADT (A.K.A. Dictionary or Associative Array)\n",
    "\n",
    "- A map consists of (key, value) pairs\n",
    "    - distinct keys, unordered\n",
    "    - Each key, say $k$, may occur only once in the map\n",
    "    - maps keys to values\n",
    "    - Values are retrieved from the map via the key value,\n",
    "    - Values may be modified\n",
    "    - Key, value pairs may be removed\n",
    "    - For example, name → address; word → definition\n",
    "    \n",
    "- Some operations are:\n",
    "    - Usual operations: size() and isEmpty()\n",
    "    - Search operations: Find($k$) (or Get($k$)) returns $v$\n",
    "    - Add an entry: Insert($k$,$v$) (or Put($k$,$v$))\n",
    "    - Delete an entry: Delete($k$) (or Remove($k$)) returns $v$\n",
    "    - The cases where for insert/delete when the key is already there/not there\n",
    "    \n",
    "- The implementation of maps is known as **Hash tables**\n",
    "- These are abstract data types designed for $\\mathcal{O}(1)$ Find and Insert operations\n",
    "- Basic idea\n",
    "\n",
    "<img src=\"images/week-07/hash1a.png\">\n",
    "\n",
    "<img src=\"images/week-07/hash_function.jpg\">\n",
    "\n",
    "- **Key** unique integer that is used for indexing the values\n",
    "- **Value** data that are associated with keys.\n",
    "\n",
    "\n",
    "### Hash tables\n",
    "- There are $m$ possible keys ($m$ typically large, even infinite)\n",
    "- We expect our table to have only $n$ items\n",
    "- $n$ is much less than $m$ (often written $n << m$)\n",
    "\n",
    "- Many dictionaries have this property\n",
    "    - Compiler: All possible identifiers allowed by the language vs. those used in some file of one program\n",
    "    - Database: All possible student names vs. students enrolled"
   ]
  },
  {
   "cell_type": "markdown",
   "metadata": {},
   "source": [
    "## Limited Set of Map Operations\n",
    "- Note that with maps there are limited operations defined\n",
    "    - Insert, Find, and Delete\n",
    "    - Note that **no ordering of elements** is implied\n",
    "- For many real-lifeapplications, a limited set of operations is needed"
   ]
  },
  {
   "cell_type": "markdown",
   "metadata": {},
   "source": [
    "## Direct Address Tables\n",
    "- Direct addressing using an array is very fast\n",
    "- Assume\n",
    "    - keys are integers in the set $U=\\{0,1,\\cdots ,m-1\\}$\n",
    "    - $m$ is small\n",
    "    - no two elements have the same key\n",
    "    - Then just store each element at the array location array $A[k]$ ( a bucket for the key value $k$)\n",
    "    - Search, Insert, and Delete are trivial operations"
   ]
  },
  {
   "cell_type": "markdown",
   "metadata": {},
   "source": [
    "<img src=\"images/week-07/hash1.png\">"
   ]
  },
  {
   "cell_type": "markdown",
   "metadata": {},
   "source": [
    "## Some Issues\n",
    "-  If most keys in $U$ are used\n",
    "    - direct addressing can work very well (m small)\n",
    "- The largest possible key in $U$ , say $m$, may be much larger than the number of elements actually stored ($|U|$ much greater than $|K|$)\n",
    "    - the table is very sparse and wastes space\n",
    "    - in worst case, table too large to have in memory\n",
    "- If most keys in $U$ are not used\n",
    "    - need to map $U$ to a smaller set closer in size to $K$"
   ]
  },
  {
   "cell_type": "markdown",
   "metadata": {},
   "source": [
    "## Mapping the Keys\n",
    "\n",
    "<img src=\"images/week-07/hash2.png\">"
   ]
  },
  {
   "cell_type": "markdown",
   "metadata": {},
   "source": [
    "## Hashing Schemes\n",
    "- We want to store $N$ items in a table of size $M$, at a location computed from the key $K$\n",
    "- **Hash function**\n",
    "    - Method for computing table index from key\n",
    "- Need of a **collision** resolution strategy\n",
    "    - How to handle two keys that hash to the same index\n",
    "    \n",
    "    \n",
    "- *An ideal hash function:*\n",
    "    - Fast to compute\n",
    "    - “Rarely” hashes two “used” keys to the same index\n",
    "    \n",
    "<img src=\"images/week-07/hash1a.png\">"
   ]
  },
  {
   "cell_type": "markdown",
   "metadata": {},
   "source": [
    "## “Find” an Element in an Array\n",
    "\n",
    "- Data records can be stored in arrays.\n",
    "    - $A[0] = \\{“IND 110”, Size 89\\}$\n",
    "    - $A[3] = \\{“CENG 101”, Size 26\\}$\n",
    "    - $A[17] = \\{“CENG 373”, Size 42\\}$\n",
    "- What is class size for CENG 101?\n",
    "    - Linear search the array – $\\mathcal{O}(n)$ worst case time\n",
    "    - Binary search - $\\mathcal{O}(\\log{n})$ worst case"
   ]
  },
  {
   "cell_type": "markdown",
   "metadata": {},
   "source": [
    "## Go Directly to the Element\n",
    "- What if we could directly index into the array using the key?\n",
    "    - $A[“CENG 101”] = \\{Size 26\\}$\n",
    "- Main idea behind hash tables\n",
    "    - Use a key based on some aspect of the data to index directly into an array\n",
    "    - $\\mathcal{O}(1)$ time to access records"
   ]
  },
  {
   "cell_type": "markdown",
   "metadata": {},
   "source": [
    "## Indexing into Hash Table\n",
    "\n",
    "- Need a fast hash function to convert the element key (string or number) to an integer (the hash value) (i.e, map from U to index)\n",
    "    - Then use this value to index into an array\n",
    "    - $Hash(“CENG 101”) = 26$, $Hash(“CENG 373”) = 42$\n",
    "- Output of the hash function\n",
    "    - must always be less than size of array\n",
    "    - should be as evenly distributed as possible"
   ]
  },
  {
   "cell_type": "markdown",
   "metadata": {},
   "source": [
    "## Choosing the Hash Function\n",
    "- What properties do we want from a hash function?\n",
    "    - Want universe of hash values to be distributed randomly to minimize collisions\n",
    "    - Don’t want systematic non-random pattern in selection of keys to lead to systematic collisions\n",
    "    - Want hash value to depend on all values in entire key and their positions"
   ]
  },
  {
   "cell_type": "markdown",
   "metadata": {},
   "source": [
    "## The Key Values are Important\n",
    "- Notice that one issue with all the hash functions is that the actual content of the key set matters\n",
    "- The elements in K (the keys that are used) are quite possibly a restricted subset of $U$, not just a random collection\n",
    "    - variable names, words in the English language, reserved keywords, telephone numbers, etc."
   ]
  },
  {
   "cell_type": "markdown",
   "metadata": {},
   "source": [
    "## Simple Hashes\n",
    "- It's possible to have very simple hash functions if you are certain of your keys\n",
    "- For example,\n",
    "    - suppose we know that the keys s will be real numbers uniformly distributed over 0 ≤s < 1\n",
    "    - Then a very fast, very good hash function is\n",
    "        - $hash(s) = floor(s·m)$\n",
    "        - where $m$ is the size of the table"
   ]
  },
  {
   "cell_type": "markdown",
   "metadata": {},
   "source": [
    "## Example of a Very Simple Mapping\n",
    "- $hash(s) = floor(s·m)$ maps from $0\\le s < 1$ to $0,1,\\cdots , m-1$ with $m = 10$"
   ]
  },
  {
   "cell_type": "markdown",
   "metadata": {},
   "source": [
    "<img src=\"images/week-07/hash3.png\">\n",
    "\n",
    "Note the even distribution. There are **collisions**, \n",
    "\n",
    "<img src=\"images/week-07/hash8.png\">\n",
    "\n",
    "We will deal with collisions later."
   ]
  },
  {
   "cell_type": "markdown",
   "metadata": {},
   "source": [
    "## Perfect Hashing\n",
    "-  In some cases it's possible to map a known set of keys uniquely to a set of index values\n",
    "- You must know every single key beforehand and be able to derive a function that works *one-to-one*.\n",
    "<img src=\"images/week-07/hash4.png\">"
   ]
  },
  {
   "cell_type": "markdown",
   "metadata": {},
   "source": [
    "## Hashing integers\n",
    "- Key space is composed of integers\n",
    "- Simple and most common hash function\n",
    "\\begin{equation}\n",
    "hash(key)= key\\mod{TableSize}\n",
    "\\end{equation}\n",
    "\n",
    "### Example\n",
    "- $TableSize=10$\n",
    "- Key values are $7,18,41,34,10$, and added to hash table in this order. Then,"
   ]
  },
  {
   "cell_type": "code",
   "execution_count": 1,
   "metadata": {},
   "outputs": [
    {
     "data": {
      "text/html": [
       "<table><tr><td><img src='images/week-07/hashEx11.png'></td><td><img src='images/week-07/hashEx12.png'></td><td><img src='images/week-07/hashEx13.png'></td><td><img src='images/week-07/hashEx14.png'></td><td><img src='images/week-07/hashEx15.png'></td><td><img src='images/week-07/hashEx16.png'></td></tr></table>"
      ],
      "text/plain": [
       "<IPython.core.display.HTML object>"
      ]
     },
     "metadata": {},
     "output_type": "display_data"
    }
   ],
   "source": [
    "from IPython.display import HTML, display\n",
    "display(HTML(\"<table><tr><td><img src='images/week-07/hashEx11.png'></td><td><img src='images/week-07/hashEx12.png'></td><td><img src='images/week-07/hashEx13.png'></td><td><img src='images/week-07/hashEx14.png'></td><td><img src='images/week-07/hashEx15.png'></td><td><img src='images/week-07/hashEx16.png'></td></tr></table>\"))"
   ]
  },
  {
   "cell_type": "markdown",
   "metadata": {},
   "source": [
    "## Modulus Hash Function\n",
    "\n",
    "- One solution for a less constrained key set\n",
    "    - modular arithmetic\n",
    "- $a \\mod{size}$, where $size$ represents hash table size.\n",
    "    - returns remainder when $a$ is divided by $size$\n",
    "    - If Table size is $251$\n",
    "    - $408 \\mod{251} = 157$\n",
    "    - $352 \\mod{251} = 101$"
   ]
  },
  {
   "cell_type": "markdown",
   "metadata": {},
   "source": [
    "## Modulo Mapping\n",
    "- $a \\mod{m}$ maps from integers to $0,1,\\cdots ,m-1$\n",
    "    - Is it one to one? **No**\n",
    "    - Is it onto? Yes (for every bucket there is a possible key)\n",
    "    \n",
    "<img src=\"images/week-07/hash5.png\">"
   ]
  },
  {
   "cell_type": "markdown",
   "metadata": {},
   "source": [
    "## Hashing Integers\n",
    "- If keys are integers, we can use the hash function:\n",
    "    - $hash(key) = key \\mod{TableSize}$\n",
    "- **Problem 1:** What if $TableSize$ is 11 and all keys are 2 repeated digits? (eg, $22, 33,\\cdots$)\n",
    "    - all keys map to the same index\n",
    "    - Need to pick $TableSize$ carefully: often, a prime number"
   ]
  },
  {
   "cell_type": "markdown",
   "metadata": {},
   "source": [
    "## Nonnumerical Keys\n",
    "- Many hash functions assume that the universe of keys is the natural numbers $N=\\{0,1,2,\\cdots\\}$\n",
    "- Need to find a function to convert the actual key to a natural number quickly and effectively before or during the hash calculation\n",
    "- Generally work with the ASCII character codes when converting strings to numbers"
   ]
  },
  {
   "cell_type": "markdown",
   "metadata": {},
   "source": [
    "## Characters to Integers\n",
    "\n",
    "- If keys are strings can get an integer by adding up ASCII values of characters in key\n",
    "- We are converting a very large string $c_{0}c_{1}c_{2}\\cdots c_{n}$ to a relatively small number $c_{0}+c_{1}+c_{2}+\\cdots +c_{n} \\mod{size}$.\n",
    "\n",
    "<img src=\"images/week-07/hash6.png\">"
   ]
  },
  {
   "cell_type": "markdown",
   "metadata": {},
   "source": [
    "## Hash Must be Onto Table\n",
    "- **Problem 2:** What if $TableSize$ is 1,000 and all keys are 8 or less characters long?\n",
    "    - chars have values between 0 and 127\n",
    "    - Keys will hash only to positions 0 through $8\\times 127 = 1016$\n",
    "- Need to distribute keys over the entire table or the extra space is wasted"
   ]
  },
  {
   "cell_type": "markdown",
   "metadata": {},
   "source": [
    "## Problems with Adding Characters\n",
    "- Problems with adding up character values for string keys\n",
    "    - If string keys are short, they will not hash evenly to all of the hash table\n",
    "    - Different character combinations hash to same value\n",
    "        - “abc”, “bca”, and “cab” all add up to the same value, **COLLISION** occurs.  "
   ]
  },
  {
   "cell_type": "markdown",
   "metadata": {},
   "source": [
    "## Collisions\n",
    "- A collision occurs when two different keys hash to the same value\n",
    "    - For example, if $TableSize = 17$, the keys 18 and 35 hash to the same value for the $\\mod{17}$ hash function\n",
    "    - $18 \\mod{17} = 1$ and $35 \\mod{17} = 1$\n",
    "- Cannot store both data records in the same slot in array\n",
    "\n",
    "## Collision-avoidance\n",
    "- With $hash(key) = key \\mod{TableSize}$, the number of collisions depends on\n",
    "    - The key values to be inserted into hash table\n",
    "    - $TableSize$\n",
    "    \n",
    "- Larger table-size tends to help, but not always\n",
    "    - Example: Suppose key values: $70, 24, 56, 43, 10$\n",
    "    - With $TableSize$ $10$ and $60$, we obtain similar collisions.\n",
    "- Strategy: Pick table size to be prime. **Exercise: Why?**"
   ]
  },
  {
   "cell_type": "markdown",
   "metadata": {},
   "source": [
    "## Collision Resolution\n",
    "- Separate Chaining\n",
    "    - Use data structure (such as a linked list) to store multiple items that hash to the same slot\n",
    "- Open addressing (or probing)\n",
    "    - search for empty slots , e.g., using a second function and store item in first empty slot that is found"
   ]
  },
  {
   "cell_type": "markdown",
   "metadata": {},
   "source": [
    "## Resolution by Chaining\n",
    "- **Chaining:** All keys that map to the same table location are kept in a list (a.k.a. a “chain” or “bucket”)\n",
    "- Each hash table cell holds pointer to linked list of records with same hash value\n",
    "- Collision: Insert item into linked list\n",
    "- To Find an item: compute hash value, then do Find on linked\n",
    "list\n",
    "- Note that there are potentially as many as $TableSize$ lists\n",
    "\n",
    "<img src=\"images/week-07/hash7.png\">"
   ]
  },
  {
   "cell_type": "markdown",
   "metadata": {},
   "source": [
    "#### Example\n",
    "\n",
    "insert $10, 22, 107, 12, 42$ with $\\mod{}$ hashing and $TableSize = 10$."
   ]
  },
  {
   "cell_type": "code",
   "execution_count": 2,
   "metadata": {},
   "outputs": [
    {
     "data": {
      "text/html": [
       "<table><tr><td><img src='images/week-07/hashEx21.png'></td><td><img src='images/week-07/hashEx22.png'></td><td><img src='images/week-07/hashEx23.png'></td><td><img src='images/week-07/hashEx24.png'></td><td><img src='images/week-07/hashEx25.png'></td><td><img src='images/week-07/hashEx26.png'></td></tr></table>"
      ],
      "text/plain": [
       "<IPython.core.display.HTML object>"
      ]
     },
     "metadata": {},
     "output_type": "display_data"
    }
   ],
   "source": [
    "from IPython.display import HTML, display\n",
    "display(HTML(\"<table><tr><td><img src='images/week-07/hashEx21.png'></td><td><img src='images/week-07/hashEx22.png'></td><td><img src='images/week-07/hashEx23.png'></td><td><img src='images/week-07/hashEx24.png'></td><td><img src='images/week-07/hashEx25.png'></td><td><img src='images/week-07/hashEx26.png'></td></tr></table>\"))"
   ]
  },
  {
   "cell_type": "markdown",
   "metadata": {},
   "source": [
    "## Why Lists?\n",
    "- Can use List ADT for Find/Insert/Delete in linked list\n",
    "    - $\\mathcal{O}(M)$ runtime where $M$ is the number of elements in the particular chain\n",
    "- Can also use Binary Search Trees\n",
    "    - $\\mathcal{O}(\\log{M})$ time instead of $\\mathcal{O}(M)$\n",
    "    - But the number of elements to search through, $M$, should be small (otherwise the hashing function is bad or the table is too small)\n",
    "    - generally not worth the overhead of BSTs"
   ]
  },
  {
   "cell_type": "markdown",
   "metadata": {},
   "source": [
    "## Load Factor of a Hash Table\n",
    "- Let $N$ be the number of items to be stored\n",
    "- Load factor \\begin{equation}\\lambda =\\frac{N}{TableSize}\\end{equation}\n",
    "    - $TableSize = 101$ and $N =505$, then $\\lambda = 5$\n",
    "    - $TableSize = 101$ and $N =10$, then $\\lambda = 0.1$\n",
    "- Average length of chained list equals to $\\lambda$ and so average time for accessing an item becomes $\\mathcal{O}(1)+\\mathcal{O}(\\lambda)$\n",
    "    - Want $\\lambda$ to be smaller than 1 but close to 1 if good hashing function (i.e. $TableSize≈ N$)\n",
    "    - With chaining hashing continues to work for $\\lambda > 1$"
   ]
  },
  {
   "cell_type": "markdown",
   "metadata": {},
   "source": [
    "## Resolution by Open Addressing\n",
    "- No links, all keys are in the table\n",
    "    - reduced overhead saves space\n",
    "- When searching for $x$, check locations $h_1{x},h_2{x},h_3{x}\\cdots$, until either\n",
    "    - $x$ is found; or\n",
    "    - we find an empty location ($x$ not present)\n",
    "- Various aspects of open addressing differ in which probe sequence they use."
   ]
  },
  {
   "cell_type": "markdown",
   "metadata": {},
   "source": [
    "### Example\n",
    "- Simple approach: If $h(key)= key \\mod{TableSize}$ is already full,\n",
    "    - try $(h(key) + 1) \\mod{}TableSize$. If full,\n",
    "    - try $(h(key) + 2) \\mod{}TableSize$. If full,\n",
    "    - try $(h(key) + 3) \\mod{}TableSize$. If full,...\n",
    "    \n",
    "- insert $38, 19, 8, 109, 10$"
   ]
  },
  {
   "cell_type": "code",
   "execution_count": 3,
   "metadata": {},
   "outputs": [
    {
     "data": {
      "text/html": [
       "<table><tr><td><img src='images/week-07/hashEx31.png'></td><td><img src='images/week-07/hashEx32.png'></td><td><img src='images/week-07/hashEx33.png'></td><td><img src='images/week-07/hashEx34.png'></td><td><img src='images/week-07/hashEx35.png'></td></tr></table>"
      ],
      "text/plain": [
       "<IPython.core.display.HTML object>"
      ]
     },
     "metadata": {},
     "output_type": "display_data"
    }
   ],
   "source": [
    "from IPython.display import HTML, display\n",
    "display(HTML(\"<table><tr><td><img src='images/week-07/hashEx31.png'></td><td><img src='images/week-07/hashEx32.png'></td><td><img src='images/week-07/hashEx33.png'></td><td><img src='images/week-07/hashEx34.png'></td><td><img src='images/week-07/hashEx35.png'></td></tr></table>\"))"
   ]
  },
  {
   "cell_type": "markdown",
   "metadata": {},
   "source": [
    "## Probing hash tables\n",
    "- Trying the next spot is called **probing** (also called **open addressing**).\n",
    "- In above example, We just did *linear probing*.\n",
    "- $i$th probe was \\begin{equation}(h(key) + i) \\mod{TableSize}\\end{equation}\n",
    "where $h(key)= key \\mod{TableSize}$\n",
    "- In general, we have some **probe function** $F$ and use\n",
    "\\begin{equation}h(key) + F(i) \\mod{TableSize}\\end{equation}\n",
    "- Open addressing does poorly with high load factor $\\lambda$\n",
    "     - So want larger tables\n",
    "     - Too many probes means no more $\\mathcal{O}(1)$"
   ]
  },
  {
   "cell_type": "markdown",
   "metadata": {},
   "source": [
    "## Cell Full? Keep Looking.\n",
    "- $h_{i}(x)=(h(x)+F(i)) \\mod{TableSize},\\quad i=0,1,2,\\cdots$\n",
    "    - Define $F(0) = 0$\n",
    "    - $h(x)= x \\mod{TableSize}$\n",
    "- $F$ is the collision resolution function.\n",
    "    - Some possibilities:\n",
    "        - Linear: $F(i) = i$\n",
    "        - Quadratic: $F(i) = i^{2}$\n",
    "        - Double Hashing: $F(i) = i·Hash_{2}(x)$"
   ]
  },
  {
   "cell_type": "markdown",
   "metadata": {},
   "source": [
    "## Linear Probing\n",
    "- When searching for $k$, check locations $h(k),h(k)+1, h(k)+2,\\cdots \\mod{TableSize}$ until either\n",
    "    - $k$ is found; or\n",
    "    - we find an empty location ($k$ not present)\n",
    "- If table is very sparse, almost like separate chaining.\n",
    "- When table starts filling, we get clustering but still constant average search time.\n",
    "- Full table ⇒ infinite loop"
   ]
  },
  {
   "cell_type": "markdown",
   "metadata": {},
   "source": [
    "## Primary Clustering Problem\n",
    "- Once a block of a few contiguous occupied positions emerges in table, it becomes a “target” for subsequent collisions\n",
    "- As clusters grow, they also merge to form larger clusters.\n",
    "- Primary clustering: elements that hash to different cells probe same alternative cells\n",
    "\n",
    "<img src=\"images/week-07/hashPrimaryClustering.png\">"
   ]
  },
  {
   "cell_type": "markdown",
   "metadata": {},
   "source": [
    "## Quadratic Probing\n",
    "- $h_{i}(x)=(h(x)+F(i)) \\mod{TableSize},\\quad i=0,1,2,\\cdots$\n",
    "- $F(i)=i^{2}$\n",
    "- When searching for $k$, check locations $h(k),h(k)+1^{2}, h(k)+2^{2},\\cdots \\mod{TableSize}$ until either\n",
    "    - $k$ is found; or\n",
    "    - we find an empty location ($k$ not present)\n",
    "- No primary clustering but secondary clustering possible"
   ]
  },
  {
   "cell_type": "markdown",
   "metadata": {},
   "source": [
    "### Example\n",
    "- $TableSize=10$ and iinsert $89,18,49,58,79$\n",
    "- $h_{i}(x)=(h(x)+i^2) \\mod{TableSize}$\n",
    "- $h_{0}(89)=(h(89)+0^2) \\mod{10}=9$\n",
    "- $h_{0}(18)=(h(18)+0^2) \\mod{10}=8$\n",
    "- $h_{0}(49)=(h(49)+0^2) \\mod{10}=9$, full try next\n",
    "- $h_{1}(49)=(h(49)+1^2) \\mod{10}=0$"
   ]
  },
  {
   "cell_type": "code",
   "execution_count": 4,
   "metadata": {},
   "outputs": [
    {
     "data": {
      "text/html": [
       "<table><tr><td><img src='images/week-07/hashEx41.png'></td><td><img src='images/week-07/hashEx42.png'></td><td><img src='images/week-07/hashEx43.png'></td><td><img src='images/week-07/hashEx44.png'></td><td><img src='images/week-07/hashEx45.png'></td><td><img src='images/week-07/hashEx46.png'></td></tr></table>"
      ],
      "text/plain": [
       "<IPython.core.display.HTML object>"
      ]
     },
     "metadata": {},
     "output_type": "display_data"
    }
   ],
   "source": [
    "from IPython.display import HTML, display\n",
    "display(HTML(\"<table><tr><td><img src='images/week-07/hashEx41.png'></td><td><img src='images/week-07/hashEx42.png'></td><td><img src='images/week-07/hashEx43.png'></td><td><img src='images/week-07/hashEx44.png'></td><td><img src='images/week-07/hashEx45.png'></td><td><img src='images/week-07/hashEx46.png'></td></tr></table>\"))"
   ]
  },
  {
   "cell_type": "markdown",
   "metadata": {},
   "source": [
    "## Double Hashing\n",
    "- Double Hashing: $F(i) = i·g(x)$\n",
    "- When searching for $k$, check locations $h(k),h(k)+g(k), h(k)+2\\times g(k),\\cdots \\mod{TableSize}$ until either\n",
    "    - $k$ is found; or\n",
    "    - we find an empty location ($k$ not present)\n",
    "- General formula: $h_{i}(k)=(h(k)+i\\times g(k)) \\mod{TableSize},\\quad i=1,2,\\cdots$\n",
    "-  Must be careful about $g(k)$\n",
    "    - Make sure that $g(k)$ can not be $0$.\n",
    "    - For example\n",
    "        - $h(k)=k\\mod{p}$,\n",
    "        - $g(k)=q-(k\\mod{q})$\n",
    "        - $2<q<p$,\n",
    "        - $p$ and $q$ are prime numbers."
   ]
  },
  {
   "cell_type": "markdown",
   "metadata": {},
   "source": [
    "## Rehashing\n",
    "- If table gets too full, create a bigger table and copy everything\n",
    "- Rehashing makes a new, **bigger table**\n",
    "- With chaining, we get to decide what “too full” means\n",
    "    - Keep load factor reasonable (e.g., < 1)?\n",
    "    - Consider average or max size of non-empty chains.\n",
    "- For probing, half-full is a good rule of thumb\n",
    "- New table size\n",
    "    - Twice-as-big is a good idea, except that won’t be prime!\n",
    "    - So go about twice-as-big, but prime."
   ]
  },
  {
   "cell_type": "code",
   "execution_count": null,
   "metadata": {},
   "outputs": [],
   "source": [
    "# Hashing Function to return \n",
    "# key for every value.\n",
    "def Hashing(keyvalue):\n",
    "    return keyvalue % len(HashTable)                                                  "
   ]
  },
  {
   "cell_type": "code",
   "execution_count": null,
   "metadata": {},
   "outputs": [],
   "source": [
    "# Insert Function to add\n",
    "# values to the hash table\n",
    "def insert(Hashtable, keyvalue, value):\n",
    "      \n",
    "    hash_key = Hashing(keyvalue)\n",
    "    Hashtable[hash_key].append(value)\n",
    "  "
   ]
  },
  {
   "cell_type": "code",
   "execution_count": null,
   "metadata": {},
   "outputs": [],
   "source": [
    "# Function to display hashtable\n",
    "def display_hash(hashTable):\n",
    "      \n",
    "    for i in range(len(hashTable)):\n",
    "        print(i, end = \" \")\n",
    "          \n",
    "        for j in hashTable[i]:\n",
    "            print(\"-->\", end = \" \")\n",
    "            print(j, end = \" \")\n",
    "              \n",
    "        print()"
   ]
  },
  {
   "cell_type": "code",
   "execution_count": null,
   "metadata": {},
   "outputs": [],
   "source": [
    "# Creating Hashtable as \n",
    "# a nested list.\n",
    "HashTable = [[] for _ in range(10)]"
   ]
  },
  {
   "cell_type": "code",
   "execution_count": null,
   "metadata": {},
   "outputs": [],
   "source": [
    "display_hash (HashTable)"
   ]
  },
  {
   "cell_type": "code",
   "execution_count": null,
   "metadata": {},
   "outputs": [],
   "source": [
    "# Driver Code\n",
    "insert(HashTable, 10, 'Ankara')"
   ]
  },
  {
   "cell_type": "code",
   "execution_count": null,
   "metadata": {},
   "outputs": [],
   "source": [
    "insert(HashTable, 20, 'Kayseri')"
   ]
  },
  {
   "cell_type": "code",
   "execution_count": null,
   "metadata": {},
   "outputs": [],
   "source": [
    "insert(HashTable, 25, 'İstanbul')\n",
    "insert(HashTable, 9, 'Trabzon')\n",
    "insert(HashTable, 21, 'İzmir')\n",
    "insert(HashTable, 21, 'Muğla')"
   ]
  },
  {
   "cell_type": "code",
   "execution_count": null,
   "metadata": {},
   "outputs": [],
   "source": [
    "display_hash (HashTable)"
   ]
  },
  {
   "cell_type": "code",
   "execution_count": null,
   "metadata": {},
   "outputs": [],
   "source": [
    "HashTable[Hashing(21)]"
   ]
  },
  {
   "cell_type": "code",
   "execution_count": 1,
   "metadata": {},
   "outputs": [],
   "source": [
    "class HashTable(object):\n",
    "    def __init__(self, length=10):\n",
    "        # Initiate our array with empty values.\n",
    "        self.array = [None] * length\n",
    "    \n",
    "    def hash(self, key):\n",
    "        \"\"\"Get the index of our array for a specific string key\"\"\"\n",
    "        length = len(self.array)\n",
    "        return hash(key) % length\n",
    "        \n",
    "    def add(self, key, value):\n",
    "        \"\"\"Add a value to our array by its key\"\"\"\n",
    "        index = self.hash(key)\n",
    "        if self.array[index] is not None:\n",
    "            # This index already contain some values.\n",
    "            # This means that this add MIGHT be an update\n",
    "            # to a key that already exist. Instead of just storing\n",
    "            # the value we have to first look if the key exist.\n",
    "            for kvp in self.array[index]:\n",
    "                # If key is found, then update\n",
    "                # its current value to the new value.\n",
    "                if kvp[0] == key:\n",
    "                    kvp[1] = value\n",
    "                    break\n",
    "                else:\n",
    "                    # If no breaks was hit in the for loop, it \n",
    "                    # means that no existing key was found, \n",
    "                    # so we can simply just add it to the end.\n",
    "                    self.array[index].append([key, value])\n",
    "        else:\n",
    "            # This index is empty. We should initiate \n",
    "            # a list and append our key-value-pair to it.\n",
    "            self.array[index] = []\n",
    "            self.array[index].append([key, value])\n",
    "            \n",
    "        if self.is_full():\n",
    "            self.double()\n",
    "    \n",
    "    def get(self, key):\n",
    "        \"\"\"Get a value by key\"\"\"\n",
    "        index = self.hash(key)\n",
    "        if self.array[index] is None:\n",
    "            raise KeyError()\n",
    "        else:\n",
    "            # Loop through all key-value-pairs\n",
    "            # and find if our key exist. If it does \n",
    "            # then return its value.\n",
    "            for kvp in self.array[index]:\n",
    "                if kvp[0] == key:\n",
    "                    return kvp[1]\n",
    "            \n",
    "            # If no return was done during loop,\n",
    "            # it means key didn't exist.\n",
    "            raise KeyError()\n",
    "            \n",
    "    \n",
    "    def is_full(self):\n",
    "        \"\"\"Determines if the HashTable is too populated.\"\"\"\n",
    "        items = 0\n",
    "        # Count how many indexes in our array\n",
    "        # that is populated with values.\n",
    "        for item in self.array:\n",
    "            if item is not None:\n",
    "                items += 1\n",
    "        # Return bool value based on if the \n",
    "        # amount of populated items are more \n",
    "        # than half the length of the list.\n",
    "        return items > len(self.array)/2\n",
    "        \n",
    "    def double(self):\n",
    "        \"\"\"Double the list length and re-add values\"\"\"\n",
    "        ht2 = HashTable(length=len(self.array)*2)\n",
    "        for i in range(len(self.array)):\n",
    "            if self.array[i] is None:\n",
    "                continue\n",
    "            \n",
    "            # Since our list is now a different length,\n",
    "            # we need to re-add all of our values to \n",
    "            # the new list for its hash to return correct\n",
    "            # index.\n",
    "            for kvp in self.array[i]:\n",
    "                ht2.add(kvp[0], kvp[1])\n",
    "        \n",
    "        # Finally we just replace our current list with \n",
    "        # the new list of values that we created in ht2.\n",
    "        self.array = ht2.array"
   ]
  },
  {
   "cell_type": "code",
   "execution_count": 2,
   "metadata": {},
   "outputs": [],
   "source": [
    "h = HashTable()"
   ]
  },
  {
   "cell_type": "code",
   "execution_count": 3,
   "metadata": {},
   "outputs": [],
   "source": [
    "h.add(10, 'Ankara')"
   ]
  },
  {
   "cell_type": "code",
   "execution_count": 4,
   "metadata": {},
   "outputs": [
    {
     "data": {
      "text/plain": [
       "'Ankara'"
      ]
     },
     "execution_count": 4,
     "metadata": {},
     "output_type": "execute_result"
    }
   ],
   "source": [
    "h.get(10)"
   ]
  },
  {
   "cell_type": "code",
   "execution_count": 5,
   "metadata": {},
   "outputs": [],
   "source": [
    "h.add(25, 'İstanbul')\n",
    "h.add(20, 'Kayseri')\n",
    "h.add(9, 'Trabzon')\n",
    "h.add(21, 'İzmir')\n",
    "h.add(21, 'Muğla')"
   ]
  },
  {
   "cell_type": "code",
   "execution_count": 7,
   "metadata": {},
   "outputs": [
    {
     "data": {
      "text/plain": [
       "'Kayseri'"
      ]
     },
     "execution_count": 7,
     "metadata": {},
     "output_type": "execute_result"
    }
   ],
   "source": [
    "h.get(20)"
   ]
  },
  {
   "cell_type": "code",
   "execution_count": null,
   "metadata": {},
   "outputs": [],
   "source": []
  },
  {
   "cell_type": "code",
   "execution_count": 8,
   "metadata": {},
   "outputs": [
    {
     "data": {
      "text/plain": [
       "'Muğla'"
      ]
     },
     "execution_count": 8,
     "metadata": {},
     "output_type": "execute_result"
    }
   ],
   "source": [
    "h.get(21)"
   ]
  },
  {
   "cell_type": "code",
   "execution_count": null,
   "metadata": {},
   "outputs": [],
   "source": [
    "h.hash(21)"
   ]
  },
  {
   "cell_type": "code",
   "execution_count": null,
   "metadata": {},
   "outputs": [],
   "source": [
    "h.is_full()"
   ]
  },
  {
   "cell_type": "code",
   "execution_count": null,
   "metadata": {},
   "outputs": [],
   "source": []
  }
 ],
 "metadata": {
  "anaconda-cloud": {},
  "kernelspec": {
   "display_name": "Python 3 (ipykernel)",
   "language": "python",
   "name": "python3"
  },
  "language_info": {
   "codemirror_mode": {
    "name": "ipython",
    "version": 3
   },
   "file_extension": ".py",
   "mimetype": "text/x-python",
   "name": "python",
   "nbconvert_exporter": "python",
   "pygments_lexer": "ipython3",
   "version": "3.10.9"
  }
 },
 "nbformat": 4,
 "nbformat_minor": 1
}
