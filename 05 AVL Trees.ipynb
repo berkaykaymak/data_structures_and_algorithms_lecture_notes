{
 "cells": [
  {
   "cell_type": "markdown",
   "metadata": {},
   "source": [
    "## Today's Agenda\n",
    "- Binary Search Trees\n",
    "- AVL Trees\n",
    "\n",
    "## Objectives\n",
    "- To understand the structure of Binary Search Trees and AVL Trees."
   ]
  },
  {
   "cell_type": "markdown",
   "metadata": {},
   "source": [
    "# Binary Search Tree (BST)\n",
    "\n",
    "BST has two properties:\n",
    "### Structure property (binary tree)\n",
    "- Each node has ≤ 2 children\n",
    "\n",
    "### Order property\n",
    "- All keys in left subtree smaller than node’s key.\n",
    "- All keys in right subtree larger than node’s key.\n",
    "     - Result: easy to find any given key.     \n",
    "        \n",
    "<img src=\"images/week-04/binary_search_tree.png\" width=\"300\">"
   ]
  },
  {
   "cell_type": "markdown",
   "metadata": {},
   "source": [
    "For example,\n",
    "<img src=\"images/week-04/binary_search_tree2.png\"  width=\"300\">\n",
    "is a BST, but"
   ]
  },
  {
   "cell_type": "markdown",
   "metadata": {},
   "source": [
    "<img src=\"images/week-04/binary_search_tree3.png\"  width=\"320\">\n",
    "is not BST.\n",
    "\n",
    "Note that the tree is a binary tree.\n",
    "\n",
    "**A binary search tree is a type of binary tree (but not all binary trees are binary search trees!)**\n",
    "\n",
    "# BST ADT\n",
    "- find(key) : returns TRUE if key is at the tree.\n",
    "- findMax() : retuns the maximum valued key at the tree and, returns nothing if the tree is empty.\n",
    "- findMin : retuns the minimum valued key at the tree and, returns nothing if the tree is empty. \n",
    "- Here is the pseudocode for findMin:\n",
    "\n",
    "Node findMin(Node root){\n",
    "\n",
    "    if(root == null)\n",
    " \n",
    "        return null;\n",
    "    \n",
    "    if(root.left==null)\n",
    " \n",
    "        return root;\n",
    "   \n",
    "    return findMin(root.left);\n",
    " \n",
    "}"
   ]
  },
  {
   "cell_type": "code",
   "execution_count": 1,
   "metadata": {},
   "outputs": [],
   "source": [
    "class Node:\n",
    "    \"\"\"A class for creating a binary tree node and inserting elements.\n",
    "\n",
    "       Attributes:\n",
    "       -----------\n",
    "       key : int, str\n",
    "            The value that exists at this node of the tree.  eg. tree=Node(4) initializes a tree with \n",
    "            a stump integer value of 4.\n",
    "\n",
    "       Methods: \n",
    "       --------   \n",
    "       insert(self, key) : Inserts a new element into the tree. \n",
    "    \"\"\"\n",
    "\n",
    "    def __init__(self, key):\n",
    "        self.key = key\n",
    "        self.right = None\n",
    "        self.left = None\n",
    "\n",
    "\n",
    "    def insert(self, key):\n",
    "        if self.key == key:\n",
    "            return\n",
    "        elif self.key < key:\n",
    "            if self.right is None:\n",
    "                self.right = Node(key)\n",
    "            else:\n",
    "                self.right.insert(key)\n",
    "        else: # self.key > key\n",
    "            if self.left is None:\n",
    "                self.left = Node(key)\n",
    "            else:\n",
    "                self.left.insert(key)\n",
    "                \n",
    " \n",
    "\n",
    "    def display(self):\n",
    "        lines, _, _, _ = self._display_aux()\n",
    "        for line in lines:\n",
    "            print(line)\n",
    "\n",
    "\n",
    "    def _display_aux(self):\n",
    "        \"\"\"Returns list of strings, width, height, and horizontal coordinate of the root. this is \n",
    "           a utility function that gets used by the <display()> method for building pretty stdout \n",
    "           visualization of the binary tree. \"\"\"\n",
    "\n",
    "        # No child exists.\n",
    "        if self.right is None and self.left is None:\n",
    "            line = '%s' % self.key\n",
    "            width = len(line)\n",
    "            height = 1\n",
    "            middle = width // 2\n",
    "            return [line], width, height, middle\n",
    "\n",
    "        # Only left child exists.\n",
    "        if self.right is None:\n",
    "            lines, n, p, x = self.left._display_aux()\n",
    "            s = '%s' % self.key\n",
    "            u = len(s)\n",
    "            first_line = (x + 1) * ' ' + (n - x - 1) * '_' + s\n",
    "            second_line = x * ' ' + '/' + (n - x - 1 + u) * ' '\n",
    "            shifted_lines = [line + u * ' ' for line in lines]\n",
    "            return [first_line, second_line] + shifted_lines, n + u, p + 2, n + u // 2\n",
    "\n",
    "        # Only right child exists.\n",
    "        if self.left is None:\n",
    "            lines, n, p, x = self.right._display_aux()\n",
    "            s = '%s' % self.key\n",
    "            u = len(s)\n",
    "            first_line = s + x * '_' + (n - x) * ' '\n",
    "            second_line = (u + x) * ' ' + '\\\\' + (n - x - 1) * ' '\n",
    "            shifted_lines = [u * ' ' + line for line in lines]\n",
    "            return [first_line, second_line] + shifted_lines, n + u, p + 2, u // 2\n",
    "\n",
    "        # Two children exist.\n",
    "        left, n, p, x = self.left._display_aux()\n",
    "        right, m, q, y = self.right._display_aux()\n",
    "        s = '%s' % self.key\n",
    "        u = len(s)\n",
    "        first_line = (x + 1) * ' ' + (n - x - 1) * '_' + s + y * '_' + (m - y) * ' '\n",
    "        second_line = x * ' ' + '/' + (n - x - 1 + u + y) * ' ' + '\\\\' + (m - y - 1) * ' '\n",
    "\n",
    "        if p < q:\n",
    "            left += [n * ' '] * (q - p)\n",
    "        elif q < p:\n",
    "            right += [m * ' '] * (p - q)\n",
    "            \n",
    "        zipped_lines = zip(left, right)\n",
    "        lines = [first_line, second_line] + [a + u * ' ' + b for a, b in zipped_lines]\n",
    "        return lines, n + m + u, max(p, q) + 2, n + u // 2"
   ]
  },
  {
   "cell_type": "code",
   "execution_count": 2,
   "metadata": {},
   "outputs": [],
   "source": [
    "bst3 = Node(10)\n",
    "keys = [9,8,7,6,5,4,3,2,1,11,12,13,14,15,16,17,18,19]\n",
    "for key in keys:\n",
    "    bst3.insert(key)"
   ]
  },
  {
   "cell_type": "code",
   "execution_count": 3,
   "metadata": {},
   "outputs": [],
   "source": [
    "bst = Node(13)"
   ]
  },
  {
   "cell_type": "code",
   "execution_count": 4,
   "metadata": {},
   "outputs": [
    {
     "name": "stdout",
     "output_type": "stream",
     "text": [
      "13\n"
     ]
    }
   ],
   "source": [
    "bst.display()"
   ]
  },
  {
   "cell_type": "code",
   "execution_count": 5,
   "metadata": {},
   "outputs": [],
   "source": [
    "bst.insert(7)"
   ]
  },
  {
   "cell_type": "code",
   "execution_count": 6,
   "metadata": {},
   "outputs": [
    {
     "name": "stdout",
     "output_type": "stream",
     "text": [
      " 13\n",
      "/  \n",
      "7  \n"
     ]
    }
   ],
   "source": [
    "bst.display()"
   ]
  },
  {
   "cell_type": "code",
   "execution_count": null,
   "metadata": {},
   "outputs": [],
   "source": [
    "bst.insert(20)"
   ]
  },
  {
   "cell_type": "code",
   "execution_count": null,
   "metadata": {},
   "outputs": [],
   "source": [
    "bst.display()"
   ]
  },
  {
   "cell_type": "code",
   "execution_count": null,
   "metadata": {},
   "outputs": [],
   "source": [
    "keys = [5,10,15,24]\n",
    "for key in keys:\n",
    "    bst.insert(key)"
   ]
  },
  {
   "cell_type": "code",
   "execution_count": null,
   "metadata": {},
   "outputs": [],
   "source": [
    "bst.display()"
   ]
  },
  {
   "cell_type": "code",
   "execution_count": null,
   "metadata": {},
   "outputs": [],
   "source": [
    "bst2 = Node(1)\n",
    "keys = [2,3,4,5]\n",
    "for key in keys:\n",
    "    bst2.insert(key)\n",
    "bst2.display()"
   ]
  },
  {
   "cell_type": "code",
   "execution_count": null,
   "metadata": {},
   "outputs": [],
   "source": [
    "ubt = Node('D')\n",
    "\n",
    "keys = ['C', 'B', 'A']\n",
    "for key in keys:\n",
    "    ubt.insert(key)\n",
    "\n",
    "ubt.display()"
   ]
  },
  {
   "cell_type": "code",
   "execution_count": null,
   "metadata": {},
   "outputs": [],
   "source": [
    "def inorder(tree):\n",
    "    # Returns an array of tree elements using inorder traversal.\n",
    "    visited = []\n",
    "    if tree:\n",
    "        visited = inorder(tree.left)\n",
    "        visited.append(tree.key)\n",
    "        visited = visited + inorder(tree.right)\n",
    "    return visited"
   ]
  },
  {
   "cell_type": "code",
   "execution_count": null,
   "metadata": {},
   "outputs": [],
   "source": [
    "inorder(bst2)"
   ]
  },
  {
   "cell_type": "code",
   "execution_count": null,
   "metadata": {},
   "outputs": [],
   "source": [
    "inorder(bst)"
   ]
  },
  {
   "cell_type": "code",
   "execution_count": null,
   "metadata": {},
   "outputs": [],
   "source": [
    "def postorder(tree): #exercise\n",
    "    visited = []\n",
    "    if tree:\n",
    "        visitedL = postorder(tree.left)\n",
    "        visitedR = postorder(tree.right)\n",
    "        visited.append(tree.key)\n",
    "        visited =visitedL + visitedR + visited\n",
    "    return visited"
   ]
  },
  {
   "cell_type": "code",
   "execution_count": null,
   "metadata": {},
   "outputs": [],
   "source": [
    "postorder(bst)"
   ]
  },
  {
   "cell_type": "code",
   "execution_count": null,
   "metadata": {},
   "outputs": [],
   "source": [
    "def preorder(tree): #exercise\n",
    "    pass"
   ]
  },
  {
   "cell_type": "markdown",
   "metadata": {},
   "source": [
    "## Binary Search Tree Analysis\n",
    "\n",
    "- How fast are BST operations?\n",
    "     - Given a tree, what is the worstcase node to find/remove?\n",
    "- What is the best-case tree?\n",
    "     - a balanced tree\n",
    "     \n",
    "     <img src=\"images/week-04/BSTbalanced.png\"  width=\"300\">\n",
    "     \n",
    "- What is the worst-case tree?\n",
    "     - a completely unbalanced tree\n",
    "     \n",
    "     <img src=\"images/week-04/BSTunbalanced.png\"  width=\"200\">\n",
    "     \n",
    "**Problem**: operations may be inefficient if BST is unbalanced."
   ]
  },
  {
   "cell_type": "code",
   "execution_count": null,
   "metadata": {},
   "outputs": [],
   "source": [
    "def get_height(tree):\n",
    "    '''\n",
    "    Returns the height of the tree.  \n",
    "    '''\n",
    "    if tree is None or (tree.left is None and tree.right is None): \n",
    "        return 0\n",
    "    return 1 + max(get_height(tree.left), get_height(tree.right))    "
   ]
  },
  {
   "cell_type": "code",
   "execution_count": null,
   "metadata": {},
   "outputs": [],
   "source": [
    "def is_balanced(tree):\n",
    "    '''\n",
    "    Method for determining if a binary tree is balanced.\n",
    "\n",
    "    A binary tree is balanced if:\n",
    "        - it's empty\n",
    "        - the left sub tree is balanced\n",
    "        - the right subtree is balanced\n",
    "        - the difference in depth between left and right is <=1\n",
    "\n",
    "    Parameters:\n",
    "    ____________\n",
    "    root : the node object, below which the definition of 'balanced' will be applied.    \n",
    "    '''\n",
    "    if tree is None: \n",
    "        return True\n",
    "    return is_balanced(tree.right) and is_balanced(tree.left) and abs(get_height(tree.left) - get_height(tree.right)) <= 1   "
   ]
  },
  {
   "cell_type": "code",
   "execution_count": null,
   "metadata": {},
   "outputs": [],
   "source": [
    "bst.display()"
   ]
  },
  {
   "cell_type": "code",
   "execution_count": null,
   "metadata": {},
   "outputs": [],
   "source": [
    "get_height(bst)"
   ]
  },
  {
   "cell_type": "code",
   "execution_count": null,
   "metadata": {},
   "outputs": [],
   "source": [
    "bst2.display()"
   ]
  },
  {
   "cell_type": "code",
   "execution_count": null,
   "metadata": {},
   "outputs": [],
   "source": [
    "get_height(bst2)"
   ]
  },
  {
   "cell_type": "code",
   "execution_count": null,
   "metadata": {},
   "outputs": [],
   "source": [
    "is_balanced(bst)"
   ]
  },
  {
   "cell_type": "code",
   "execution_count": null,
   "metadata": {},
   "outputs": [],
   "source": [
    "is_balanced(bst2)"
   ]
  },
  {
   "cell_type": "code",
   "execution_count": null,
   "metadata": {},
   "outputs": [],
   "source": [
    "bst3.display()"
   ]
  },
  {
   "cell_type": "code",
   "execution_count": null,
   "metadata": {},
   "outputs": [],
   "source": [
    "get_height(bst3)"
   ]
  },
  {
   "cell_type": "code",
   "execution_count": null,
   "metadata": {},
   "outputs": [],
   "source": [
    "is_balanced(bst3)"
   ]
  },
  {
   "cell_type": "code",
   "execution_count": null,
   "metadata": {},
   "outputs": [],
   "source": [
    "bst4 = Node(3)\n",
    "keys = [2,1]\n",
    "for key in keys:\n",
    "    bst4.insert(key)"
   ]
  },
  {
   "cell_type": "code",
   "execution_count": null,
   "metadata": {},
   "outputs": [],
   "source": [
    "get_height(bst4)"
   ]
  },
  {
   "cell_type": "code",
   "execution_count": null,
   "metadata": {},
   "outputs": [],
   "source": [
    "bst4.display()"
   ]
  },
  {
   "cell_type": "code",
   "execution_count": null,
   "metadata": {},
   "outputs": [],
   "source": [
    "is_balanced(bst4)"
   ]
  },
  {
   "cell_type": "markdown",
   "metadata": {},
   "source": [
    "# AVL Trees\n",
    "\n",
    "## Motivation\n",
    "- All BST operations are  $\\mathcal{O}(d)$, where $d$ is tree depth\n",
    "- Minimum $d$ is $d=\\lfloor\\log{n}\\rfloor$ for a binary tree with $n$ nodes, assume base 2.\n",
    "    - What is the best case tree?\n",
    "    - What is the worst case tree?\n",
    "- So, best case running time of BST operations is $\\mathcal{O}(\\log{n})$.\n",
    "- Worst case running time is $\\mathcal{O}(n)$\n",
    "\n",
    "    - What happens when you Insert elements in ascending order?\n",
    "        - Insert: 1, 2, 3, 4, 5, 6, 7 into an empty BST"
   ]
  },
  {
   "cell_type": "markdown",
   "metadata": {},
   "source": [
    "- Worst case running time is $\\mathcal{O}(n)$  \n",
    "    - **Problem:** Lack of “balance”:\n",
    "         - compare depths of left and right subtree\n",
    "    - Unbalanced degenerate tree\n",
    "        \n",
    "<img src=\"images/week-04/binary_search_tree.png\" width=\"250\">"
   ]
  },
  {
   "cell_type": "markdown",
   "metadata": {},
   "source": [
    "Recall that Binary Search Tree (BST) has two properties:\n",
    "**Structure property (binary tree)**\n",
    "- Each node has ≤ 2 children\n",
    "    - Result: keeps operations simple\n",
    "\n",
    "**Order property**\n",
    "- All keys in left subtree smaller than node’s key.\n",
    "- All keys in right subtree larger than node’s key.\n",
    "     - Result: easy to find any given key.\n",
    "     \n",
    "**Problem:** operations may be inefficient if BST is unbalanced\n",
    "- Find, insert, and delete\n",
    "    - $\\mathcal{O}(n)$ in the worst case\n",
    "\n",
    "**Observation**\n",
    "- BST: the shallower the better!\n",
    "\n",
    "**Solution:** Require and maintain a *Balance Condition* that\n",
    "- Ensures depth is always $\\mathcal{O}(\\log{n})$,\n",
    "- But, it is necessary to keep the tree balanced after performing insert and delete operations."
   ]
  },
  {
   "cell_type": "markdown",
   "metadata": {},
   "source": [
    "What is the definition of balance?\n",
    "\n",
    "<img src=\"images/week-05/treeunbalanced1.png\" width=\"300\">\n",
    "\n",
    "- Left and right subtrees of the root have equal number of nodes\n",
    "\n",
    "<img src=\"images/week-05/treeunbalanced.png\" width=\"300\">\n",
    "\n",
    "- Left and right subtrees of the root have equal height "
   ]
  },
  {
   "cell_type": "markdown",
   "metadata": {},
   "source": [
    "<img src=\"images/week-05/treebalanced.png\" width=\"300\">\n",
    "- Left and right subtrees of **every node** have equal number of nodes\n",
    "\n",
    "- Left and right subtrees of **every node** have equal height."
   ]
  },
  {
   "cell_type": "markdown",
   "metadata": {},
   "source": [
    "## Balancing Binary Search Trees\n",
    "\n",
    "- Many algorithms exist for keeping binary search trees balanced\n",
    "     - Adelson-Velskii and Landis (AVL) trees (height-balanced trees)\n",
    "     - Red-black trees;\n",
    "     - Splay trees and other self-adjusting trees\n",
    "     - B-trees and other (e.g. 2-4 trees) multiway search trees"
   ]
  },
  {
   "cell_type": "markdown",
   "metadata": {},
   "source": [
    "     \n",
    "## Perfect Balance\n",
    "\n",
    "- Want a complete tree after every operation\n",
    "     - tree is full except possibly in the lower right\n",
    "- This is expensive\n",
    "     - For example, insert 2 in the tree on the left and then rebuild as a complete tree\n",
    "     \n",
    "     <img src=\"images/week-05/balancedPerfect.png\" width=\"500\">\n",
    "     \n",
    "- What is the worst-case tree?\n",
    "     - a completely unbalanced tree\n",
    "     \n",
    "     <img src=\"images/week-04/BSTunbalanced.png\" width=\"200\">\n",
    "     \n",
    "**Problem**: operations may be inefficient if BST is unbalanced."
   ]
  },
  {
   "cell_type": "markdown",
   "metadata": {},
   "source": [
    "     \n",
    "## Tree Rotations\n",
    "- Re-balance unbalanced trees with tree rotations\n",
    "\n",
    "<img src=\"images/week-05/treeRotation.png\" width=\"500\">\n",
    "\n",
    "Note that inorder traversal is **preserved**.\n",
    "\n",
    "<img src=\"images/week-05/treeRotationOrder.png\" width=\"320\">"
   ]
  },
  {
   "cell_type": "markdown",
   "metadata": {},
   "source": [
    "# AVL Trees\n",
    "\n",
    "- Named after inventors Adelson-Velskii and Landis (AVL)\n",
    "    - First invented in 1962\n",
    "    - By mathematicians Georgii Adelson-Velsky and Evgenii Mikhailovich Landis.\n",
    "    \n",
    "-  AVL trees are height-balanced binary search trees\n",
    "\n",
    "- **Balance factor** of a node\n",
    "     - height(left subtree) - height(right subtree)\n",
    "- For an AVL tree, balance factor is calculated at every node\n",
    "    - For every node, heights of left and right subtree can differ by no more than 1\n",
    "    - Store current heights in each node"
   ]
  },
  {
   "cell_type": "markdown",
   "metadata": {},
   "source": [
    "## The AVL Balance Condition\n",
    "- Left and right subtrees of **every node** have heights differing by at most 1\n",
    "\n",
    "**Definition:** balance(node) = height(node.left) – height(node.right)\n",
    "\n",
    "**AVL property:** for every node x, –1 ≤ balance(x) ≤ 1"
   ]
  },
  {
   "cell_type": "markdown",
   "metadata": {},
   "source": [
    "## The AVL Tree Data Structure\n",
    "- An AVL tree is a self-balancing binary search tree.\n",
    "\n",
    "### Structural properties\n",
    "- Binary tree property (same as BST)\n",
    "- Order property (same as for BST)\n",
    "\n",
    "ALSO\n",
    "- **Balance property:**\n",
    "    - balance of every node is between -1 and 1\n",
    "- Result: Worst-case depth is O(log n)\n",
    "- Named after inventors Adelson-Velskii and Landis (AVL)\n",
    "    - First invented in 1962"
   ]
  },
  {
   "cell_type": "markdown",
   "metadata": {},
   "source": [
    "### AVL tree height\n",
    "\n",
    "Suppose $N(h)$ is the minimum of nodes in an AVL tree of height $h$. Then,\n",
    "- **Base:**\n",
    "\\begin{equation}\n",
    "N(-1)=null, N(0)=1,\\quad N(1)=2\n",
    "\\end{equation}\n",
    "<img src=\"images/week-04/binary_tree.png\" width=\"350\">\n",
    "- **Induction step:**\n",
    "\\begin{equation}\n",
    "N(h)=N(h-1)+N(h-2)+1\n",
    "\\end{equation}\n",
    "<img src=\"images/week-05/AVL1.png\" width=\"150\">\n",
    "- In result, \n",
    "\\begin{equation}\n",
    "N(h)\\ge\\phi^{h}, \\quad(\\phi\\approx 1.62) \\implies h\\le \\frac{\\log{N(h)}}{\\log{\\phi}}\\implies h\\le 1.44\\log{N(h)}\n",
    "\\end{equation}\n",
    "- Namely, AVLs are relatively well balanced trees."
   ]
  },
  {
   "cell_type": "markdown",
   "metadata": {},
   "source": [
    "### Node heights\n",
    "\n",
    "- Recall that \n",
    "    - Height of node – The height of a node is the number of edges on the longest downward path between that node and a leaf. \n",
    "    \n",
    "    <img src=\"images/week-05/AVL2.png\" width=\"500\">\n",
    "    \n",
    "Suppose that \n",
    "- height of a node = $h$\n",
    "- Then, the balance factor for the node is\n",
    "\\begin{equation}\n",
    "h_{left}-h_{right}\n",
    "\\end{equation}\n",
    "- the height of empty tree is -1\n",
    "\n",
    "- Note that BOTH of the above trees are AVLs."
   ]
  },
  {
   "cell_type": "markdown",
   "metadata": {},
   "source": [
    "### An AVL tree is a self-balancing binary search tree with the properties\n",
    "\n",
    "- **Structural property**- Binary tree\n",
    "- **Order property** - Same as for BST\n",
    "\n",
    "ALSO\n",
    "- **Balance property:**\n",
    "    - balance factor of every node is between -1 and 1\n",
    "    \n",
    "    <img src=\"images/week-05/AVL7generalAVL.png\" width=\"250\">"
   ]
  },
  {
   "cell_type": "markdown",
   "metadata": {},
   "source": [
    "### After insertion 7\n",
    "- An AVL tree is a self-balancing binary search tree.\n",
    "<img src=\"images/week-05/AVL3.png\" width=\"250\">\n",
    "<img src=\"images/week-05/AVL4.png\" width=\"250\">"
   ]
  },
  {
   "cell_type": "markdown",
   "metadata": {},
   "source": [
    "## Insert and Rotation in AVL Trees\n",
    "- Insert operation may cause balance factor to become 2 or –2 for some node\n",
    "     - only nodes on the path from insertion point to root node have possibly changed in height\n",
    "    - So after the Insert, go back up to the root node by node, updating heights\n",
    "    - If a new balance factor (the difference $h_{left}-h_{right}$) is 2 or –2, adjust tree by rotation around the node"
   ]
  },
  {
   "cell_type": "markdown",
   "metadata": {},
   "source": [
    "## Single Rotation in an AVL Tree\n",
    "\n",
    "<img src=\"images/week-05/AVL5.png\" width=\"500\">"
   ]
  },
  {
   "cell_type": "markdown",
   "metadata": {},
   "source": [
    "## Double Rotation in an AVL Tree\n",
    "<img src=\"images/week-05/AVL6.png\" width=\"500\">"
   ]
  },
  {
   "cell_type": "markdown",
   "metadata": {},
   "source": [
    "## Insertions in AVL Trees\n",
    "\n",
    "After insertions AVL property might be destroyed. To restore AVL property there are 4 cases to consider. Let the node that needs rebalancing be $\\alpha$.\n",
    "\n",
    "- Outside Cases (require single rotation) :\n",
    "    - Insertion into left subtree of left child of $\\alpha$.\n",
    "    - Insertion into right subtree of right child of $\\alpha$.\n",
    "- Inside Cases (require double rotation) :\n",
    "    - Insertion into right subtree of left child of $\\alpha$.\n",
    "    - Insertion into left subtree of right child of $\\alpha$.\n",
    "\n",
    "The rebalancing is performed through four separate rotation algorithms."
   ]
  },
  {
   "cell_type": "markdown",
   "metadata": {},
   "source": [
    "## AVL Insertion: Outside Case\n",
    "\n",
    "Consider a valid AVL **subtree**.\n",
    "\n",
    "<img src=\"images/week-05/AVL7generalAVL.png\" width=\"250\">\n",
    "Inserting into X destroys the AVL property at node j\n",
    "<img src=\"images/week-05/AVL8.png\" width=\"250\">\n",
    "- Do **RIGHT ROTATION**.\n",
    "<img src=\"images/week-05/AVL9.png\" width=\"250\">\n",
    "\n",
    "- Break connections\n",
    "<img src=\"images/week-05/AVL10.png\" width=\"250\">\n",
    "After Right rotation AVL property has been restored.\n",
    "<img src=\"images/week-05/AVL11.png\" width=\"250\">\n",
    "\n",
    "- Mirror reflection is resolved by **Left Rotation**"
   ]
  },
  {
   "cell_type": "markdown",
   "metadata": {},
   "source": [
    "## AVL Insertion: Inside Case\n",
    "Consider the following valid AVL **subtree**.\n",
    "<img src=\"images/week-05/AVL7generalAVL.png\" width=\"250\">\n",
    "\n",
    "- Inserting into $Y$ destroys the AVL property at node $j$.\n",
    "<img src=\"images/week-05/AVL12.png\" width=\"250\">\n",
    "- Observe that right rotation does NOT work.\n",
    "- Instead consider the structure of the subtree $Y$, expand to obtain\n",
    "<img src=\"images/week-05/AVL13.png\" width=\"250\">\n",
    "- Now there are two rotations - left rotation solid ellipse and right rotation dashed ellipse (aka left-right rotation, double rotation)\n",
    "<img src=\"images/week-05/AVL14.png\" width=\"250\">\n",
    "- After left rotation is completed\n",
    "<img src=\"images/week-05/AVL15.png\" width=\"250\">\n",
    "- Do right rotation\n",
    "<img src=\"images/week-05/AVL16.png\" width=\"250\">\n",
    "- After right rotation is completet\n",
    "<img src=\"images/week-05/AVL17.png\" width=\"250\">\n",
    "- Balance has been restored."
   ]
  },
  {
   "cell_type": "code",
   "execution_count": null,
   "metadata": {},
   "outputs": [],
   "source": []
  }
 ],
 "metadata": {
  "anaconda-cloud": {},
  "kernelspec": {
   "display_name": "Python 3 (ipykernel)",
   "language": "python",
   "name": "python3"
  },
  "language_info": {
   "codemirror_mode": {
    "name": "ipython",
    "version": 3
   },
   "file_extension": ".py",
   "mimetype": "text/x-python",
   "name": "python",
   "nbconvert_exporter": "python",
   "pygments_lexer": "ipython3",
   "version": "3.10.9"
  }
 },
 "nbformat": 4,
 "nbformat_minor": 1
}
