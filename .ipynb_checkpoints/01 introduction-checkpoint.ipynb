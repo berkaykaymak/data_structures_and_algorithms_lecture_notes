{
 "cells": [
  {
   "cell_type": "markdown",
   "metadata": {
    "slideshow": {
     "slide_type": "slide"
    }
   },
   "source": [
    "## Agenda\n",
    "- To review the ideas of computer science, programming, and problem-solving\n",
    "- To understand abstraction and the role it plays in the problem-solving process\n",
    "- To understand and implement the notion of an abstract data type\n",
    "\n",
    "***\n",
    "\n",
    "Textbook: Problem Solving With Algorithms and Data Structures Using Python by Brad Miller and David Ranum, Luther College.\n",
    "It can be reached at: https://runestone.academy/runestone/books/published/pythonds/index.html\n",
    "\n",
    "\n",
    "Python cheat sheet: https://www.pythoncheatsheet.org/"
   ]
  },
  {
   "cell_type": "markdown",
   "metadata": {
    "slideshow": {
     "slide_type": "skip"
    }
   },
   "source": [
    "## Something"
   ]
  },
  {
   "cell_type": "code",
   "execution_count": 1,
   "metadata": {
    "slideshow": {
     "slide_type": "skip"
    }
   },
   "outputs": [
    {
     "name": "stdout",
     "output_type": "stream",
     "text": [
      "this is my first python code\n"
     ]
    }
   ],
   "source": [
    "print('this is my first python code')"
   ]
  },
  {
   "cell_type": "code",
   "execution_count": 2,
   "metadata": {
    "slideshow": {
     "slide_type": "skip"
    }
   },
   "outputs": [
    {
     "data": {
      "text/plain": [
       "2"
      ]
     },
     "execution_count": 2,
     "metadata": {},
     "output_type": "execute_result"
    }
   ],
   "source": [
    "48//23"
   ]
  },
  {
   "cell_type": "markdown",
   "metadata": {
    "slideshow": {
     "slide_type": "slide"
    }
   },
   "source": [
    "## Programming\n",
    "- Take a computing problem and create an executable program\n",
    "    1. Analyze and understand the problem\n",
    "    2. Design a data model and an algorithm\n",
    "        - Data model: way to represent the information\n",
    "        - Algorithm: formal computation steps\n",
    "    3. Implement the algorithm in a computer language\n"
   ]
  },
  {
   "cell_type": "markdown",
   "metadata": {
    "slideshow": {
     "slide_type": "subslide"
    }
   },
   "source": [
    "- Programming != solving a problem\n",
    "- Programming is teaching somebody else how to solve a problem\n",
    "    - “Somebody else” is a computer\n",
    "    - A computer is a device that can be programmed to carry out a finite set of operations on binary numbers\n",
    "    - Computers can’t do anything that they are not programmed to do"
   ]
  },
  {
   "cell_type": "markdown",
   "metadata": {},
   "source": [
    "## Why Data Structures and Algorithms?\n",
    "- The goal is to write efficient, and correct programs\n",
    "- Write computer programs in a language, e.g. Python, Java, C++\n",
    "- Develop mathematical maturity to understand analytical proofs\n",
    "- Implement good abstractions\n",
    "***\n",
    "\n",
    "### Attributes of Algorithms\n",
    "- Correctness\n",
    "    - Give a correct solution to the problem!\n",
    "- Efficiency\n",
    "    - Time:   How long does it take to solve the problem?\n",
    "    - Space: How much memory is needed?\n",
    "    - Benchmarking vs. Analysis\n",
    "- Ease of understanding\n",
    "    - Program maintenance\n",
    "- Elegance\n",
    "\n",
    "### A Choice of Algorithms\n",
    "- Possible to come up with several different algorithms to solve the same problem.\n",
    "    - Which one is the \"best\"?\n",
    "        - Most efficient\n",
    "            - Time vs. Space?\n",
    "        - Easiest to maintain?\n",
    "- How do we measure time efficiency?\n",
    "    - Running time? Machine dependent!\n",
    "    - Number of steps?"
   ]
  },
  {
   "cell_type": "markdown",
   "metadata": {
    "slideshow": {
     "slide_type": "slide"
    }
   },
   "source": [
    "### The Data Cleanup Problem\n",
    "**Problem:** Remove 0 entries from a list of numbers.\n",
    "\n",
    "<img src=\"images/week-01/data_cleanup_problem.png\" width=\"500\">"
   ]
  },
  {
   "cell_type": "markdown",
   "metadata": {
    "slideshow": {
     "slide_type": "subslide"
    }
   },
   "source": [
    "- We look at three algorithms for the same problem, and compare their **time** and **space** efficiency."
   ]
  },
  {
   "cell_type": "markdown",
   "metadata": {
    "slideshow": {
     "slide_type": "subslide"
    }
   },
   "source": [
    "### The Shuffle-Left Algorithm\n",
    "- We scan the list from left to right, and whenever we encounter a 0 element we copy (\"shuffle\") the rest of the list one position left."
   ]
  },
  {
   "cell_type": "code",
   "execution_count": 10,
   "metadata": {},
   "outputs": [
    {
     "name": "stdout",
     "output_type": "stream",
     "text": [
      "[0 0 0 0 0 0 0 0 0 0]\n"
     ]
    },
    {
     "data": {
      "text/plain": [
       "0"
      ]
     },
     "execution_count": 10,
     "metadata": {},
     "output_type": "execute_result"
    }
   ],
   "source": [
    "import numpy as np\n",
    "L=np.zeros(10, dtype = int)\n",
    "print(L)\n",
    "L[0]"
   ]
  },
  {
   "cell_type": "code",
   "execution_count": 5,
   "metadata": {},
   "outputs": [],
   "source": [
    "L[1]=12\n",
    "L[2]=32\n",
    "L[3]=71\n",
    "L[4]=34\n",
    "L[6]=36\n",
    "L[7]=92\n",
    "L[9]=13"
   ]
  },
  {
   "cell_type": "code",
   "execution_count": 6,
   "metadata": {},
   "outputs": [
    {
     "name": "stdout",
     "output_type": "stream",
     "text": [
      "[ 0 12 32 71 34  0 36 92  0 13]\n"
     ]
    }
   ],
   "source": [
    "print(L)"
   ]
  },
  {
   "cell_type": "code",
   "execution_count": 7,
   "metadata": {},
   "outputs": [],
   "source": [
    "def shuffle_left(L):\n",
    "    m = len(L)\n",
    "    nzeros = 0\n",
    "    for i in range(m):\n",
    "        if L[i]==0:\n",
    "            nzeros = nzeros +1\n",
    "            for j in range(i,m-1):\n",
    "                L[j]=L[j+1]\n",
    "    L = L[0:m-nzeros]\n",
    "    return L"
   ]
  },
  {
   "cell_type": "code",
   "execution_count": 8,
   "metadata": {},
   "outputs": [
    {
     "name": "stdout",
     "output_type": "stream",
     "text": [
      "[12 32 71 34 36 92 13]\n"
     ]
    }
   ],
   "source": [
    "print(shuffle_left(L))"
   ]
  },
  {
   "cell_type": "markdown",
   "metadata": {
    "slideshow": {
     "slide_type": "subslide"
    }
   },
   "source": [
    "### The Copy-Over Algorithm\n",
    "- We scan the list from left to right, and whenever we encounter a nonzero element we copy it over to a new list."
   ]
  },
  {
   "cell_type": "markdown",
   "metadata": {
    "slideshow": {
     "slide_type": "subslide"
    }
   },
   "source": [
    "### The Converging-Pointers Algorithm\n",
    "We scan the list from both left (L) and right (R). Whenever L encounters a 0 element, the element at location R is copied to location L, then R reduced."
   ]
  },
  {
   "cell_type": "markdown",
   "metadata": {
    "slideshow": {
     "slide_type": "subslide"
    }
   },
   "source": [
    "### Data-Cleanup Algorithm Comparison\n",
    "- Which one is the most space efficient?\n",
    "Shuffle-left\t\tno additional space\n",
    "Copy-over\t\tneeds a new list\n",
    "Converging-pointers\tno additional space\n",
    "- Which one is the most time efficient?\n",
    "Shuffle-left\t\tmany comparisons\n",
    "Copy-over\t\tgoes through list only once\n",
    "Converging-pointers\tgoes through list only once\n",
    "- How do we measure time efficiency?"
   ]
  },
  {
   "cell_type": "markdown",
   "metadata": {
    "slideshow": {
     "slide_type": "slide"
    }
   },
   "source": [
    "## Measuring Efficiency\n",
    "- Need a metric to measure time efficiency of algorithms:\n",
    "    - How long does it take to solve the problem?\n",
    "        - Depends on machine speed\n",
    "    - How many steps does the algorithm execute?\n",
    "        - Better metric, but a lot of work to count all steps\n",
    "    - How many \"fundamental steps\" does the algorithm execute?\n",
    "- Depends on size and type of input, interested in knowing:\n",
    "    - Best-case, Worst-case, Average-case behavior\n",
    "- Need to analyze the algorithm!"
   ]
  },
  {
   "cell_type": "markdown",
   "metadata": {
    "slideshow": {
     "slide_type": "slide"
    }
   },
   "source": [
    "### Sequential Search\n",
    "\n",
    "1. Get values for Name, N1,…, Nn, T1,…, Tn\n",
    "2. Set the value i to 1and set the value of Found to NO\n",
    "3. Repeat steps 4 through 7 until Found = YES or i > n\n",
    "4.      If Name = Ni then\n",
    "5.            Print the value of Ti\n",
    "6.            Set the value of Found to YES\n",
    "         Else\n",
    "7.            Add 1 to the value of i\n",
    "8. If Found = NO then print \"Sorry, name not in directory\"\n",
    "9. Stop"
   ]
  },
  {
   "cell_type": "markdown",
   "metadata": {
    "slideshow": {
     "slide_type": "slide"
    }
   },
   "source": [
    "- The list of operations you want the files to support is analogous to an __Abstract Data Type (ADT)__\n",
    "- The physical organization is analogous to a **Data Structure (DS)**\n",
    "***\n",
    "- It’s very important to distinguish between these two concepts"
   ]
  },
  {
   "cell_type": "markdown",
   "metadata": {
    "slideshow": {
     "slide_type": "slide"
    }
   },
   "source": [
    "### Abstract Data Type (ADT)\n",
    "- An ADT represents a particular set of behaviors\n",
    "- You can formally define, perhaps using mathematical logic what an ADT is/does\n",
    "- For example, a Stack is a list implements a LIFO policy on additions/deletions\n",
    "### Data Structure (DS)\n",
    "- A DS is more concrete\n",
    "- Typically, it is a technique or strategy for implementing an ADT\n",
    "- Use a linked list or an array to implement a stack class"
   ]
  },
  {
   "cell_type": "markdown",
   "metadata": {
    "slideshow": {
     "slide_type": "subslide"
    }
   },
   "source": [
    "### Some common ADTs that most programmers know about:\n",
    "- stack\n",
    "- queue\n",
    "- priority queue\n",
    "- dictionary\n",
    "- sequence\n",
    "- set\n",
    "\n",
    "### Some common DSs used to implement those ADTs:\n",
    "- Array\n",
    "- Linked list\n",
    "- Hash table (open, closed, circular\n",
    "- Trees (binary search trees, heaps, AVL trees, 2-3 tries, red/black trees, B-trees)"
   ]
  },
  {
   "cell_type": "markdown",
   "metadata": {
    "slideshow": {
     "slide_type": "subslide"
    }
   },
   "source": [
    "### Topics will be covered throughout this course\n",
    "- Data Structures\n",
    "    - Lists, Stacks, Queues, Trees, Heaps, Hashes, Graphs, Sets\n",
    "- Algorithms (Data Structures and Algorithms 2)\n",
    "    - Sorting, Greedy, Backtracking, Randomized,\n",
    "    - Dynamic Programming"
   ]
  },
  {
   "cell_type": "markdown",
   "metadata": {},
   "source": [
    "# Motivation - Recursive Algorithms"
   ]
  },
  {
   "cell_type": "markdown",
   "metadata": {},
   "source": [
    "## Example - Factorial"
   ]
  },
  {
   "cell_type": "markdown",
   "metadata": {},
   "source": [
    "Today, we will motivate ourselves why we take this course.\n",
    "\n",
    "We start off with *factorial*. \n",
    "\n",
    "$$n! = n \\cdot (n-1) \\cdot \\ldots \\cdot 1\\;,$$\n",
    "\n",
    "can be defined recursively by\n",
    "\n",
    "$$n! = n \\cdot (n-1)!\\;.$$"
   ]
  },
  {
   "cell_type": "markdown",
   "metadata": {},
   "source": [
    "More precise definition is"
   ]
  },
  {
   "cell_type": "markdown",
   "metadata": {},
   "source": [
    "$$n! = \\begin{cases} 1 &\\mbox{if } n = 1 \\\\\n",
    "                   n \\cdot (n-1)! & \\mbox{if } n >1\\end{cases}$$"
   ]
  },
  {
   "cell_type": "code",
   "execution_count": null,
   "metadata": {},
   "outputs": [],
   "source": [
    "def myFactorial(n):\n",
    "    if (n==1): return 1\n",
    "    else: return n* myFactorial(n-1)"
   ]
  },
  {
   "cell_type": "code",
   "execution_count": null,
   "metadata": {},
   "outputs": [],
   "source": [
    "myFactorial(5)"
   ]
  },
  {
   "cell_type": "code",
   "execution_count": null,
   "metadata": {},
   "outputs": [],
   "source": [
    "import time"
   ]
  },
  {
   "cell_type": "code",
   "execution_count": null,
   "metadata": {},
   "outputs": [],
   "source": [
    "s = time.process_time_ns()\n",
    "myFactorial(2500)\n",
    "e = time.process_time_ns()"
   ]
  },
  {
   "cell_type": "code",
   "execution_count": null,
   "metadata": {},
   "outputs": [],
   "source": [
    "print(e - s)"
   ]
  },
  {
   "cell_type": "markdown",
   "metadata": {},
   "source": [
    "## Example - Fibonacci Numbers"
   ]
  },
  {
   "cell_type": "markdown",
   "metadata": {},
   "source": [
    "Fibonacci numbers are:\n",
    "$$F_{1}=1, F_{2}=1,\\quad \\textrm{and}\\quad F_{n}=F_{n-1}+F_{n-2}\\quad \\textrm{when}\\quad n>2.$$"
   ]
  },
  {
   "cell_type": "code",
   "execution_count": null,
   "metadata": {},
   "outputs": [],
   "source": [
    "import numpy as np"
   ]
  },
  {
   "cell_type": "code",
   "execution_count": null,
   "metadata": {},
   "outputs": [],
   "source": [
    "def myFibonacciRecursive(n):\n",
    "    if (n==1 or n==2): return 1\n",
    "    else: return myFibonacciRecursive(n-1)+myFibonacciRecursive(n-2)"
   ]
  },
  {
   "cell_type": "code",
   "execution_count": null,
   "metadata": {},
   "outputs": [],
   "source": [
    "def myFibonacci(n):\n",
    "    if (n==1 or n==2): \n",
    "        return 1\n",
    "    else: \n",
    "        F=np.zeros(n) \n",
    "        F[0]=1\n",
    "        F[1]=1\n",
    "        for i in range(2,n):\n",
    "            F[i]=F[i-1]+F[i-2]\n",
    "    return F,F[n-1]"
   ]
  },
  {
   "cell_type": "code",
   "execution_count": null,
   "metadata": {},
   "outputs": [],
   "source": [
    "A,b=myFibonacci(50)"
   ]
  },
  {
   "cell_type": "code",
   "execution_count": null,
   "metadata": {},
   "outputs": [],
   "source": [
    "print(A)"
   ]
  },
  {
   "cell_type": "code",
   "execution_count": null,
   "metadata": {},
   "outputs": [],
   "source": [
    "myFibonacciRecursive(5)"
   ]
  },
  {
   "cell_type": "code",
   "execution_count": null,
   "metadata": {},
   "outputs": [],
   "source": [
    "myFibonacciRecursive(30)"
   ]
  },
  {
   "cell_type": "code",
   "execution_count": null,
   "metadata": {},
   "outputs": [],
   "source": [
    "myFibonacciRecursive(35)"
   ]
  },
  {
   "cell_type": "code",
   "execution_count": null,
   "metadata": {},
   "outputs": [],
   "source": [
    "myFibonacciRecursive(50)"
   ]
  },
  {
   "cell_type": "code",
   "execution_count": null,
   "metadata": {},
   "outputs": [],
   "source": [
    "print(int(myFibonacci(50)))"
   ]
  },
  {
   "cell_type": "code",
   "execution_count": null,
   "metadata": {},
   "outputs": [],
   "source": [
    "s = time.process_time()\n",
    "myFibonacci(40)\n",
    "e = time.process_time()\n",
    "print(\"{:.12f}\".format(e-s))"
   ]
  },
  {
   "cell_type": "code",
   "execution_count": null,
   "metadata": {},
   "outputs": [],
   "source": [
    "s = time.process_time()\n",
    "myFibonacciRecursive(40)\n",
    "e = time.process_time()\n",
    "print(e - s)"
   ]
  },
  {
   "cell_type": "code",
   "execution_count": null,
   "metadata": {},
   "outputs": [],
   "source": [
    "s = time.process_time_ns()\n",
    "myFibonacci(40)\n",
    "e = time.process_time_ns()\n",
    "print(\"{:.12f}\".format(e-s))"
   ]
  },
  {
   "cell_type": "code",
   "execution_count": null,
   "metadata": {},
   "outputs": [],
   "source": [
    "s = time.process_time()\n",
    "for i in range(100000):\n",
    "    pass\n",
    "e = time.process_time()\n",
    "print(e - s)"
   ]
  },
  {
   "cell_type": "code",
   "execution_count": null,
   "metadata": {},
   "outputs": [],
   "source": [
    "def myFastFibonacciRecursive(n):\n",
    "    if (n==1 or n==2): \n",
    "        return 1\n",
    "\n",
    "    if temp[n] != -1: # Check whether it is already calculated\n",
    "        return temp[n]\n",
    "    \n",
    "    temp[n] = myFastFibonacciRecursive(n-1) + myFastFibonacciRecursive(n-2)\n",
    "    return temp[n]"
   ]
  },
  {
   "cell_type": "code",
   "execution_count": null,
   "metadata": {},
   "outputs": [],
   "source": [
    "n=40\n",
    "temp = np.full(n+1,-1) # Array of -1 of size n."
   ]
  },
  {
   "cell_type": "code",
   "execution_count": null,
   "metadata": {},
   "outputs": [],
   "source": [
    "print(temp)"
   ]
  },
  {
   "cell_type": "code",
   "execution_count": null,
   "metadata": {},
   "outputs": [],
   "source": [
    "myFastFibonacciRecursive(n)"
   ]
  },
  {
   "cell_type": "code",
   "execution_count": null,
   "metadata": {},
   "outputs": [],
   "source": [
    "print(temp)"
   ]
  },
  {
   "cell_type": "code",
   "execution_count": null,
   "metadata": {},
   "outputs": [],
   "source": [
    "n=40\n",
    "temp = np.full(n+1,-1)\n",
    "s = time.process_time()\n",
    "print(myFastFibonacciRecursive(n))\n",
    "e = time.process_time()\n",
    "print(e - s)"
   ]
  },
  {
   "cell_type": "markdown",
   "metadata": {},
   "source": [
    "## Data structures\n",
    "- A __data structure__ is a way to organize to enable efficient computation over that information\n",
    "\n",
    "- A data structure supports certain operations, each with a:\n",
    "    - Meaning: what does the operation do/return\n",
    "    - Performance: how efficient is the operation\n",
    "\n",
    "Examples of data structures:\n",
    "- List  with operations insert and delete\n",
    "- Stack  with operations push(insert an element) and pop (delete the element at the top)\n",
    "\n",
    "Data structures are important in coding efficient programs."
   ]
  },
  {
   "cell_type": "markdown",
   "metadata": {},
   "source": [
    "What is an “Efficient” Algorithm?\n",
    "- Efficiency measures\n",
    "    - Small amount of time,\n",
    "    - Low memory usage,\n",
    "    - Low power consumption,\n",
    "\n",
    "But there are unavoidable trade-offs:\n",
    "- Time vs. space\n",
    "- One operation more efficient if another less efficient\n",
    "- Generality vs. simplicity vs. performance"
   ]
  },
  {
   "cell_type": "markdown",
   "metadata": {},
   "source": [
    "## Measuring Running Time\n",
    "- Experimentally\n",
    "    - Implement algorithm\n",
    "    - Run program with inputs of varying size\n",
    "    - Measure running times\n",
    "    - Plot results (**Exercise: plot problem size vs running time, then see the diffence between myFibonacci and myFibonacci2**)\n",
    "    \n",
    "- Running Time\n",
    "    - Grows with the input size\n",
    "        - Focus on large inputs\n",
    "    - Varies with input\n",
    "        - Consider the **worst-case** input"
   ]
  },
  {
   "cell_type": "code",
   "execution_count": null,
   "metadata": {},
   "outputs": [],
   "source": [
    "def myArrayElement(a):\n",
    "    return a[0] ## Two operations: index 0 and return\n",
    "alist = ['red','green','blue']\n",
    "myArrayElement(alist)"
   ]
  },
  {
   "cell_type": "code",
   "execution_count": null,
   "metadata": {},
   "outputs": [],
   "source": [
    "A=np.random.rand(10) \n",
    "A"
   ]
  },
  {
   "cell_type": "code",
   "execution_count": null,
   "metadata": {},
   "outputs": [],
   "source": [
    "nsize=10\n",
    "B=np.random.rand(nsize) "
   ]
  },
  {
   "cell_type": "code",
   "execution_count": null,
   "metadata": {},
   "outputs": [],
   "source": [
    "def myargmax(array):\n",
    "    # Input: an array\n",
    "    # Output: the index of the maximum value\n",
    "    index = 0 # assignment, 1 op\n",
    "    mylength = array.shape[0] # assignment, 2 op\n",
    "    for i in range(1,mylength): # 1 op per loop\n",
    "        if array[i] > array[index]: # 3 ops per loop\n",
    "            index = i # 1 op per loop, but not always\n",
    "    return index # 1 op"
   ]
  },
  {
   "cell_type": "code",
   "execution_count": null,
   "metadata": {},
   "outputs": [],
   "source": [
    "myargmax(B)"
   ]
  },
  {
   "cell_type": "code",
   "execution_count": null,
   "metadata": {},
   "outputs": [],
   "source": [
    "B"
   ]
  },
  {
   "cell_type": "markdown",
   "metadata": {},
   "source": [
    "- How many operations if the list has 10 elements? 100,000 elements?\n",
    "    - Varies proportional to the size of the input list: 5*nsize + 4\n",
    "    - Note that the **for** loop longer and longer as the input list grows\n",
    "    - Thus, if we plot nsize against running time, the runtime would increase linearly"
   ]
  },
  {
   "cell_type": "markdown",
   "metadata": {},
   "source": [
    "## Terminology\n",
    "- Abstract Data Type (ADT)\n",
    "    - Mathematical description of a “thing” with set of operations\n",
    "    - Not concerned with implementation details\n",
    "\n",
    "- Algorithm\n",
    "    - A high level, language-independent description of a step-by-step process\n",
    "\n",
    "- Data structure\n",
    "    - A specific organization of data and family of algorithms for implementing an ADT\n",
    "\n",
    "- Implementation of a data structure\n",
    "    - A specific implementation in a specific language\n",
    "    "
   ]
  },
  {
   "cell_type": "markdown",
   "metadata": {},
   "source": [
    "## For example : Stacks\n",
    "- The Stack ADT supports operations:\n",
    "    - isEmpty: have there been same number of pops as pushes\n",
    "    - push: takes an item\n",
    "    - pop: raises an error if empty, else returns most-recently pushed item\n",
    "    - top: returns the top element of the stack\n",
    "    \n",
    "A Stack data structure could use a _linked-list_ or an _array_ or something else, and associated algorithms for the operations"
   ]
  }
 ],
 "metadata": {
  "anaconda-cloud": {},
  "kernelspec": {
   "display_name": "Python 3 (ipykernel)",
   "language": "python",
   "name": "python3"
  },
  "language_info": {
   "codemirror_mode": {
    "name": "ipython",
    "version": 3
   },
   "file_extension": ".py",
   "mimetype": "text/x-python",
   "name": "python",
   "nbconvert_exporter": "python",
   "pygments_lexer": "ipython3",
   "version": "3.10.9"
  }
 },
 "nbformat": 4,
 "nbformat_minor": 1
}
