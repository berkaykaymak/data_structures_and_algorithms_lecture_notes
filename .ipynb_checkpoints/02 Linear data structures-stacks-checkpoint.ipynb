{
 "cells": [
  {
   "cell_type": "markdown",
   "metadata": {},
   "source": [
    "## Today's Agenda\n",
    "- Linear structures: Stacks, Queues, and Lists\n",
    "\n",
    "## Objectives\n",
    "- To understand the abstract data types stack, queue, and list.\n",
    "- To be able to implement the ADTs stack, and queue using Python lists.\n",
    "- To understand the performance of the implementations of basic linear data structures.\n",
    "- To be able to recognize problem properties where stacks, and queues are appropriate data structures.\n",
    "- To analyze the performance of data structures in implementing queues and lists."
   ]
  },
  {
   "cell_type": "markdown",
   "metadata": {},
   "source": [
    "## Linear structures\n",
    "\n",
    "- Linear structures have two ends. \n",
    "- These ends are referred to as the “left” and the “right” OR in some cases the “front” and the “rear” OR the “top” and the “bottom.” \n",
    "- What distinguishes one linear structure from another is the way in which items are added and removed, in particular the location where these additions and removals occur. \n",
    "- For example, a structure might allow new items to be added at only one end. Some structures might allow items to be removed from either end.\n",
    "\n",
    "These variations give rise to some of the most useful data structures in computer science. They appear in many algorithms and can be used to solve a variety of important problems."
   ]
  },
  {
   "cell_type": "markdown",
   "metadata": {},
   "source": [
    "Textbook: Problem Solving With Algorithms and Data Structures Using Python\n",
    "https://runestone.academy/runestone/books/published/pythonds/index.html"
   ]
  },
  {
   "cell_type": "markdown",
   "metadata": {},
   "source": [
    "## Stack ADT\n",
    "\n",
    "- A stack, sometimes called a “push-down stack”, is an ordered collection of items where the addition of new items and the removal of existing items always takes place at the same end. \n",
    "- This end is commonly referred to as the “**top**.” The end opposite the top is known as the “**base**.”\n",
    "\n",
    "- The base of the stack is significant since items stored in the stack that are closer to the base represent those that have been in the stack the longest. \n",
    "- The most recently added item is the one that is in position to be removed first. This ordering principle is sometimes called LIFO, Last-In First-Out. \n",
    "- Newer items are near the top, while older items are near the base.\n",
    "\n",
    "- Some examples of stacks occur in everyday situations are \n",
    "    - Almost any cafeteria has a stack of trays or plates where you take the one at the top, uncovering a new tray or plate for the next customer in line. \n",
    "    - Imagine a stack of books on a desk. The only book whose cover is visible is the one on top. To access others in the stack, we need to remove the ones that are sitting on top of them. \n",
    "\n",
    "<img src=\"images/week-02/stackBooks.png\">\n",
    "\n",
    "- The figure shows another stack. It contains a number of primitive Python data objects.\n",
    "\n",
    "<img src=\"images/week-02/stackPrimitive.png\">\n",
    "\n",
    "- The order of insertion is the reverse of the order of removal. \n",
    "- The figure shows the Python data object stack as it was created and then again as items are removed. Note the order of the objects.\n",
    "- This reversal property makes stacks useful.\n",
    "\n",
    "<img src=\"images/week-02/stackSimplereversal.png\">\n",
    "\n",
    "Considering this reversal property, you can perhaps think of examples of stacks that occur as you use your computer. For example, every web browser has a Back button. As you navigate from web page to web page, those pages are placed on a stack (actually it is the URLs that are going on the stack). The current page that you are viewing is on the top and the first page you looked at is at the base. If you click on the Back button, you begin to move in reverse order through the pages."
   ]
  },
  {
   "cell_type": "markdown",
   "metadata": {},
   "source": [
    "## Stack ADT supports operations\n",
    "### Push\n",
    "- The operation to insert elements in a stack is called push. When we push the book on a stack, we put the book on the previous top element which means that the new book becomes the top element. This is what we mean when we use the push operation, we push elements onto a stack. We insert elements onto a stack and the last element to be pushed is the new top of the stack.\n",
    "\n",
    "### Pop\n",
    "- There is another operation that we can perform on the stack, popping. Popping is when we take the top book of the stack and put it down. This implies that when we remove an element from the stack, the stack follows the First-In, Last Out property. This means that the top element, the last to be inserted, is removed when we perform the pop operation.\n",
    "- It raises an error if empty.\n",
    "\n",
    "Push and Pop are two fundamental routines that we’ll need for this data structure.\n",
    "\n",
    "### Top (aka Peek)\n",
    "Another thing that we can do is view the top element of the stack so we can ask the data structure: “What’s the top element?” and it can give that to us using the peek operation. Note that the peek operation does not remove the top element, it merely returns it.\n",
    "\n",
    "We can also check whether or not the stack is empty, and a few other things too, that will come along the way as we implement it.\n",
    "\n",
    "For example, \n",
    "- isEmpty: have there been same number of pops as pushes"
   ]
  },
  {
   "cell_type": "markdown",
   "metadata": {},
   "source": [
    "## Stack Implementation\n",
    "###  Array-Based Stack Implementation\n",
    "- Python list ( More on lists: https://www.w3schools.com/python/python_lists.asp )\n",
    "- Arrays\n",
    "###  Linked List-Based Stack Implementation\n",
    "- Singly Linked List"
   ]
  },
  {
   "cell_type": "markdown",
   "metadata": {},
   "source": [
    "## List Implementation\n",
    "- Prefer Python classes to implement stack ADT, where the stack operations will be methods\n",
    "\n",
    "## Stack Operations\n",
    "- **Stack()** creates a new stack that is empty; it needs no parameters and returns an empty stack\n",
    "- **push(item)** adds a new item to the top of the stack; it needs the item and returns nothing\n",
    "- **pop()** removes the top item from the stack; it needs no parameters, returns the item and the stack is modified\n",
    "- **top()** returns the top item from the stack but does not remove it; it needs no parameters; the stack is not modified\n",
    "- **is_empty()** tests to see whether the stack is empty; it needs no parameters and returns a boolean value\n",
    "- **size()** returns the number of items on the stack. It needs no parameters and returns an integer\n",
    "- **get_stack** returns the whole list\n",
    "\n",
    "<table style=\"width:100%\">\n",
    "  <tr>\n",
    "    <th style=\"text-align: center; vertical-align: middle;\">Stack Operation</th>\n",
    "    <th style=\"text-align: center; vertical-align: middle;\">Stack content</th>\n",
    "      <th style=\"text-align: center; vertical-align: middle;\">Return Value</th>\n",
    "  </tr>\n",
    "  <tr>\n",
    "    <td style=\"text-align: center; vertical-align: middle;\">s.is_empty()</td>\n",
    "    <td style=\"text-align: center; vertical-align: middle;\">[]</td>\n",
    "    <td style=\"text-align: center; vertical-align: middle;\">TRUE</td>\n",
    "  </tr>\n",
    "  <tr>\n",
    "    <td style=\"text-align: center; vertical-align: middle;\">s.push('A')</td>\n",
    "    <td style=\"text-align: center; vertical-align: middle;\">['A']</td>\n",
    "    <td style=\"text-align: center; vertical-align: middle;\">none</td>\n",
    "  </tr>\n",
    "  <tr>\n",
    "    <td style=\"text-align: center; vertical-align: middle;\">s.push('B')</td>\n",
    "    <td style=\"text-align: center; vertical-align: middle;\">['A','B']</td>\n",
    "    <td style=\"text-align: center; vertical-align: middle;\">none</td>\n",
    "  </tr>\n",
    "  <tr>\n",
    "    <td style=\"text-align: center; vertical-align: middle;\">s.top()</td>\n",
    "    <td style=\"text-align: center; vertical-align: middle;\">['A','B']</td>\n",
    "    <td style=\"text-align: center; vertical-align: middle;\">B</td>\n",
    "  </tr>\n",
    "  <tr>\n",
    "    <td style=\"text-align: center; vertical-align: middle;\">s.push('C')</td>\n",
    "    <td style=\"text-align: center; vertical-align: middle;\">['A','B','C']</td>\n",
    "    <td style=\"text-align: center; vertical-align: middle;\">none</td>\n",
    "  </tr>\n",
    "  <tr>\n",
    "    <td style=\"text-align: center; vertical-align: middle;\">s.size()</td>\n",
    "    <td style=\"text-align: center; vertical-align: middle;\">['A','B','C']</td>\n",
    "    <td style=\"text-align: center; vertical-align: middle;\">3</td>\n",
    "  </tr>\n",
    "  <tr>\n",
    "    <td style=\"text-align: center; vertical-align: middle;\">s.pop()</td>\n",
    "    <td style=\"text-align: center; vertical-align: middle;\">['A','B']</td>\n",
    "    <td style=\"text-align: center; vertical-align: middle;\">C</td>\n",
    "  </tr>\n",
    "  <tr>\n",
    "    <td style=\"text-align: center; vertical-align: middle;\">s.size()</td>\n",
    "    <td style=\"text-align: center; vertical-align: middle;\">['A','B']</td>\n",
    "    <td style=\"text-align: center; vertical-align: middle;\">2</td>\n",
    "  </tr>\n",
    "  <tr>\n",
    "    <td style=\"text-align: center; vertical-align: middle;\">s.get_stack()</td>\n",
    "    <td style=\"text-align: center; vertical-align: middle;\">['A','B']</td>\n",
    "    <td style=\"text-align: center; vertical-align: middle;\">['A','B']</td>\n",
    "  </tr>\n",
    "</table>"
   ]
  },
  {
   "cell_type": "code",
   "execution_count": 1,
   "metadata": {},
   "outputs": [],
   "source": [
    "class Stack:\n",
    "    def __init__(self):\n",
    "        self.items = []\n",
    "\n",
    "    def isEmpty(self):\n",
    "         return self.items == []\n",
    "\n",
    "    def push(self, item):\n",
    "        self.items.append(item)\n",
    "\n",
    "    def pop(self):\n",
    "        return self.items.pop()\n",
    "\n",
    "    def top(self): # Exerxise : modify this method so that it says 'stack is empty'\n",
    "        return self.items[len(self.items)-1]\n",
    "\n",
    "    def size(self):\n",
    "        return len(self.items)\n",
    "    \n",
    "    def get_stack(self): # Exerxise : modify this method so that it returns values in reverse order\n",
    "        return self.items"
   ]
  },
  {
   "cell_type": "code",
   "execution_count": 2,
   "metadata": {},
   "outputs": [],
   "source": [
    "class Stack:\n",
    "    def __init__(self):\n",
    "        self.items = []\n",
    "\n",
    "    def isEmpty(self):\n",
    "         return self.items == []\n",
    "\n",
    "    def push(self, item):\n",
    "        self.items.append(item)\n",
    "\n",
    "    def pop(self):\n",
    "        return self.items.pop()\n",
    "\n",
    "    def top(self): # Homework 1 : modify this method so that it says 'stack is empty'\n",
    "        return self.items[len(self.items)-1]\n",
    "\n",
    "    def size(self): # Homework 2 : modify this method so that it runs in O(1) time\n",
    "        return len(self.items)\n",
    "    \n",
    "    def get_stack(self): # Homework 2 : modify this method so that it returns values in reverse order\n",
    "        return self.items\n",
    "    \n",
    "    def isEmpty2(self):\n",
    "         return self.size() == 0\n"
   ]
  },
  {
   "cell_type": "code",
   "execution_count": 3,
   "metadata": {},
   "outputs": [],
   "source": [
    "s=Stack()"
   ]
  },
  {
   "cell_type": "code",
   "execution_count": 4,
   "metadata": {},
   "outputs": [
    {
     "name": "stdout",
     "output_type": "stream",
     "text": [
      "True\n"
     ]
    }
   ],
   "source": [
    "print(s.isEmpty())"
   ]
  },
  {
   "cell_type": "code",
   "execution_count": 5,
   "metadata": {},
   "outputs": [
    {
     "ename": "IndexError",
     "evalue": "list index out of range",
     "output_type": "error",
     "traceback": [
      "\u001b[1;31m---------------------------------------------------------------------------\u001b[0m",
      "\u001b[1;31mIndexError\u001b[0m                                Traceback (most recent call last)",
      "Cell \u001b[1;32mIn[5], line 1\u001b[0m\n\u001b[1;32m----> 1\u001b[0m \u001b[38;5;28mprint\u001b[39m(\u001b[43ms\u001b[49m\u001b[38;5;241;43m.\u001b[39;49m\u001b[43mtop\u001b[49m\u001b[43m(\u001b[49m\u001b[43m)\u001b[49m)\n",
      "Cell \u001b[1;32mIn[2], line 15\u001b[0m, in \u001b[0;36mStack.top\u001b[1;34m(self)\u001b[0m\n\u001b[0;32m     14\u001b[0m \u001b[38;5;28;01mdef\u001b[39;00m \u001b[38;5;21mtop\u001b[39m(\u001b[38;5;28mself\u001b[39m): \u001b[38;5;66;03m# Homework 1 : modify this method so that it says 'stack is empty'\u001b[39;00m\n\u001b[1;32m---> 15\u001b[0m     \u001b[38;5;28;01mreturn\u001b[39;00m \u001b[38;5;28;43mself\u001b[39;49m\u001b[38;5;241;43m.\u001b[39;49m\u001b[43mitems\u001b[49m\u001b[43m[\u001b[49m\u001b[38;5;28;43mlen\u001b[39;49m\u001b[43m(\u001b[49m\u001b[38;5;28;43mself\u001b[39;49m\u001b[38;5;241;43m.\u001b[39;49m\u001b[43mitems\u001b[49m\u001b[43m)\u001b[49m\u001b[38;5;241;43m-\u001b[39;49m\u001b[38;5;241;43m1\u001b[39;49m\u001b[43m]\u001b[49m\n",
      "\u001b[1;31mIndexError\u001b[0m: list index out of range"
     ]
    }
   ],
   "source": [
    "print(s.top())"
   ]
  },
  {
   "cell_type": "code",
   "execution_count": 6,
   "metadata": {},
   "outputs": [],
   "source": [
    "s.push('A')"
   ]
  },
  {
   "cell_type": "code",
   "execution_count": 7,
   "metadata": {},
   "outputs": [
    {
     "name": "stdout",
     "output_type": "stream",
     "text": [
      "A\n"
     ]
    }
   ],
   "source": [
    "print(s.top())"
   ]
  },
  {
   "cell_type": "code",
   "execution_count": 8,
   "metadata": {},
   "outputs": [
    {
     "name": "stdout",
     "output_type": "stream",
     "text": [
      "['A']\n"
     ]
    }
   ],
   "source": [
    "print(s.get_stack())"
   ]
  },
  {
   "cell_type": "code",
   "execution_count": 9,
   "metadata": {},
   "outputs": [],
   "source": [
    "s.push('B')"
   ]
  },
  {
   "cell_type": "code",
   "execution_count": 10,
   "metadata": {},
   "outputs": [
    {
     "name": "stdout",
     "output_type": "stream",
     "text": [
      "['A', 'B']\n"
     ]
    }
   ],
   "source": [
    "print(s.get_stack())"
   ]
  },
  {
   "cell_type": "code",
   "execution_count": 11,
   "metadata": {},
   "outputs": [
    {
     "name": "stdout",
     "output_type": "stream",
     "text": [
      "B\n"
     ]
    }
   ],
   "source": [
    "print(s.top())"
   ]
  },
  {
   "cell_type": "code",
   "execution_count": 12,
   "metadata": {},
   "outputs": [
    {
     "name": "stdout",
     "output_type": "stream",
     "text": [
      "2\n"
     ]
    }
   ],
   "source": [
    "print(s.size())"
   ]
  },
  {
   "cell_type": "code",
   "execution_count": 13,
   "metadata": {},
   "outputs": [
    {
     "name": "stdout",
     "output_type": "stream",
     "text": [
      "['A', 'B']\n"
     ]
    }
   ],
   "source": [
    "print(s.get_stack())"
   ]
  },
  {
   "cell_type": "code",
   "execution_count": 14,
   "metadata": {},
   "outputs": [
    {
     "name": "stdout",
     "output_type": "stream",
     "text": [
      "B\n"
     ]
    }
   ],
   "source": [
    "print(s.pop())"
   ]
  },
  {
   "cell_type": "code",
   "execution_count": 15,
   "metadata": {},
   "outputs": [
    {
     "name": "stdout",
     "output_type": "stream",
     "text": [
      "1\n"
     ]
    }
   ],
   "source": [
    "print(s.size())"
   ]
  },
  {
   "cell_type": "code",
   "execution_count": 16,
   "metadata": {},
   "outputs": [
    {
     "name": "stdout",
     "output_type": "stream",
     "text": [
      "['A']\n"
     ]
    }
   ],
   "source": [
    "print(s.get_stack())"
   ]
  },
  {
   "cell_type": "markdown",
   "metadata": {},
   "source": [
    "<table style=\"width:100%\">\n",
    "  <tr>\n",
    "    <th style=\"text-align: center; vertical-align: middle;\">Operation</th>\n",
    "    <th style=\"text-align: center; vertical-align: middle;\">Big-O</th>\n",
    "  </tr>\n",
    "  <tr>\n",
    "    <td style=\"text-align: center; vertical-align: middle;\">is_empty</td>\n",
    "    <td style=\"text-align: center; vertical-align: middle;\">$\\mathcal{O}(1)$</td>\n",
    "  </tr>\n",
    "  <tr>\n",
    "    <td style=\"text-align: center; vertical-align: middle;\">push</td>\n",
    "    <td style=\"text-align: center; vertical-align: middle;\">$\\mathcal{O}(1)$</td>\n",
    "  </tr>\n",
    "  <tr>\n",
    "    <td style=\"text-align: center; vertical-align: middle;\">pop</td>\n",
    "    <td style=\"text-align: center; vertical-align: middle;\">$\\mathcal{O}(1)$</td>\n",
    "  </tr>\n",
    "  <tr>\n",
    "    <td style=\"text-align: center; vertical-align: middle;\">top</td>\n",
    "    <td style=\"text-align: center; vertical-align: middle;\">$\\mathcal{O}(1)$</td>\n",
    "  </tr>\n",
    "  <tr>\n",
    "    <td style=\"text-align: center; vertical-align: middle;\">size</td>\n",
    "    <td style=\"text-align: center; vertical-align: middle;\">$\\mathcal{O}(n)$(complexity of Python's len function(check), but imlemented in $\\mathcal{O}(1)$)</td>\n",
    "  </tr>\n",
    "  <tr>\n",
    "    <td style=\"text-align: center; vertical-align: middle;\">get_stack</td>\n",
    "    <td style=\"text-align: center; vertical-align: middle;\">$\\mathcal{O}(n)$</td>\n",
    "  </tr>\n",
    "</table>"
   ]
  },
  {
   "cell_type": "markdown",
   "metadata": {},
   "source": [
    "## Alternate Implementation\n",
    "- Note that in the above implementation, operations take place at the end of the list.\n",
    "- What changes if we implement the stack using a list where the top is at the beginning instead of at the end"
   ]
  },
  {
   "cell_type": "code",
   "execution_count": null,
   "metadata": {},
   "outputs": [],
   "source": [
    "class Stack2:\n",
    "    def __init__(self):\n",
    "        self.items = []\n",
    "\n",
    "    def isEmpty(self):\n",
    "        return self.items == []\n",
    "\n",
    "    def push(self, item):\n",
    "        self.items.insert(0,item)\n",
    "\n",
    "    def pop(self):\n",
    "        return self.items.pop(0)\n",
    "\n",
    "    def top(self):\n",
    "        return self.items[0]\n",
    "\n",
    "    def size(self):\n",
    "        return len(self.items)\n",
    "     \n",
    "    def get_stack(self):\n",
    "        return self.items"
   ]
  },
  {
   "cell_type": "code",
   "execution_count": null,
   "metadata": {},
   "outputs": [],
   "source": [
    "s2 = Stack2()\n",
    "s2.push('A')\n",
    "s2.push('B')\n",
    "print(s2.get_stack())\n",
    "print(s2.pop())"
   ]
  },
  {
   "cell_type": "markdown",
   "metadata": {},
   "source": [
    "**Exercise** Balanced parentheses problem : Given an expression string, say **exp**, write a python program to examine whether the pairs and the orders of “{“, “}”, “(“, “)”, “[“, “]” are correct in **exp**.\n",
    "\n",
    "For example the program should say _balanced_ for the expression $[(2+3)\\times 4 +(5+3)]$, but _unbalanced_ for $[(2+3\\times 4 +(5+3)]$."
   ]
  },
  {
   "cell_type": "markdown",
   "metadata": {},
   "source": [
    "## Linked List\n",
    "\n",
    "Recall that \n",
    "- arrays are stored at contiguous memory locations,\n",
    "- arrays are index based data structure where each element associated with an index.\n",
    "\n",
    "<img src=\"images/week-02/array.jpg\" width=\"400\">\n",
    "\n",
    "On the other hand,\n",
    "- Linked lists, do not store data at contiguous memory locations. \n",
    "- For each item in the memory location, linked list stores value of the item and the reference or pointer to the next item. \n",
    "- One pair of the linked list item and the reference to next item constitutes a __node__.\n",
    "\n",
    "<img src=\"images/week-02/linked-list.jpg\" width=\"500\">"
   ]
  },
  {
   "cell_type": "code",
   "execution_count": 17,
   "metadata": {},
   "outputs": [],
   "source": [
    "class Node:\n",
    "    def __init__(self, val, next=None):\n",
    "        self.val = val\n",
    "        self.next = next"
   ]
  },
  {
   "cell_type": "code",
   "execution_count": 27,
   "metadata": {},
   "outputs": [],
   "source": [
    "class LinkedList:    \n",
    "    def __init__(self):\n",
    "        self.head = None\n",
    "        self.count = 0\n",
    "    \n",
    "    def preappend(self, value):\n",
    "        new_node = Node(value)\n",
    "        new_node.next = self.head\n",
    "        self.head= new_node\n",
    "        self.count += 1\n",
    "        \n",
    "    def predelete(self):\n",
    "        if self.head is None:\n",
    "            print(\"The list is empty\")\n",
    "            return \n",
    "        self.head = self.head.next\n",
    "        self.count -= 1\n",
    "    \n",
    "    def __len__(self):\n",
    "        return self.count\n",
    "    \n",
    "    def push(self, item):\n",
    "        pass\n",
    "\n",
    "    def pop(self):\n",
    "        pass\n",
    "\n",
    "    def top(self):\n",
    "        return self.head.val"
   ]
  },
  {
   "cell_type": "code",
   "execution_count": 28,
   "metadata": {},
   "outputs": [],
   "source": [
    "mylist = LinkedList()"
   ]
  },
  {
   "cell_type": "code",
   "execution_count": 29,
   "metadata": {},
   "outputs": [
    {
     "name": "stdout",
     "output_type": "stream",
     "text": [
      "None\n"
     ]
    }
   ],
   "source": [
    "print(mylist.head)"
   ]
  },
  {
   "cell_type": "code",
   "execution_count": 30,
   "metadata": {},
   "outputs": [
    {
     "name": "stdout",
     "output_type": "stream",
     "text": [
      "0\n"
     ]
    }
   ],
   "source": [
    "print(mylist.count)"
   ]
  },
  {
   "cell_type": "code",
   "execution_count": 31,
   "metadata": {},
   "outputs": [],
   "source": [
    "mylist.preappend('A')"
   ]
  },
  {
   "cell_type": "code",
   "execution_count": 32,
   "metadata": {},
   "outputs": [
    {
     "name": "stdout",
     "output_type": "stream",
     "text": [
      "A\n"
     ]
    }
   ],
   "source": [
    "print(mylist.head.val)"
   ]
  },
  {
   "cell_type": "code",
   "execution_count": null,
   "metadata": {},
   "outputs": [],
   "source": [
    "print(mylist.count)"
   ]
  },
  {
   "cell_type": "code",
   "execution_count": 34,
   "metadata": {},
   "outputs": [
    {
     "name": "stdout",
     "output_type": "stream",
     "text": [
      "A\n"
     ]
    }
   ],
   "source": [
    "print(mylist.top())"
   ]
  },
  {
   "cell_type": "code",
   "execution_count": 39,
   "metadata": {},
   "outputs": [],
   "source": [
    "mylist.preappend('B')"
   ]
  },
  {
   "cell_type": "code",
   "execution_count": null,
   "metadata": {},
   "outputs": [],
   "source": [
    "print(mylist.head.val)"
   ]
  },
  {
   "cell_type": "code",
   "execution_count": 40,
   "metadata": {
    "scrolled": true
   },
   "outputs": [
    {
     "name": "stdout",
     "output_type": "stream",
     "text": [
      "B\n"
     ]
    }
   ],
   "source": [
    "print(mylist.top())"
   ]
  },
  {
   "cell_type": "code",
   "execution_count": 41,
   "metadata": {},
   "outputs": [
    {
     "name": "stdout",
     "output_type": "stream",
     "text": [
      "4\n"
     ]
    }
   ],
   "source": [
    "print(mylist.count)"
   ]
  },
  {
   "cell_type": "code",
   "execution_count": null,
   "metadata": {},
   "outputs": [],
   "source": [
    "print(mylist.head.next)"
   ]
  },
  {
   "cell_type": "code",
   "execution_count": null,
   "metadata": {},
   "outputs": [],
   "source": [
    "print(mylist.head.next.val)"
   ]
  },
  {
   "cell_type": "code",
   "execution_count": null,
   "metadata": {},
   "outputs": [],
   "source": [
    "mylist.preappend('C') "
   ]
  },
  {
   "cell_type": "code",
   "execution_count": null,
   "metadata": {},
   "outputs": [],
   "source": [
    "print(mylist.head.val)\n",
    "print(mylist.head.next.val)\n",
    "print(mylist.head.next.next.val)"
   ]
  },
  {
   "cell_type": "code",
   "execution_count": null,
   "metadata": {},
   "outputs": [],
   "source": [
    "print(mylist.count)"
   ]
  },
  {
   "cell_type": "code",
   "execution_count": null,
   "metadata": {},
   "outputs": [],
   "source": [
    "mylist.predelete()"
   ]
  },
  {
   "cell_type": "code",
   "execution_count": null,
   "metadata": {},
   "outputs": [],
   "source": [
    "print(mylist.count)"
   ]
  },
  {
   "cell_type": "code",
   "execution_count": null,
   "metadata": {},
   "outputs": [],
   "source": [
    "print(mylist.head.val)\n",
    "print(mylist.head.next.val)"
   ]
  },
  {
   "cell_type": "markdown",
   "metadata": {},
   "source": [
    "#### Exercise \n",
    "Implemet stack operations using link list data structure."
   ]
  },
  {
   "cell_type": "markdown",
   "metadata": {},
   "source": [
    "## Queue ADT\n",
    "\n",
    "- A queue is a collection of objects that are inserted and removed according to the first-in, first-out (FIFO) principle.\n",
    "- Insert at one end of List, remove at the other end\n",
    "- Elements can be inserted at any time, but only the element that has been in the queue the longest can be next removed.\n",
    "- Queue ensures \"fairness\"\n",
    "\n",
    "<img src=\"images/week-02/queue.png\">\n",
    "\n",
    "### Some sample applications\n",
    "- Printer Queue: Jobs submitted to a printer are printed in order of arrival\n",
    "- Phone calls made to customer service hotlines are usually placed in a queue\n",
    "\n",
    "## Queue ADT operations\n",
    "#### The queue abstract data type (ADT) supports the following two fundamental methods for a queue Q:\n",
    "- Q.enqueue(e): Add element e to the back of queue Q.\n",
    "- Q.dequeue(): Remove and return the first element from queue Q; an error occurs if the queue is empty.\n",
    "\n",
    "<img src=\"images/week-02/queueoperation.png\">\n",
    "\n",
    "#### The queue ADT also includes the following supporting methods\n",
    "- Q.first(): Return a reference to the element at the front of queue Q, without removing it; an error occurs if the queue is empty.\n",
    "- Q.isEmpty(): Return True if queue Q does not contain any elements.\n",
    "- len(Q): Return the number of elements in queue Q.\n",
    "- Q.isFull(): Return True if queue Q is full."
   ]
  },
  {
   "cell_type": "markdown",
   "metadata": {},
   "source": [
    "## Array Implementation\n",
    "\n",
    "<img src=\"images/week-02/queue-implementation-array.png\" width=\"500\">"
   ]
  },
  {
   "cell_type": "code",
   "execution_count": 42,
   "metadata": {},
   "outputs": [],
   "source": [
    "import numpy as np"
   ]
  },
  {
   "cell_type": "code",
   "execution_count": 43,
   "metadata": {},
   "outputs": [],
   "source": [
    "myarrayzeros = np.zeros(12, dtype = int)"
   ]
  },
  {
   "cell_type": "code",
   "execution_count": 44,
   "metadata": {},
   "outputs": [],
   "source": [
    "myarrayones = np.ones(5, dtype = int)"
   ]
  },
  {
   "cell_type": "code",
   "execution_count": 45,
   "metadata": {},
   "outputs": [
    {
     "name": "stdout",
     "output_type": "stream",
     "text": [
      "[0 0 0 0 0 0 0 0 0 0 0 0]\n"
     ]
    }
   ],
   "source": [
    "print(myarrayzeros)"
   ]
  },
  {
   "cell_type": "code",
   "execution_count": 46,
   "metadata": {},
   "outputs": [
    {
     "name": "stdout",
     "output_type": "stream",
     "text": [
      "[1 1 1 1 1]\n"
     ]
    }
   ],
   "source": [
    "print(myarrayones)"
   ]
  },
  {
   "cell_type": "code",
   "execution_count": 48,
   "metadata": {},
   "outputs": [
    {
     "name": "stdout",
     "output_type": "stream",
     "text": [
      "[0 0 0 0 0]\n"
     ]
    }
   ],
   "source": [
    "print(myarrayzeros[0:5])"
   ]
  },
  {
   "cell_type": "code",
   "execution_count": null,
   "metadata": {},
   "outputs": [],
   "source": [
    "class Queue:\n",
    "    def __init__(self,capacity):\n",
    "        self.capacity = capacity\n",
    "        self.queue = np.zeros(capacity, dtype = int)\n",
    "        self.rear = -1\n",
    "        self.size = 0\n",
    "\n",
    "    def isEmpty(self):\n",
    "         return self.rear == -1\n",
    "    \n",
    "    def isEmpty2(self):\n",
    "         return self.size == 0\n",
    "\n",
    "\n",
    "    def enqueue(self, item):\n",
    "        self.queue[self.rear + 1]=item\n",
    "        self.rear +=1\n",
    "        self.size +=1\n",
    "\n",
    "    def dequeue(self):\n",
    "        if not(self.isEmpty()):\n",
    "            temp = self.queue[0]\n",
    "            self.queue = np.concatenate((self.queue[1:self.rear+1],np.zeros(self.capacity-self.rear, dtype = int)), axis=0)\n",
    "            self.rear -=1\n",
    "            self.size -=1\n",
    "            return temp\n",
    "        else:\n",
    "            print('Warning: Queue is empty')\n",
    "    \n",
    "    def isFull(self):\n",
    "        return self.size == self.capacity\n",
    "    \n",
    "    def traverse(self):\n",
    "        pass"
   ]
  },
  {
   "cell_type": "code",
   "execution_count": 52,
   "metadata": {},
   "outputs": [],
   "source": [
    "capacity = 10"
   ]
  },
  {
   "cell_type": "code",
   "execution_count": 50,
   "metadata": {},
   "outputs": [],
   "source": [
    "q=Queue(capacity)"
   ]
  },
  {
   "cell_type": "code",
   "execution_count": 51,
   "metadata": {},
   "outputs": [],
   "source": [
    "abcd = Queue(5)"
   ]
  },
  {
   "cell_type": "code",
   "execution_count": null,
   "metadata": {},
   "outputs": [],
   "source": [
    "print(abcd.queue)"
   ]
  },
  {
   "cell_type": "code",
   "execution_count": 49,
   "metadata": {},
   "outputs": [
    {
     "name": "stdout",
     "output_type": "stream",
     "text": [
      "[0 0 0 0 0]\n",
      "Warning: Queue is empty\n",
      "[54  0  0  0  0  0  0  0  0  0]\n",
      "[54 26  0  0  0  0  0  0  0  0]\n",
      "[26  0  0  0  0  0  0  0  0  0]\n",
      "[26 93 17 77 31  0  0  0  0  0]\n",
      "5\n",
      "10\n",
      "26\n",
      "[93 17 77 31  0  0  0  0  0  0]\n"
     ]
    }
   ],
   "source": [
    "q.rear\n",
    "\n",
    "q.isEmpty()\n",
    "\n",
    "q.dequeue()\n",
    "\n",
    "q.enqueue(54)\n",
    "\n",
    "print(q.queue)\n",
    "\n",
    "q.enqueue(26)\n",
    "\n",
    "print(q.queue)\n",
    "\n",
    "q.rear\n",
    "\n",
    "q.dequeue()\n",
    "\n",
    "print(q.queue)\n",
    "\n",
    "q.enqueue(93)\n",
    "q.enqueue(17)\n",
    "q.enqueue(77)\n",
    "q.enqueue(31)\n",
    "\n",
    "print(q.queue)\n",
    "\n",
    "print(q.size)\n",
    "\n",
    "print(q.capacity)\n",
    "\n",
    "print(q.dequeue())\n",
    "\n",
    "print(q.queue)"
   ]
  },
  {
   "cell_type": "markdown",
   "metadata": {},
   "source": [
    "## Time Complexity\n",
    "\n",
    "Consider the array capacity is $n$. \n",
    "\n",
    "<table style=\"width:80%; font-size: 12pt;\">\n",
    "  <tr>\n",
    "    <th style=\"text-align: center; vertical-align: middle;\">Operation</th>\n",
    "    <th style=\"text-align: center; vertical-align: middle;\">Big-O</th>\n",
    "  </tr>\n",
    "  <tr>\n",
    "    <td style=\"text-align: center; vertical-align: middle;\">isEmpty</td>\n",
    "    <td style=\"text-align: center; vertical-align: middle;\">$\\mathcal{O}(1)$</td>\n",
    "  </tr>\n",
    "  <tr>\n",
    "    <td style=\"text-align: center; vertical-align: middle;\">enqueue</td>\n",
    "    <td style=\"text-align: center; vertical-align: middle;\">$\\mathcal{O}(1)$</td>\n",
    "  </tr>\n",
    "  <tr>\n",
    "    <td style=\"text-align: center; vertical-align: middle;\">dequeue</td>\n",
    "    <td style=\"text-align: center; vertical-align: middle;\">$\\mathcal{O}(n)$</td>\n",
    "  </tr>\n",
    "  <tr>\n",
    "    <td style=\"text-align: center; vertical-align: middle;\">isFull</td>\n",
    "    <td style=\"text-align: center; vertical-align: middle;\">?</td>\n",
    "  </tr>\n",
    "  <tr>\n",
    "    <td style=\"text-align: center; vertical-align: middle;\">traverse</td>\n",
    "    <td style=\"text-align: center; vertical-align: middle;\">?</td>\n",
    "  </tr>\n",
    "</table>"
   ]
  },
  {
   "cell_type": "markdown",
   "metadata": {},
   "source": [
    "## Circular Array Implementation\n",
    "\n",
    "<img src=\"images/week-02/circulararray.png\">\n",
    "\n",
    "### Wrap Around\n",
    "\n",
    "<img src=\"images/week-02/circulararray_wa.png\">\n",
    "\n",
    "rear = (front + size -1) mod capacity"
   ]
  },
  {
   "cell_type": "code",
   "execution_count": null,
   "metadata": {},
   "outputs": [],
   "source": [
    "import numpy as np\n",
    "\n",
    "class QueueCA:\n",
    "    def __init__(self,capacity):\n",
    "        self.capacity = capacity\n",
    "        self.queue = np.zeros(capacity, dtype = int)\n",
    "        self.rear = -1\n",
    "        self.head = 0\n",
    "        self.size = 0\n",
    "\n",
    "    def isEmpty(self):\n",
    "         return self.size == 0\n",
    "\n",
    "    def enqueue(self, item):\n",
    "        self.rear = (self.rear + 1) % self.capacity\n",
    "        self.queue[self.rear]=item\n",
    "        self.size +=1\n",
    "\n",
    "    def dequeue(self):\n",
    "        temp = self.queue[self.head]\n",
    "        self.queue[self.head] = 0\n",
    "        self.head = (self.head + 1) % self.capacity\n",
    "        self.size -=1\n",
    "        return temp\n",
    "    \n",
    "    def isFull(self):\n",
    "        return self.size == self.capacity\n",
    "    \n",
    "    def traverse(self):\n",
    "        pass"
   ]
  },
  {
   "cell_type": "code",
   "execution_count": null,
   "metadata": {},
   "outputs": [],
   "source": [
    "capacity = 12\n",
    "qca = QueueCA(capacity)"
   ]
  },
  {
   "cell_type": "code",
   "execution_count": null,
   "metadata": {},
   "outputs": [],
   "source": [
    "qca.enqueue(54)"
   ]
  },
  {
   "cell_type": "code",
   "execution_count": null,
   "metadata": {},
   "outputs": [],
   "source": [
    "print(qca.queue)"
   ]
  },
  {
   "cell_type": "code",
   "execution_count": null,
   "metadata": {},
   "outputs": [],
   "source": [
    "print(qca.rear)"
   ]
  },
  {
   "cell_type": "code",
   "execution_count": null,
   "metadata": {},
   "outputs": [],
   "source": [
    "print(qca.size)"
   ]
  },
  {
   "cell_type": "code",
   "execution_count": null,
   "metadata": {},
   "outputs": [],
   "source": [
    "qca.enqueue(26)\n",
    "qca.enqueue(93)\n",
    "qca.enqueue(17)\n",
    "qca.enqueue(77)\n",
    "qca.enqueue(32)"
   ]
  },
  {
   "cell_type": "code",
   "execution_count": null,
   "metadata": {},
   "outputs": [],
   "source": [
    "print(qca.queue)"
   ]
  },
  {
   "cell_type": "code",
   "execution_count": null,
   "metadata": {},
   "outputs": [],
   "source": [
    "qca.dequeue()"
   ]
  },
  {
   "cell_type": "code",
   "execution_count": null,
   "metadata": {},
   "outputs": [],
   "source": [
    "print(qca.queue)"
   ]
  },
  {
   "cell_type": "code",
   "execution_count": null,
   "metadata": {},
   "outputs": [],
   "source": [
    "print(qca.head)"
   ]
  },
  {
   "cell_type": "code",
   "execution_count": null,
   "metadata": {},
   "outputs": [],
   "source": [
    "qca.dequeue()"
   ]
  },
  {
   "cell_type": "code",
   "execution_count": null,
   "metadata": {},
   "outputs": [],
   "source": [
    "print(qca.queue)"
   ]
  },
  {
   "cell_type": "code",
   "execution_count": null,
   "metadata": {},
   "outputs": [],
   "source": [
    "print(qca.head)"
   ]
  },
  {
   "cell_type": "code",
   "execution_count": null,
   "metadata": {},
   "outputs": [],
   "source": [
    "qca.dequeue()"
   ]
  },
  {
   "cell_type": "code",
   "execution_count": null,
   "metadata": {},
   "outputs": [],
   "source": [
    "print(qca.queue)"
   ]
  },
  {
   "cell_type": "code",
   "execution_count": null,
   "metadata": {},
   "outputs": [],
   "source": [
    "qca.enqueue(18)\n",
    "qca.enqueue(23)\n",
    "qca.enqueue(57)\n",
    "qca.enqueue(61)"
   ]
  },
  {
   "cell_type": "code",
   "execution_count": null,
   "metadata": {},
   "outputs": [],
   "source": [
    "print(qca.queue)"
   ]
  },
  {
   "cell_type": "code",
   "execution_count": null,
   "metadata": {},
   "outputs": [],
   "source": [
    "qca.enqueue(11)"
   ]
  },
  {
   "cell_type": "code",
   "execution_count": null,
   "metadata": {},
   "outputs": [],
   "source": [
    "print(qca.queue)"
   ]
  },
  {
   "cell_type": "code",
   "execution_count": null,
   "metadata": {},
   "outputs": [],
   "source": [
    "qca.dequeue()"
   ]
  },
  {
   "cell_type": "code",
   "execution_count": null,
   "metadata": {},
   "outputs": [],
   "source": [
    "print(qca.queue)"
   ]
  },
  {
   "cell_type": "code",
   "execution_count": null,
   "metadata": {},
   "outputs": [],
   "source": [
    "qca.dequeue()\n",
    "qca.dequeue()\n",
    "qca.dequeue()\n",
    "qca.dequeue()\n",
    "qca.dequeue()"
   ]
  },
  {
   "cell_type": "code",
   "execution_count": null,
   "metadata": {},
   "outputs": [],
   "source": [
    "print(qca.queue)"
   ]
  },
  {
   "cell_type": "code",
   "execution_count": null,
   "metadata": {},
   "outputs": [],
   "source": [
    "qca.enqueue(101)"
   ]
  },
  {
   "cell_type": "code",
   "execution_count": null,
   "metadata": {},
   "outputs": [],
   "source": [
    "print(qca.queue)"
   ]
  },
  {
   "cell_type": "code",
   "execution_count": null,
   "metadata": {},
   "outputs": [],
   "source": [
    "print(qca.head)"
   ]
  },
  {
   "cell_type": "code",
   "execution_count": null,
   "metadata": {},
   "outputs": [],
   "source": [
    "print(qca.rear)"
   ]
  },
  {
   "cell_type": "code",
   "execution_count": null,
   "metadata": {},
   "outputs": [],
   "source": [
    "print(qca.size)"
   ]
  },
  {
   "cell_type": "code",
   "execution_count": null,
   "metadata": {},
   "outputs": [],
   "source": [
    "qca.enqueue(102)"
   ]
  },
  {
   "cell_type": "code",
   "execution_count": null,
   "metadata": {},
   "outputs": [],
   "source": [
    "print(qca.queue)"
   ]
  },
  {
   "cell_type": "code",
   "execution_count": null,
   "metadata": {},
   "outputs": [],
   "source": [
    "print(qca.head)"
   ]
  },
  {
   "cell_type": "code",
   "execution_count": null,
   "metadata": {},
   "outputs": [],
   "source": [
    "print(qca.rear)"
   ]
  },
  {
   "cell_type": "code",
   "execution_count": null,
   "metadata": {},
   "outputs": [],
   "source": [
    "qca.dequeue()\n",
    "qca.dequeue()"
   ]
  },
  {
   "cell_type": "code",
   "execution_count": null,
   "metadata": {},
   "outputs": [],
   "source": [
    "print(qca.size)"
   ]
  },
  {
   "cell_type": "code",
   "execution_count": null,
   "metadata": {},
   "outputs": [],
   "source": [
    "print(qca.head)"
   ]
  },
  {
   "cell_type": "markdown",
   "metadata": {},
   "source": [
    "## Time Complexity\n",
    "\n",
    "Consider the array capacity is $n$. \n",
    "\n",
    "<table style=\"width:80%; font-size: 15pt;\">\n",
    "  <tr>\n",
    "    <th style=\"text-align: center; vertical-align: middle;\">Operation</th>\n",
    "    <th style=\"text-align: center; vertical-align: middle;\">Big-O</th>\n",
    "  </tr>\n",
    "  <tr>\n",
    "    <td style=\"text-align: center; vertical-align: middle;\">isEmpty</td>\n",
    "    <td style=\"text-align: center; vertical-align: middle;\">$\\mathcal{O}(1)$</td>\n",
    "  </tr>\n",
    "  <tr>\n",
    "    <td style=\"text-align: center; vertical-align: middle;\">enqueue</td>\n",
    "    <td style=\"text-align: center; vertical-align: middle;\">$\\mathcal{O}(1)$</td>\n",
    "  </tr>\n",
    "  <tr>\n",
    "    <td style=\"text-align: center; vertical-align: middle;\">dequeue</td>\n",
    "    <td style=\"text-align: center; vertical-align: middle; color: #DC143C;\">$\\mathcal{O}(1)$</td>\n",
    "  </tr>\n",
    "</table>"
   ]
  },
  {
   "cell_type": "markdown",
   "metadata": {},
   "source": [
    "## List ADT\n",
    "- A list is a collection of items where each item holds a relative position with respect to the others.\n",
    "- That is a list is ordered sequence of elements $a_{1},a_{2},\\cdots ,a_{n}$, but the elements does not have to be in order.\n",
    "- Elements may be of arbitrary value, but all are of the same type\n",
    "- Elements have values\n",
    "- Elements have positions like first, $k$th, and last.\n",
    "- For example, the collection of integers 54, 26, 93, 17, 77, and 31 might represent a simple unordered list of exam scores, which can be represented by [54,26,93,17,77,31]. \n",
    "\n",
    "## List ADT operations\n",
    "- Insert and delete\n",
    "    - Must indicate where to/from insert/delete like first, last, $k$th, after some element etc…\n",
    "- Queries: size(),isEmpty()\n",
    "- Traverse: visits every node in the list and displays the values\n",
    "- Find, set, replace\n",
    "\n",
    "## List Implementations\n",
    "There are two approaches:\n",
    "- Array-Based\n",
    "- Linked list (pointer based)\n",
    "    - Doubly linked list\n",
    "\n",
    "### Singly linked list\n",
    "Basic Idea:\n",
    "- Allocate little blocks of memory (nodes) as elements are added to the list\n",
    "- Keep track of list by linking the nodes together\n",
    "- Change links (pointers) when you want to insert or delete\n",
    "<img src=\"images/week-02/singlylinkedlist.png\" width=\"600\">\n",
    "\n",
    "#### Linked list: after insertion\n",
    "\n",
    "insert_after(item,value) : inserts the value _value E_ after the value _value P _.\n",
    "\n",
    "<img src=\"images/week-02/singlylinkedlistafterinsert.png\" width=\"600\">"
   ]
  },
  {
   "cell_type": "code",
   "execution_count": null,
   "metadata": {},
   "outputs": [],
   "source": [
    "class NodeSinglyLinked:\n",
    "    def __init__(self, value, next=None):\n",
    "        self.value = value\n",
    "        self.next = next"
   ]
  },
  {
   "cell_type": "code",
   "execution_count": null,
   "metadata": {},
   "outputs": [],
   "source": [
    "class SinglyLinkedList:    \n",
    "    def __init__(self):\n",
    "        self.head = None\n",
    "        self.size = 0\n",
    "    \n",
    "    def insert_front(self, value):\n",
    "        new_node = NodeSinglyLinked(value)\n",
    "        new_node.next = self.head\n",
    "        self.head= new_node\n",
    "        self.size += 1\n",
    "        \n",
    "    def delete_front(self):\n",
    "        if self.head is None:\n",
    "            print(\"The list is empty\")\n",
    "            return \n",
    "        self.head = self.head.next\n",
    "        self.size -= 1\n",
    "        \n",
    "    def isEmpty(self):\n",
    "        return self.size == 0\n",
    "    \n",
    "    def traverse(self):\n",
    "        if self.head is None:\n",
    "            print(\"List has no element\")\n",
    "            return\n",
    "        else:\n",
    "            current_node = self.head\n",
    "            while current_node is not None:\n",
    "                print(current_node.value , \" \")\n",
    "                current_node = current_node.next\n",
    "                \n",
    "    def insert_after_item(self,item,value):\n",
    "        pass\n",
    "    \n",
    "    def delete(self,value):\n",
    "        pass\n",
    "    \n",
    "    def __len__(self):\n",
    "        return self.size"
   ]
  },
  {
   "cell_type": "code",
   "execution_count": null,
   "metadata": {},
   "outputs": [],
   "source": [
    "l = SinglyLinkedList()"
   ]
  },
  {
   "cell_type": "code",
   "execution_count": null,
   "metadata": {},
   "outputs": [],
   "source": [
    "print(l.isEmpty())"
   ]
  },
  {
   "cell_type": "code",
   "execution_count": null,
   "metadata": {},
   "outputs": [],
   "source": [
    "print(l.head)"
   ]
  },
  {
   "cell_type": "code",
   "execution_count": null,
   "metadata": {},
   "outputs": [],
   "source": [
    "print(l.size)"
   ]
  },
  {
   "cell_type": "code",
   "execution_count": null,
   "metadata": {},
   "outputs": [],
   "source": [
    "l.insert_front(99)"
   ]
  },
  {
   "cell_type": "code",
   "execution_count": null,
   "metadata": {},
   "outputs": [],
   "source": [
    "print(l.head.value)"
   ]
  },
  {
   "cell_type": "code",
   "execution_count": null,
   "metadata": {},
   "outputs": [],
   "source": [
    "print(l.size)"
   ]
  },
  {
   "cell_type": "code",
   "execution_count": null,
   "metadata": {},
   "outputs": [],
   "source": [
    "print(l.head.next)"
   ]
  },
  {
   "cell_type": "code",
   "execution_count": null,
   "metadata": {},
   "outputs": [],
   "source": [
    "l.insert_front(26)"
   ]
  },
  {
   "cell_type": "code",
   "execution_count": null,
   "metadata": {},
   "outputs": [],
   "source": [
    "print(l.head.next)"
   ]
  },
  {
   "cell_type": "code",
   "execution_count": null,
   "metadata": {},
   "outputs": [],
   "source": [
    "print(l.head.value)"
   ]
  },
  {
   "cell_type": "code",
   "execution_count": null,
   "metadata": {},
   "outputs": [],
   "source": [
    "print(l.head.next.value)"
   ]
  },
  {
   "cell_type": "code",
   "execution_count": null,
   "metadata": {},
   "outputs": [],
   "source": [
    "l.insert_front(93)"
   ]
  },
  {
   "cell_type": "code",
   "execution_count": null,
   "metadata": {},
   "outputs": [],
   "source": [
    "print(l.head.value)"
   ]
  },
  {
   "cell_type": "code",
   "execution_count": null,
   "metadata": {},
   "outputs": [],
   "source": [
    "print(l.head.next.value)"
   ]
  },
  {
   "cell_type": "code",
   "execution_count": null,
   "metadata": {},
   "outputs": [],
   "source": [
    "print(l.head.next.next.value)"
   ]
  },
  {
   "cell_type": "code",
   "execution_count": null,
   "metadata": {},
   "outputs": [],
   "source": [
    "import numpy as np"
   ]
  },
  {
   "cell_type": "code",
   "execution_count": null,
   "metadata": {},
   "outputs": [],
   "source": [
    "l.insert_front(17)\n",
    "l.insert_front(77)\n",
    "l.insert_front(32)"
   ]
  },
  {
   "cell_type": "code",
   "execution_count": null,
   "metadata": {},
   "outputs": [],
   "source": [
    "print(len(l))"
   ]
  },
  {
   "cell_type": "code",
   "execution_count": null,
   "metadata": {},
   "outputs": [],
   "source": [
    "l.traverse()"
   ]
  },
  {
   "cell_type": "code",
   "execution_count": null,
   "metadata": {},
   "outputs": [],
   "source": [
    "l.delete_front()"
   ]
  },
  {
   "cell_type": "code",
   "execution_count": null,
   "metadata": {},
   "outputs": [],
   "source": [
    "l.traverse()"
   ]
  },
  {
   "cell_type": "markdown",
   "metadata": {},
   "source": [
    "## Doubly Linked Lists\n",
    "\n",
    "- In singly linked lists, findinding previous is slow, i.e. $\\mathcal{O}(n)$, because no direct access to previous node\n",
    "- Solution: Built direct access, that is, keep a \"previous\" pointer at each node.\n",
    "\n",
    "<img src=\"images/week-02/doublelinkedlist.png\" width=\"500\">\n",
    "\n",
    "### Insertion\n",
    "\n",
    "Before insertion\n",
    "<img src=\"images/week-02/doublelinkedlistinsert.png\" width=\"500\">\n",
    "\n",
    "<img src=\"images/week-02/doublelinkedlistinsert2.png\" width=\"500\">\n",
    "After insertion\n",
    "<img src=\"images/week-02/doublelinkedlistinsert3.png\" width=\"500\">"
   ]
  },
  {
   "cell_type": "code",
   "execution_count": null,
   "metadata": {},
   "outputs": [],
   "source": [
    "class NodeDoubleLinked:\n",
    "    def __init__(self, value, next=None, prev=None):\n",
    "        self.value = value\n",
    "        self.next = next\n",
    "        self.prev = prev"
   ]
  },
  {
   "cell_type": "code",
   "execution_count": null,
   "metadata": {},
   "outputs": [],
   "source": [
    "class DoubleLinkedList:    \n",
    "    def __init__(self):\n",
    "        self.head = None\n",
    "        self.size = 0\n",
    "    \n",
    "    def insert_front(self, value):\n",
    "        new_node = NodeDoubleLinked(value)\n",
    "        new_node.next = self.head\n",
    "        if self.head is not None:\n",
    "             self.head.prev = new_node\n",
    "        self.head= new_node\n",
    "        self.size += 1\n",
    "        \n",
    "    def delete_front(self):\n",
    "        pass\n",
    "        \n",
    "    def isEmpty(self):\n",
    "        return self.size == 0\n",
    "    \n",
    "    def traverse(self):\n",
    "        if self.head is None:\n",
    "            print(\"List has no element\")\n",
    "            return\n",
    "        else:\n",
    "            current_node = self.head\n",
    "            while current_node is not None:\n",
    "                print(current_node.value , \" \")\n",
    "                current_node = current_node.next\n",
    "                \n",
    "    def insert(self, item, value):\n",
    "        if self.head is None:\n",
    "            print(\"List has no element\")\n",
    "            return\n",
    "        else:\n",
    "            current_node = self.head\n",
    "            while current_node.value is not item and current_node is not None:\n",
    "                current_node = current_node.next\n",
    "        if current_node.next is None:\n",
    "            print(\"There is no such an element\")\n",
    "            return\n",
    "        else:\n",
    "            new_node = NodeDoubleLinked(value)\n",
    "            new_node.next = current_node.next\n",
    "            current_node.next = new_node\n",
    "            new_node.prev = current_node\n",
    "            if new_node.next is not None:\n",
    "                new_node.next.prev = new_node\n",
    "            self.size += 1\n",
    "    \n",
    "    def delete(self,value):\n",
    "        pass\n",
    "    \n",
    "    def __len__(self):\n",
    "        return self.size"
   ]
  },
  {
   "cell_type": "code",
   "execution_count": null,
   "metadata": {},
   "outputs": [],
   "source": [
    "d = DoubleLinkedList()"
   ]
  },
  {
   "cell_type": "code",
   "execution_count": null,
   "metadata": {},
   "outputs": [],
   "source": [
    "print(d.isEmpty())"
   ]
  },
  {
   "cell_type": "code",
   "execution_count": null,
   "metadata": {},
   "outputs": [],
   "source": [
    "d.insert_front(54)"
   ]
  },
  {
   "cell_type": "code",
   "execution_count": null,
   "metadata": {},
   "outputs": [],
   "source": [
    "d.traverse()"
   ]
  },
  {
   "cell_type": "code",
   "execution_count": null,
   "metadata": {},
   "outputs": [],
   "source": [
    "d.insert_front(26)"
   ]
  },
  {
   "cell_type": "code",
   "execution_count": null,
   "metadata": {},
   "outputs": [],
   "source": [
    "print(d.next.value)"
   ]
  },
  {
   "cell_type": "code",
   "execution_count": null,
   "metadata": {},
   "outputs": [],
   "source": [
    "print(d.head.next.value)"
   ]
  },
  {
   "cell_type": "code",
   "execution_count": null,
   "metadata": {},
   "outputs": [],
   "source": [
    "print(d.head.value)"
   ]
  },
  {
   "cell_type": "code",
   "execution_count": null,
   "metadata": {},
   "outputs": [],
   "source": [
    "d.insert_front(93)\n",
    "d.insert_front(17)\n",
    "d.insert_front(77)\n",
    "d.insert_front(32)"
   ]
  },
  {
   "cell_type": "code",
   "execution_count": null,
   "metadata": {},
   "outputs": [],
   "source": [
    "d.traverse()"
   ]
  },
  {
   "cell_type": "code",
   "execution_count": null,
   "metadata": {},
   "outputs": [],
   "source": [
    "d.insert(17,101)"
   ]
  },
  {
   "cell_type": "code",
   "execution_count": null,
   "metadata": {},
   "outputs": [],
   "source": [
    "d.traverse()"
   ]
  },
  {
   "cell_type": "markdown",
   "metadata": {},
   "source": [
    "## Double-Ended Queues - Deque\n",
    "-  Deque ADT allows insertions and deletions at both ends.\n",
    "<img src=\"images/week-02/basicdeque.png\" width=\"500\">\n",
    "- Some operations: addfirst(value), addlast(value), removefirst(), and removelast()\n",
    "- Additional operations : isEmpty(), size()\n",
    "\n",
    "### Deque implementations\n",
    "- Circular array\n",
    "- Doubly linked list\n",
    "\n",
    "**Palindrome problem:** \n",
    "- A *palindrome* is a string that reads the same forward and backward, for example, radar, toot, and madam. \n",
    "- Construct an algorithm that inputs a string of characters and checks whether it is a palindrome."
   ]
  },
  {
   "cell_type": "code",
   "execution_count": null,
   "metadata": {},
   "outputs": [],
   "source": []
  }
 ],
 "metadata": {
  "anaconda-cloud": {},
  "kernelspec": {
   "display_name": "Python 3 (ipykernel)",
   "language": "python",
   "name": "python3"
  },
  "language_info": {
   "codemirror_mode": {
    "name": "ipython",
    "version": 3
   },
   "file_extension": ".py",
   "mimetype": "text/x-python",
   "name": "python",
   "nbconvert_exporter": "python",
   "pygments_lexer": "ipython3",
   "version": "3.10.9"
  }
 },
 "nbformat": 4,
 "nbformat_minor": 1
}
