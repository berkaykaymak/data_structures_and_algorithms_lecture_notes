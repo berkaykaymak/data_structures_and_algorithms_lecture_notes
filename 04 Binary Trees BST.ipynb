{
 "cells": [
  {
   "cell_type": "markdown",
   "metadata": {},
   "source": [
    "## Today's Agenda\n",
    "- Trees\n",
    "\n",
    "## Objectives\n",
    "- To understand the structure of trees\n",
    "- To understand what a tree data structure is and how it is used."
   ]
  },
  {
   "cell_type": "markdown",
   "metadata": {},
   "source": [
    "## Tree\n",
    "\n",
    "- Lists, Stacks, and Queues are linear relationships\n",
    "- Information often contains hierarchical relationships\n",
    "- For example, file directories or folders\n",
    "     \n",
    "     <img src=\"images/week-04/tree_directory.png\"  width=\"500\">\n",
    "     \n",
    "- Hierarchies in organizations\n",
    "    \n",
    "    <img src=\"images/week-04/treeorgancharthier.png\"  width=\"500\">\n",
    "    \n",
    "- Build a tree to support fast searching"
   ]
  },
  {
   "cell_type": "markdown",
   "metadata": {},
   "source": [
    "## Structure of Trees\n",
    "\n",
    "- Nodes root\n",
    "     - Special node at top: root\n",
    "- Links\n",
    "    - Connect nodes\n",
    "    - Zero or more nodes connected to a node\n",
    "    - Nodes can store information\n",
    "\n",
    "<img src=\"images/week-04/tree_structure.png\"  width=\"300\" height=\"300\">"
   ]
  },
  {
   "cell_type": "markdown",
   "metadata": {},
   "source": [
    "## Tree Jargon - Terminology\n",
    "\n",
    "- **Node:** A node is a fundamental part of a tree. It can have a name, which we call the “key\".\n",
    "- **Edge:** An edge connects two nodes to show that there is a relationship between them (incoming/outgoing).\n",
    "- **Root:** The root of the tree is the only node in the tree that has no incoming edges.\n",
    "- **Path:** A path is an ordered list of nodes that are connected by edges.\n",
    "- **Children:** The set of nodes that have incoming edges from the same node to are said to be the children of that node.\n",
    "- **Parent:** A node is the parent of all the nodes it connects to with outgoing edges.\n",
    "- **Sibling:** Nodes in the tree that are children of the same parent are said to be siblings.\n",
    "- **Internal node:** An internal node is a node with at least one child.\n",
    "- **Leaf Node:** A leaf node is a node that has no children.\n",
    "\n",
    "\n",
    "<img src=\"images/week-04/tree_details.png\" width=\"500\" height=\"500\">"
   ]
  },
  {
   "cell_type": "markdown",
   "metadata": {},
   "source": [
    "### More on Terminology\n",
    "- **Level:** The level of a node $n$ is the number of edges on the path from the root node to $n$.\n",
    "- **Height:** The height of a tree is equal to the maximum level of any node in the tree.\n",
    "- **Subtree:** A subtree is a set of nodes and edges comprised of a parent and all the descendants of that parent.\n",
    "\n",
    "- **Ancestors of a node:** parent, grandparent, grand-grandparent, etc.\n",
    "    - If there is a path from node $u$ to node $v$, $u$ is an ancestor of $v$\n",
    "    - Better to say recursively as: $u$ is an ancestor of $v$ if $u=v$ or $u$ is an ancestor of the parent of $v$\n",
    "- **Descendant of a node:** child, grandchild, grand-grandchild, etc."
   ]
  },
  {
   "cell_type": "markdown",
   "metadata": {},
   "source": [
    "## More on terminology\n",
    "- Length of a path = number of edges\n",
    "- Depth of a node N = length of path from root to N\n",
    "- Height of node N = length of longest path from N to a leaf\n",
    "- Depth of tree = depth of deepest node\n",
    "- Height of tree = height of root\n",
    "\n",
    "<img src=\"images/week-04/treevalues.png\">"
   ]
  },
  {
   "cell_type": "markdown",
   "metadata": {},
   "source": [
    "## Some facts\n",
    "- Root note does not have a parent.\n",
    "- Subtree consists of a node and its descendants."
   ]
  },
  {
   "cell_type": "markdown",
   "metadata": {},
   "source": [
    "## Tree ADT\n",
    "\n",
    "### Tree operations\n",
    "- Usual operations: \n",
    "    - size(): returns the number of nodes, \n",
    "    - isEmpty(): returns true if the tree is empty.\n",
    "- root(): returns the root of the tree, and flags an error if the tree is empty\n",
    "- Accessor methods :\n",
    "    - parent($v$): returns the parent of the node $v$, flags an error if $v$ is the root,\n",
    "    - children($v$): returns the collection of chidren of the node $v$.\n",
    "- Queries: \n",
    "    - isRoot($v$) : returns true if the node $v$ is the root\n",
    "    - isExternal($v$): returns true if the node $v$ is a leaf\n",
    "    - isInternal($v$): returns true if the node $v$ has children\n",
    "    "
   ]
  },
  {
   "cell_type": "markdown",
   "metadata": {},
   "source": [
    "## Trees - Definition\n",
    "Defined as Nodes and Edges\n",
    "- One node of the tree is designated as the root node\n",
    "- Every node $n$, except the root node, is connected by an edge from exactly one other node $p$, where $p$ is the parent of $n$.\n",
    "- A unique path traverses from the root to each node.\n",
    "- If each node in the tree has a maximum of two children, we say that the tree is a **binary tree**.\n",
    "\n",
    "A Tree with a Set of Nodes and Edges\n",
    "\n",
    "<img src=\"images/week-04/treenodes.png\" width=\"350\">"
   ]
  },
  {
   "cell_type": "markdown",
   "metadata": {},
   "source": [
    "It is better to define trees recursively as:\n",
    "- A tree is either empty or consists of a root and zero or more subtrees, each of which is also a tree\n",
    "- The root of each subtree is connected to the root of the parent tree by an edge\n",
    "\n",
    "<img src=\"images/week-04/treesubtree.png\" width=\"300\">"
   ]
  },
  {
   "cell_type": "markdown",
   "metadata": {},
   "source": [
    "## Definition - wrap up\n",
    "- A **tree** is a set of nodes, i.e., either\n",
    "    - it’s an empty set of nodes, or\n",
    "    - it has one node called the root from which zero or more trees (subtrees) descend.\n",
    "    \n",
    "<img src=\"images/week-04/tree_basic.png\"> \n",
    "\n",
    "- Root: top node\n",
    "- Parent: node “above”\n",
    "- Every node (except root) has exactly one parent\n",
    "- Child: node “below”\n",
    "    - Nodes may have zero or more children\n",
    "    - Binary trees have at most two children\n",
    "- Leaf: node without children\n",
    "- Subtree: tree below a given node\n",
    "    - That node becomes root of the subtree\n",
    "- Level: distance from root"
   ]
  },
  {
   "cell_type": "markdown",
   "metadata": {},
   "source": [
    "## More facts\n",
    "\n",
    "- A tree with $n$ nodes always has $n-1$ edges (Exercise: Prove it by induction).\n",
    "- A node has a single parent.\n",
    "- Two nodes in a tree have at most one path between them.\n",
    "- Leaf (aka external) node: node without children.\n",
    "- Internal node: a node that is not a leaf.\n",
    "- Siblings: two nodes with the same parent.\n",
    "- Trees can never have cycles (loops), so there is no non-zero length path from a node to itself."
   ]
  },
  {
   "cell_type": "markdown",
   "metadata": {},
   "source": [
    "## Implementation of Trees\n",
    "\n",
    "One possible pointer-based implementation:\n",
    "- Tree nodes with value and a pointer to each child\n",
    "- Problem:\n",
    "    - How many pointers should we allocate space for?\n",
    "\n",
    "An alternate pointer-based implementation\n",
    "- 1st Child / Next Sibling List Representation\n",
    "- Each node has 2 pointers: one to its first child and one to next sibling\n",
    "- It can handle arbitrary number of children\n",
    "\n",
    "<img src=\"images/week-04/tree_implementation.png\">"
   ]
  },
  {
   "cell_type": "markdown",
   "metadata": {},
   "source": [
    "# Binary Trees\n",
    "\n",
    "### Definition:\n",
    "A **binary tree** is either empty, or it consists of a node called the **root** together with two binary trees called the **left subtree** and the **right subtree** of the root, which are disjoint from each other and from the root.\n",
    "\n",
    "<img src=\"images/week-04/binary_tree.png\" width=\"500\" height=\"500\">\n",
    "\n",
    "<img src=\"images/week-04/binary_tree2.png\" width=\"300\" height=\"300\">\n",
    "\n",
    "- These subtrees may be empty.\n",
    "\n",
    "- Every node has at most two children\n",
    "    - Left child\n",
    "    - Right child\n",
    "    - if only 1 child, still need to specify if left or right child\n",
    "- Most popular trees in computer science\n",
    "\n",
    "<img src=\"images/week-04/binary_tree_details.png\" width=\"500\" height=\"500\">\n"
   ]
  },
  {
   "cell_type": "markdown",
   "metadata": {},
   "source": [
    "**Problem:** Given a binary tree with $N$ nodes, what is the minimum depth of the tree?\n",
    "\n",
    "**Constructive answer:** Minimum depth is obtained at maximum number of nodes.\n",
    "At depth $d$, there are at most $N = 2^{d}$ to $N = 2^{d+1}-1$ nodes. After simple mathematics:\n",
    "\\begin{equation}\n",
    "2^{d}\\le N\\le 2^{d+1}\\quad \\textrm{implies}\\quad d_{min}=\\log_{2}{N}\n",
    "\\end{equation}\n",
    "\n",
    "**Exercise:** Prove that for a binary tree with $N$ nodes the minimum depth is $d_{min}=\\log_{2}{N}$. (*Hint:* Use mathematical induction.)"
   ]
  },
  {
   "cell_type": "markdown",
   "metadata": {},
   "source": [
    "## Binary Tree ADT\n",
    "In addition to Tree methods binary trees have:\n",
    "- left($v$): returns the left child of $v$ if it exists, else NULL\n",
    "- right($v$ ): returns the right child of $v$ if it exists, else NULL\n",
    "- hasLeft($v$): returns TRUE if node $v$ has left child\n",
    "- hasRight($v$): returns TRUE if node $v$ has right child\n",
    "\n",
    "### Special binary trees\n",
    "- **Perfect:** A binary tree is a perfect if every level is completely full.\n",
    "<img src=\"images/week-04/binary_tree_perfect.png\">\n",
    "\n",
    "- **(Left-)Complete:** A binary tree is (left-)complete if\n",
    "     - every level is completely full, possibly excluding the lowest level\n",
    "     - at the lowest level, all nodes are as far left as possible.\n",
    "<img src=\"images/week-04/binary_tree_complete.png\">\n",
    "\n",
    "- **Full:** A binary tree T is full if each node is either a leaf or possesses exactly two child nodes."
   ]
  },
  {
   "cell_type": "markdown",
   "metadata": {},
   "source": []
  },
  {
   "cell_type": "markdown",
   "metadata": {},
   "source": [
    "**Method 2**\n",
    "- Visit the left subtree (i.e., visit the tree whose root is the left child) and do this recursively,\n",
    "- Visit the root,\n",
    "- Visit the right subtree (i.e., visit the tree whose root is the right child) and do this recursively.\n",
    "*Output:*\n",
    "- **A ^ 2 - 2 * A * B + B ^2 / A - B**\n",
    "- But need paranthesis **(A ^ 2 - 2 * A * B + B ^2) / (A - B)**\n"
   ]
  },
  {
   "cell_type": "markdown",
   "metadata": {},
   "source": []
  },
  {
   "cell_type": "markdown",
   "metadata": {},
   "source": []
  },
  {
   "cell_type": "raw",
   "metadata": {},
   "source": [
    "def preorder(tree):\n",
    "    if tree:\n",
    "        print(tree.getRootVal())\n",
    "        preorder(tree.getLeftChild())\n",
    "        preorder(tree.getRightChild())"
   ]
  },
  {
   "cell_type": "markdown",
   "metadata": {},
   "source": []
  },
  {
   "cell_type": "markdown",
   "metadata": {},
   "source": [
    "### Representation\n",
    "\n",
    "<img src=\"images/week-04/binary_tree_node_rep.png\" width=\"100\">\n",
    "\n",
    "For example, \n",
    "<img src=\"images/week-04/binary_tree_rep1.png\" width=\"550\">"
   ]
  },
  {
   "cell_type": "code",
   "execution_count": 1,
   "metadata": {},
   "outputs": [],
   "source": [
    "class BinaryTree:\n",
    "    def __init__(self,root):\n",
    "        self.key = root\n",
    "        self.left = None\n",
    "        self.right = None\n",
    "        \n",
    "    def insertLeft(self,key):\n",
    "        if self.left == None:\n",
    "            self.left = BinaryTree(key)\n",
    "        else:\n",
    "            t = BinaryTree(key)\n",
    "            t.left = self.left\n",
    "            self.left = t\n",
    "\n",
    "    def insertRight(self,key):\n",
    "        if self.right == None:\n",
    "            self.right = BinaryTree(key)\n",
    "        else:\n",
    "            t = BinaryTree(key)\n",
    "            t.right = self.right\n",
    "            self.right = t\n",
    "\n",
    "    def getRightChild(self):\n",
    "        return self.right\n",
    "\n",
    "    def getLeftChild(self):\n",
    "        return self.left\n",
    "\n",
    "    def setRootVal(self,obj):\n",
    "        self.key = obj\n",
    "\n",
    "    def setNodeVal(self,obj):\n",
    "        self.key = obj\n",
    "\n",
    "    def getRootVal(self):\n",
    "        return self.key\n",
    "    \n",
    "    def getNodeVal(self):\n",
    "        return self.key"
   ]
  },
  {
   "cell_type": "code",
   "execution_count": 2,
   "metadata": {},
   "outputs": [],
   "source": [
    "bt = BinaryTree('a')"
   ]
  },
  {
   "cell_type": "code",
   "execution_count": 5,
   "metadata": {},
   "outputs": [
    {
     "name": "stdout",
     "output_type": "stream",
     "text": [
      "ABC\n"
     ]
    }
   ],
   "source": [
    "print(bt.getRootVal())"
   ]
  },
  {
   "cell_type": "code",
   "execution_count": 4,
   "metadata": {},
   "outputs": [],
   "source": [
    "bt.setRootVal(\"ABC\")"
   ]
  },
  {
   "cell_type": "code",
   "execution_count": 6,
   "metadata": {},
   "outputs": [
    {
     "name": "stdout",
     "output_type": "stream",
     "text": [
      "None\n"
     ]
    }
   ],
   "source": [
    "print(bt.getLeftChild())"
   ]
  },
  {
   "cell_type": "code",
   "execution_count": null,
   "metadata": {},
   "outputs": [],
   "source": [
    "bt.insertLeft('b')"
   ]
  },
  {
   "cell_type": "code",
   "execution_count": null,
   "metadata": {},
   "outputs": [],
   "source": [
    "print(bt.getLeftChild())"
   ]
  },
  {
   "cell_type": "code",
   "execution_count": null,
   "metadata": {},
   "outputs": [],
   "source": [
    "print(bt.getLeftChild().getNodeVal())"
   ]
  },
  {
   "cell_type": "code",
   "execution_count": null,
   "metadata": {},
   "outputs": [],
   "source": [
    "bt.insertRight('c')"
   ]
  },
  {
   "cell_type": "code",
   "execution_count": null,
   "metadata": {},
   "outputs": [],
   "source": [
    "print(bt.getRightChild())"
   ]
  },
  {
   "cell_type": "code",
   "execution_count": null,
   "metadata": {},
   "outputs": [],
   "source": [
    "print(bt.getRightChild().getNodeVal())"
   ]
  },
  {
   "cell_type": "code",
   "execution_count": null,
   "metadata": {},
   "outputs": [],
   "source": [
    "bt.getRightChild().setNodeVal('hello')"
   ]
  },
  {
   "cell_type": "code",
   "execution_count": null,
   "metadata": {},
   "outputs": [],
   "source": [
    "print(bt.getRightChild().getNodeVal())"
   ]
  },
  {
   "cell_type": "markdown",
   "metadata": {},
   "source": [
    "## Tree traversal \n",
    "Tree traversal means that visit a node and do something, and repeat the process for each node in the tree.\n",
    "\n",
    "- It is not obvious how to visit every node of a tree, unlike arrays which have a natural order.\n",
    "- There are tree traversal algorithms for visiting every node in a tree\n",
    "     - Each visits nodes in different orders."
   ]
  },
  {
   "cell_type": "markdown",
   "metadata": {},
   "source": [
    "     \n",
    "For example, consider the expression tree:\n",
    "<img src=\"images/week-04/expression_tree.png\" width=\"500\">\n",
    "\n",
    "**Expression tree** is a binary tree in which each internal node corresponds to operator and each leaf node corresponds to operand."
   ]
  },
  {
   "cell_type": "markdown",
   "metadata": {},
   "source": [
    "**Method 1**\n",
    "- Visit the root,\n",
    "- Visit the left subtree (i.e., visit the tree whose root is the left child) and do this recursively,\n",
    "- Visit the right subtree (i.e., visit the tree whose root is the right child) and do this recursively.\n",
    "*Output:* **/ + - ^ A 2 * * 2 A B ^ B 2 - A B**"
   ]
  },
  {
   "cell_type": "markdown",
   "metadata": {},
   "source": [
    "**Method 2**\n",
    "- Visit the left subtree (i.e., visit the tree whose root is the left child) and do this recursively,\n",
    "- Visit the root,\n",
    "- Visit the right subtree (i.e., visit the tree whose root is the right child) and do this recursively.\n",
    "*Output:*\n",
    "- **A ^ 2 - 2 * A * B + B ^2 / A - B**\n",
    "- But need paranthesis **(A ^ 2 - 2 * A * B + B ^2) / (A - B)**"
   ]
  },
  {
   "cell_type": "markdown",
   "metadata": {},
   "source": [
    "**Method 3**\n",
    "- Visit the left subtree (i.e., visit the tree whose root is the left child) and do this recursively,\n",
    "- Visit the right subtree (i.e., visit the tree whose root is the right child) and do this recursively,\n",
    "- Visit the root.\n",
    "*Output:* **Exercise**"
   ]
  },
  {
   "cell_type": "markdown",
   "metadata": {},
   "source": [
    "**Method 1** is known as *pre-order*, **Method 2** *in-order*, and **Method 3** *post-order*.\n",
    "\n",
    "- **Pre-order:** visits each node before visiting left and right,\n",
    "- **Post-order:** visits each child before visiting node,\n",
    "- **In-order:** visits left child, node and then right child."
   ]
  },
  {
   "cell_type": "markdown",
   "metadata": {},
   "source": [
    "These are three different well-known traversal algorithms."
   ]
  },
  {
   "cell_type": "markdown",
   "metadata": {},
   "source": [
    "### Implementation\n",
    "\n",
    "**Pre-order:**\n",
    "- Visit the root,\n",
    "- Visit the left subtree (i.e., visit the tree whose root is the left child) and do this recursively,\n",
    "- Visit the right subtree (i.e., visit the tree whose root is the right child) and do this recursively."
   ]
  },
  {
   "cell_type": "code",
   "execution_count": null,
   "metadata": {},
   "outputs": [],
   "source": [
    "def preorder(tree):\n",
    "    if tree:\n",
    "        print(tree.getRootVal(), end =\" \")\n",
    "        preorder(tree.getLeftChild())\n",
    "        preorder(tree.getRightChild())"
   ]
  },
  {
   "cell_type": "markdown",
   "metadata": {},
   "source": [
    "For example, the corresponding travelsal outputs for the expression tree:\n",
    "<img src=\"images/week-04/expression_tree2.png\" width=\"150\">"
   ]
  },
  {
   "cell_type": "code",
   "execution_count": null,
   "metadata": {},
   "outputs": [],
   "source": [
    "et = BinaryTree('+')\n",
    "et.insertLeft('*')\n",
    "et.insertRight('5')\n",
    "et.getLeftChild().insertLeft('2')\n",
    "et.getLeftChild().insertRight('4')"
   ]
  },
  {
   "cell_type": "markdown",
   "metadata": {},
   "source": [
    "- **Pre-order output:** + * 2 4 5"
   ]
  },
  {
   "cell_type": "code",
   "execution_count": null,
   "metadata": {},
   "outputs": [],
   "source": [
    "preorder(et)"
   ]
  },
  {
   "cell_type": "markdown",
   "metadata": {},
   "source": [
    "**In-order:**\n",
    "- Visit the left subtree (i.e., visit the tree whose root is the left child) and do this recursively,\n",
    "- Visit the root,\n",
    "- Visit the right subtree (i.e., visit the tree whose root is the right child) and do this recursively."
   ]
  },
  {
   "cell_type": "markdown",
   "metadata": {},
   "source": [
    "- **In-order output:** 2 * 4 + 5"
   ]
  },
  {
   "cell_type": "code",
   "execution_count": null,
   "metadata": {},
   "outputs": [],
   "source": [
    "def inorder(tree):\n",
    "    if tree:\n",
    "        inorder(tree.getLeftChild())\n",
    "        print(tree.getRootVal(), end =\" \")\n",
    "        inorder(tree.getRightChild())"
   ]
  },
  {
   "cell_type": "code",
   "execution_count": null,
   "metadata": {},
   "outputs": [],
   "source": [
    "inorder(et)"
   ]
  },
  {
   "cell_type": "markdown",
   "metadata": {},
   "source": [
    "**Post-order:**\n",
    "- Visit the left subtree (i.e., visit the tree whose root is the left child) and do this recursively,\n",
    "- Visit the right subtree (i.e., visit the tree whose root is the right child) and do this recursively,\n",
    "- Visit the root."
   ]
  },
  {
   "cell_type": "markdown",
   "metadata": {},
   "source": [
    "- **Post-order output:** 2 4 * 5 +"
   ]
  },
  {
   "cell_type": "markdown",
   "metadata": {},
   "source": [
    "# Binary Search Tree (BST)\n",
    "\n",
    "BST has two properties:\n",
    "### Structure property (binary tree)\n",
    "-  Each node has ≤ 2 children\n",
    "\n",
    "### Order property\n",
    "    - All keys in left subtree smaller than node’s key\n",
    "    - All keys in right subtree larger than node’s key\n",
    "        - Result: easy to find any given key"
   ]
  },
  {
   "cell_type": "markdown",
   "metadata": {},
   "source": [
    "<img src=\"images/week-04/binary_search_tree.png\" width=\"300\">"
   ]
  },
  {
   "cell_type": "markdown",
   "metadata": {},
   "source": [
    "For example,\n",
    "<img src=\"images/week-04/binary_search_tree2.png\" width=\"300\">\n",
    "is a BST, but\n",
    "\n",
    "<img src=\"images/week-04/binary_search_tree3.png\" width=\"300\">\n",
    "is not BST."
   ]
  },
  {
   "cell_type": "markdown",
   "metadata": {},
   "source": [
    "**A binary search tree is a type of binary tree (but not all binary trees are binary search trees!)**\n",
    "\n",
    "# BST ADT\n",
    "- find(key) : returns TRUE if key is at the tree.\n",
    "\n",
    "find(11):\n",
    "\n",
    "<img src=\"images/week-04/BSTfind.png\" width=\"300\">\n",
    "\n",
    "find(14):\n",
    "\n",
    "<img src=\"images/week-04/BSTfind2.png\" width=\"400\">\n",
    "\n",
    "- findMax() : retuns the maximum valued key at the tree and, returns nothing if the tree is empty.\n",
    "- findMin : retuns the minimum valued key at the tree and, returns nothing if the tree is empty. \n",
    "- Here is the pseudocode for findMin:"
   ]
  },
  {
   "cell_type": "markdown",
   "metadata": {},
   "source": [
    "Node findMin(Node root){\n",
    "\n",
    "    if(root == null)\n",
    " \n",
    "        return null;\n",
    "    \n",
    "    if(root.left==null)\n",
    " \n",
    "        return root;\n",
    "   \n",
    "    return findMin(root.left);\n",
    " \n",
    "}"
   ]
  },
  {
   "cell_type": "markdown",
   "metadata": {},
   "source": [
    "## Insert\n",
    "\n",
    "- insert(key) : Find the right spot and hook on a new node.\n",
    "\n",
    "insert(17)\n",
    "\n",
    "<img src=\"images/week-04/BSTinsert.png\"  width=\"300\">"
   ]
  },
  {
   "cell_type": "markdown",
   "metadata": {},
   "source": [
    "## Delete\n",
    "\n",
    "- Deletion can be tricky\n",
    "- There are three cases to consider\n",
    "     - Removing a leaf: easy, just delete it\n",
    "     - Removing internal node with 1 child (e.g., 15)\n",
    "     - Removing internal node with 2 children (e.g., 7)\n",
    "<img src=\"images/week-04/BSTdelete.png\"  width=\"300\">"
   ]
  },
  {
   "cell_type": "markdown",
   "metadata": {},
   "source": [
    "### Case 2 \n",
    "- Delete a note with one child.\n",
    "- **Strategy** “Splice out” node by connecting its parent to its child\n",
    "- For example: delete 15\n",
    "    - set parent’s left pointer to 17\n",
    "    - remove 15’s pointer\n",
    "    - no more references to 15 so erased\n",
    "    - BST order is maintained\n",
    "<img src=\"images/week-04/BSTdelete1.png\"  width=\"300\">"
   ]
  },
  {
   "cell_type": "markdown",
   "metadata": {},
   "source": [
    "### Case 3 \n",
    "- Delete a note with two children.\n",
    "- **Strategy** “replace” node by the successor\n",
    "    - successor: next largest node\n",
    "- Delete successor\n",
    "- For example: delete 7\n",
    "    - What is successor of 7?\n",
    "- Since node has 2 children it has a left subtree **a right subtree**\n",
    "- Successor is leftmost node in right subtree, i.e. node with NO left child at right subtree.\n",
    "    - Here is the pseudocode\n",
    "    \n",
    "        successor(node){\n",
    "            curr = node.right\n",
    "            while (curr.left != null):\n",
    "                curr = curr.left\n",
    "            return curr\n",
    "        }\n",
    "<img src=\"images/week-04/BSTdelete2.png\"  width=\"300\">\n",
    "- Now, replace node with successor\n",
    "- Observation\n",
    "     - Successor can’t have left sub-tree\n",
    "        - …otherwise its left child would be successor\n",
    "     - so successor only has right child\n",
    "     - Remove successor using either Case #1 or #2\n",
    "         - In this example, use case #2 (internal node has one child)\n",
    "- Successor removed and BST order restored\n",
    "\n",
    "<img src=\"images/week-04/BSTdelete3.png\"  width=\"300\">\n",
    "\n",
    "In Delete(key), instead of successor, it is okay to use **predecessor** - rightmost node in left subtree, i.e. node with NO right child at left subtree."
   ]
  },
  {
   "cell_type": "code",
   "execution_count": 7,
   "metadata": {},
   "outputs": [],
   "source": [
    "class Node:\n",
    "    \"\"\"A class for creating a binary tree node and inserting elements.\n",
    "\n",
    "       Attributes:\n",
    "       -----------\n",
    "       key : int, str\n",
    "            The value that exists at this node of the tree.  eg. tree=Node(4) initializes a tree with \n",
    "            a stump integer value of 4.\n",
    "\n",
    "       Methods: \n",
    "       --------   \n",
    "       insert(self, key) : Inserts a new element into the tree. \n",
    "    \"\"\"\n",
    "\n",
    "    def __init__(self, key):\n",
    "        self.key = key\n",
    "        self.right = None\n",
    "        self.left = None\n",
    "\n",
    "\n",
    "    def insert(self, key):\n",
    "        if self.key == key:\n",
    "            return\n",
    "        elif self.key < key:\n",
    "            if self.right is None:\n",
    "                self.right = Node(key)\n",
    "            else:\n",
    "                self.right.insert(key)\n",
    "        else: # self.key > key\n",
    "            if self.left is None:\n",
    "                self.left = Node(key)\n",
    "            else:\n",
    "                self.left.insert(key)\n",
    "                \n",
    " \n",
    "\n",
    "    def display(self):\n",
    "        lines, _, _, _ = self._display_aux()\n",
    "        for line in lines:\n",
    "            print(line)\n",
    "\n",
    "\n",
    "    def _display_aux(self):\n",
    "        \"\"\"Returns list of strings, width, height, and horizontal coordinate of the root. this is \n",
    "           a utility function that gets used by the <display()> method for building pretty stdout \n",
    "           visualization of the binary tree. \"\"\"\n",
    "\n",
    "        # No child exists.\n",
    "        if self.right is None and self.left is None:\n",
    "            line = '%s' % self.key\n",
    "            width = len(line)\n",
    "            height = 1\n",
    "            middle = width // 2\n",
    "            return [line], width, height, middle\n",
    "\n",
    "        # Only left child exists.\n",
    "        if self.right is None:\n",
    "            lines, n, p, x = self.left._display_aux()\n",
    "            s = '%s' % self.key\n",
    "            u = len(s)\n",
    "            first_line = (x + 1) * ' ' + (n - x - 1) * '_' + s\n",
    "            second_line = x * ' ' + '/' + (n - x - 1 + u) * ' '\n",
    "            shifted_lines = [line + u * ' ' for line in lines]\n",
    "            return [first_line, second_line] + shifted_lines, n + u, p + 2, n + u // 2\n",
    "\n",
    "        # Only right child exists.\n",
    "        if self.left is None:\n",
    "            lines, n, p, x = self.right._display_aux()\n",
    "            s = '%s' % self.key\n",
    "            u = len(s)\n",
    "            first_line = s + x * '_' + (n - x) * ' '\n",
    "            second_line = (u + x) * ' ' + '\\\\' + (n - x - 1) * ' '\n",
    "            shifted_lines = [u * ' ' + line for line in lines]\n",
    "            return [first_line, second_line] + shifted_lines, n + u, p + 2, u // 2\n",
    "\n",
    "        # Two children exist.\n",
    "        left, n, p, x = self.left._display_aux()\n",
    "        right, m, q, y = self.right._display_aux()\n",
    "        s = '%s' % self.key\n",
    "        u = len(s)\n",
    "        first_line = (x + 1) * ' ' + (n - x - 1) * '_' + s + y * '_' + (m - y) * ' '\n",
    "        second_line = x * ' ' + '/' + (n - x - 1 + u + y) * ' ' + '\\\\' + (m - y - 1) * ' '\n",
    "\n",
    "        if p < q:\n",
    "            left += [n * ' '] * (q - p)\n",
    "        elif q < p:\n",
    "            right += [m * ' '] * (p - q)\n",
    "            \n",
    "        zipped_lines = zip(left, right)\n",
    "        lines = [first_line, second_line] + [a + u * ' ' + b for a, b in zipped_lines]\n",
    "        return lines, n + m + u, max(p, q) + 2, n + u // 2"
   ]
  },
  {
   "cell_type": "code",
   "execution_count": 17,
   "metadata": {},
   "outputs": [],
   "source": [
    "bst2 = Node(15)\n",
    "keys = [10,11,12,13,14,16,17,18,19]\n",
    "#keys = [11,12,13,14,15,16,17,18,19]\n",
    "for key in keys:\n",
    "    bst2.insert(key)"
   ]
  },
  {
   "cell_type": "code",
   "execution_count": 18,
   "metadata": {},
   "outputs": [
    {
     "name": "stdout",
     "output_type": "stream",
     "text": [
      "  ________15_       \n",
      " /           \\      \n",
      "10_         16_     \n",
      "   \\           \\    \n",
      "  11_         17_   \n",
      "     \\           \\  \n",
      "    12_         18_ \n",
      "       \\           \\\n",
      "      13_         19\n",
      "         \\          \n",
      "        14          \n"
     ]
    }
   ],
   "source": [
    "bst2.display()"
   ]
  },
  {
   "cell_type": "code",
   "execution_count": 10,
   "metadata": {},
   "outputs": [],
   "source": [
    "def get_height(tree):\n",
    "    '''\n",
    "    Returns the height of the tree.  \n",
    "    '''\n",
    "    if tree is None or (tree.left is None and tree.right is None): \n",
    "        return 0\n",
    "    return 1 + max(get_height(tree.left), get_height(tree.right))    "
   ]
  },
  {
   "cell_type": "code",
   "execution_count": 14,
   "metadata": {},
   "outputs": [
    {
     "data": {
      "text/plain": [
       "8"
      ]
     },
     "execution_count": 14,
     "metadata": {},
     "output_type": "execute_result"
    }
   ],
   "source": [
    "get_height(bst1.right)"
   ]
  },
  {
   "cell_type": "code",
   "execution_count": 15,
   "metadata": {},
   "outputs": [],
   "source": [
    "def is_balanced(tree):\n",
    "    '''\n",
    "    Method for determining if a binary tree is balanced.\n",
    "\n",
    "    A binary tree is balanced if:\n",
    "        - it's empty\n",
    "        - the left sub tree is balanced\n",
    "        - the right subtree is balanced\n",
    "        - the difference in depth between left and right is <=1\n",
    "\n",
    "    Parameters:\n",
    "    ____________\n",
    "    root : the node object, below which the definition of 'balanced' will be applied.    \n",
    "    '''\n",
    "    if tree is None: \n",
    "        return True\n",
    "    return is_balanced(tree.right) and is_balanced(tree.left) and abs(get_height(tree.left) - get_height(tree.right)) <= 1   "
   ]
  },
  {
   "cell_type": "code",
   "execution_count": 19,
   "metadata": {},
   "outputs": [
    {
     "data": {
      "text/plain": [
       "False"
      ]
     },
     "execution_count": 19,
     "metadata": {},
     "output_type": "execute_result"
    }
   ],
   "source": [
    "is_balanced(bst2)"
   ]
  },
  {
   "cell_type": "markdown",
   "metadata": {},
   "source": [
    "## Binary Search Tree Analysis\n",
    "\n",
    "- How fast are BST operations?\n",
    "     - Given a tree, what is the worstcase node to find/remove?\n",
    "- What is the best-case tree?\n",
    "     - a balanced tree\n",
    "     \n",
    "     <img src=\"images/week-04/BSTbalanced.png\" width=\"300\">\n",
    "     \n",
    "- What is the worst-case tree?\n",
    "     - a completely unbalanced tree\n",
    "     \n",
    "     <img src=\"images/week-04/BSTunbalanced.png\" width=\"200\">\n",
    "     \n",
    "**Problem**: operations may be inefficient if BST is unbalanced."
   ]
  },
  {
   "cell_type": "code",
   "execution_count": null,
   "metadata": {},
   "outputs": [],
   "source": []
  }
 ],
 "metadata": {
  "anaconda-cloud": {},
  "kernelspec": {
   "display_name": "Python 3 (ipykernel)",
   "language": "python",
   "name": "python3"
  },
  "language_info": {
   "codemirror_mode": {
    "name": "ipython",
    "version": 3
   },
   "file_extension": ".py",
   "mimetype": "text/x-python",
   "name": "python",
   "nbconvert_exporter": "python",
   "pygments_lexer": "ipython3",
   "version": "3.10.9"
  }
 },
 "nbformat": 4,
 "nbformat_minor": 1
}
