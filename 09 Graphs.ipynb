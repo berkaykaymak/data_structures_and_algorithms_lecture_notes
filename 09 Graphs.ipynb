{
 "cells": [
  {
   "cell_type": "markdown",
   "metadata": {},
   "source": [
    "## Today's Agenda\n",
    "- Graphs"
   ]
  },
  {
   "cell_type": "markdown",
   "metadata": {},
   "source": [
    "# Graphs \n",
    "\n",
    "- More general structure than trees\n",
    "     - Tree is a special type of graph\n",
    "- Graphs can represent:\n",
    "     - Roads\n",
    "     - Airline flights from city to city\n",
    "     - How the Internet is connected\n",
    "- Once good representation for problem, graph algorithms can be applied"
   ]
  },
  {
   "cell_type": "markdown",
   "metadata": {},
   "source": [
    "## Graphs\n",
    "- Computer can understand roadmap as a graph\n",
    "- Computer can use graph representation to determine:\n",
    "     - Shortest path\n",
    "     - Easiest path\n",
    "     - Quickest path"
   ]
  },
  {
   "cell_type": "markdown",
   "metadata": {},
   "source": [
    "## Graphs - Definitions\n",
    "-  Vertex (node):\n",
    "     - Fundamental part of a graph.\n",
    "     - Can have a name =>“key.”\n",
    "     - Additional information as “payload.”\n",
    "- Edge:\n",
    "     - Connects two vertices\n",
    "    - One-way or two-way\n",
    "     - One-way => directed graph"
   ]
  },
  {
   "cell_type": "markdown",
   "metadata": {},
   "source": [
    "## Graphs - Definitions\n",
    "- Weight:\n",
    "     - Edges may be weighted\n",
    "     - Cost to go from on vertex to another\n",
    "     - E.g., cost on edges of graph of roads might represent distance between two cities\n",
    "\n",
    "## Graphs \n",
    "- Graphs are composed of\n",
    "    - Nodes (vertices)\n",
    "    - Edges (arcs)\n",
    "    \n",
    "<img src=\"images/week-09/graph1a.png\">\n",
    "\n",
    "- For example, Information Transmission in a Computer Network\n",
    "<img src=\"images/week-09/graph1b.png\"  width=\"500\">\n",
    "\n",
    "- Another example Precedence graph\n",
    "\n",
    "<img src=\"images/week-09/graph1c.png\"  width=\"500\">\n",
    "\n",
    "### Varieties\n",
    "- Nodes\n",
    "    - Labeled or unlabeled\n",
    "- Edges\n",
    "    - Directed or undirected\n",
    "    - Labeled or unlabeled"
   ]
  },
  {
   "cell_type": "markdown",
   "metadata": {},
   "source": [
    "# Graphs \n",
    "- A graph is a collection of nodes plus edges\n",
    "     - Linked lists, trees, and heaps are all special cases of graphs\n",
    "- The nodes are known as vertices (node =“vertex”)\n",
    "- Formal Definition: A graph $G$ is a pair $(V, E)$ where\n",
    "     - $V$ is a set of vertices or nodes\n",
    "     - $E$ is a set of edges that connect vertices\n",
    "     \n",
    "     <img src=\"images/week-09/graph201.png\" width=\"600\">\n",
    "     \n",
    "- A graph $G$ consists of a set $V$ of vertices and a set $E$ of pairs of distinct vertices from $V$.\n",
    "- These pairs of vertices are called edges.\n",
    "- If the pairs of vertices are unordered, $G$ is an undirected graph. If the pairs of vertices are ordered, $G$ is a directed graph or digraph.\n",
    "\n",
    "<img src=\"images/week-09/graph1.png\">"
   ]
  },
  {
   "cell_type": "markdown",
   "metadata": {},
   "source": [
    "## Graph Example\n",
    "- Here is a graph $G = (V, E)$\n",
    "    - Each edge is a pair $(v_1, v_2)$, where $v_1$, $v_2$ are vertices in $V$\n",
    "    - $V = \\{A, B, C, D, E, F\\}$\n",
    "    \n",
    "For example, $E = \\{(A,B), (A,D), (B,C), (C,D), (C,E), (D,E)\\}$\n",
    "\n",
    "<img src=\"images/week-09/graph2a.png\">"
   ]
  },
  {
   "cell_type": "markdown",
   "metadata": {},
   "source": [
    "## Directed vs Undirected Graphs\n",
    "\n",
    "- If the order of edge pairs $(v_1, v_2)$ matters, the graph is directed (also called a digraph): $(v_1, v_2)\\ne (v_2, v_1)$\n",
    "\n",
    "<img src=\"images/week-09/graph2b.png\">\n",
    "\n",
    "- If the order of edge pairs $(v_1, v_2)$ does not matter, the graph is called an undirected graph: in this case, $(v_1, v_2)= (v_2, v_1)$\n",
    "\n",
    "<img src=\"images/week-09/graph2c.png\">"
   ]
  },
  {
   "cell_type": "markdown",
   "metadata": {},
   "source": [
    "### Undirected Graph Terminology\n",
    "\n",
    "- An undirected graph $G$, where:\n",
    "- $E = \\{ \\{a, b\\}, \\{a, c\\}, \\{b, e\\}, \\{b, h\\}, \\{b, i\\} ,\\{c, d\\} , \\{c, e\\} , \\{e, f\\} , \\{e, g\\} , \\{h, i\\} \\}$\n",
    "- $e = \\{c, d\\}$ is an edge, incident with the vertices $c$ and $d$\n",
    "- Two vertices, $u$ and $v$, are adjacent in an undirected graph $G$ if $\\{u, v\\}$ is an edge in $G$, (i.e. in $E$).\n",
    "    - edge $e = \\{u,v\\}$ is incident with vertex $u$ and vertex $v$\n",
    "- The degree of a vertex in an undirected graph is the number of edges incident with it\n",
    "    - a self-loop counts twice (both ends count) <img src=\"images/graph4b1.png\">\n",
    "    - denoted with $deg(v)$, for example $deg(0)=2$, $deg(1)=4$, $deg(2)=2$\n",
    "- A path in $G$ is a sequence of distinct vertices, each adjacent to the next.\n",
    "- A path is simple if no vertex occurs twice in the path.\n",
    "- A cycle in $G$ is a path in $G$ containing at least three vertices, such that the last vertex in the sequence is adjacent to the first vertex in the sequence.\n",
    "\n",
    "<img src=\"images/week-09/graph2.png\">"
   ]
  },
  {
   "cell_type": "markdown",
   "metadata": {},
   "source": [
    "- A graph $G$ is connected if, given any two vertices $x$ and $y$ in $G$, there is a path in G with first vertex $x$ and last vertex $y$.\n",
    "- The graph on the previous slide is connected.\n",
    "- If a graph $G$ is not connected, then we say that a maximal connected set of vertices is a component of $G$.\n",
    "\n",
    "<img src=\"images/week-09/graph3.png\">"
   ]
  },
  {
   "cell_type": "markdown",
   "metadata": {},
   "source": [
    "### Directed Graph Terminology\n",
    "- The terminology for directed graphs is only slightly different.\n",
    "- Vertex $u$ is adjacent to vertex $v$ in a directed graph $G$ if $(u,v)$ is an edge in $G$\n",
    "    - vertex $u$ is the initial vertex of $(u,v)$\n",
    "- Vertex $v$ is adjacent from vertex $u$\n",
    "    - vertex $v$ is the terminal (or end) vertex of $(u,v)$\n",
    "- $e = (c, d)$ is an edge, from $c$ to $d$ \n",
    "- Degree\n",
    "    - **in-degree** is the number of edges with the vertex as the terminal(or end) vertex, denoted by $deg^{-}(v)$\n",
    "    - **out-degree** is the number of edges with the vertex as the initial vertex, denoted by $deg^{+}(v)$ \n",
    "    - For example $deg^{-}(0)=0$, $deg^{-}(1)=2$, $deg^{-}(2)=2$, $deg^{+}(0)=2$, $deg^{+}(1)=2$, $deg^{+}(2)=0$<img src=\"images/week-09/graph4c.png\"  width=\"100\">\n",
    "- A directed path in a directed graph $G$ is a sequence of distinct vertices, such that there is an edge from each vertex in the sequence to the next.\n",
    "- A directed graph $G$ is weakly connected if, the undirected graph obtained by suppressing the directions on the edges of $G$ is connected (according to the previous definition).\n",
    "- A directed graph $G$ is strongly connected if, given any two vertices $x$ and $y$ in $G$, there is a directed path in $G$ from $x$ to $y$.\n",
    "\n",
    "<img src=\"images/week-09/graph4.png\"  width=\"250\">"
   ]
  },
  {
   "cell_type": "markdown",
   "metadata": {},
   "source": [
    "## Isomorphism\n",
    "- Same number of vertices connected in the same way.\n",
    "\n",
    "<img src=\"images/week-09/graph4a.png\">\n",
    "\n",
    "**Exercise:** What is the time complexity to test if 2 graphs are isomorphic or not?"
   ]
  },
  {
   "cell_type": "markdown",
   "metadata": {},
   "source": [
    "## Graph Representations\n",
    "- Space and time are analyzed in terms of:\n",
    "    - Number of vertices, denoted by $|V|$ and\n",
    "    - Number of edges, denoted by $|E|$.\n",
    "- There are at least two ways of representing graphs:\n",
    "     - The adjacency matrix representation\n",
    "     - The adjacency list representation"
   ]
  },
  {
   "cell_type": "markdown",
   "metadata": {},
   "source": [
    "### Adjacency Matrix Representation\n",
    "- A graph may be represented by a two dimensional adjacency matrix.\n",
    "\n",
    "- If $G$ has $n = |V|$ vertices, let $M$ be an $n$-by-$n$ matrix whose entries are defined by \\begin{equation}\n",
    "M_{v,w}=\\begin{cases}\n",
    "1 & \\textrm{if}\\quad (v,w)\\quad\\textrm{is an edge}\\\\\n",
    "0 & \\textrm{otherwise}\n",
    "\\end{cases}\n",
    "\\end{equation}\n",
    "\n",
    "<img src=\"images/week-09/graph5a.png\" width=\"600\">"
   ]
  },
  {
   "cell_type": "markdown",
   "metadata": {},
   "source": [
    "## Adjacency Matrix for a Digraph\n",
    "\n",
    "<img src=\"images/week-09/graph6.png\" width=\"600\">"
   ]
  },
  {
   "cell_type": "markdown",
   "metadata": {},
   "source": [
    "## Adjacency List\n",
    "- For each $v$ in $V$, $L(v)$ = list of $w$ such that $(v, w)$ is in $E$\n",
    "\n",
    "<img src=\"images/week-09/graph7.png\" width=\"600\">"
   ]
  },
  {
   "cell_type": "markdown",
   "metadata": {},
   "source": [
    "## Adjacency List for a Digraph\n",
    "- For each $v$ in $V$, $L(v)$ = list of $w$ such that $(v, w)$ is in $E$\n",
    "\n",
    "<img src=\"images/week-09/graph8.png\" width=\"600\">\n"
   ]
  },
  {
   "cell_type": "markdown",
   "metadata": {},
   "source": [
    "Exercise: Represent the following graph in both adjacency matrix and adjacency list.\n",
    "    \n",
    "<img src=\"images/week-09/graph5.png\" width=\"300\">\n"
   ]
  },
  {
   "cell_type": "code",
   "execution_count": null,
   "metadata": {},
   "outputs": [],
   "source": [
    "for i in range(6):\n",
    "    print(i)"
   ]
  },
  {
   "cell_type": "code",
   "execution_count": null,
   "metadata": {},
   "outputs": [],
   "source": [
    "for i in range(6,0,-1):\n",
    "    print(i)"
   ]
  },
  {
   "cell_type": "code",
   "execution_count": null,
   "metadata": {},
   "outputs": [],
   "source": [
    "n=1\n",
    "for i in range(0,n):\n",
    "    print(i)\n",
    "    for j in range(6,0,-1):\n",
    "        print(j)"
   ]
  },
  {
   "cell_type": "code",
   "execution_count": null,
   "metadata": {},
   "outputs": [],
   "source": [
    "n=7\n",
    "for i in range(0,n):\n",
    "    print(i)\n",
    "    for j in range(i,6,-1):\n",
    "        print(2,j)"
   ]
  },
  {
   "cell_type": "code",
   "execution_count": null,
   "metadata": {},
   "outputs": [],
   "source": [
    "class Vertex:\n",
    "    def __init__(self,key):\n",
    "        self.id = key\n",
    "        self.connectedTo = {}\n",
    "\n",
    "    def addNeighbor(self,nbr,weight=0):\n",
    "        self.connectedTo[nbr] = weight\n",
    "\n",
    "    def __str__(self):\n",
    "        return str(self.id) + ' connectedTo: ' + str([x.id for x in self.connectedTo])\n",
    "\n",
    "    def getConnections(self):\n",
    "        return self.connectedTo.keys()\n",
    "\n",
    "    def getId(self):\n",
    "        return self.id\n",
    "\n",
    "    def getWeight(self,nbr):\n",
    "        return self.connectedTo[nbr]"
   ]
  },
  {
   "cell_type": "code",
   "execution_count": null,
   "metadata": {},
   "outputs": [],
   "source": [
    "class Graph:\n",
    "    def __init__(self):\n",
    "        self.vertList = {}\n",
    "        self.numVertices = 0\n",
    "\n",
    "    def addVertex(self,key):\n",
    "        self.numVertices = self.numVertices + 1\n",
    "        newVertex = Vertex(key)\n",
    "        self.vertList[key] = newVertex\n",
    "        return newVertex\n",
    "\n",
    "    def getVertex(self,n):\n",
    "        if n in self.vertList:\n",
    "            return self.vertList[n]\n",
    "        else:\n",
    "            return None\n",
    "\n",
    "    def __contains__(self,n):\n",
    "        return n in self.vertList\n",
    "\n",
    "    def addEdge(self,f,t,cost=0):\n",
    "        if f not in self.vertList:\n",
    "            nv = self.addVertex(f)\n",
    "        if t not in self.vertList:\n",
    "            nv = self.addVertex(t)\n",
    "        self.vertList[f].addNeighbor(self.vertList[t], cost)\n",
    "\n",
    "    def getVertices(self):\n",
    "        return self.vertList.keys()\n",
    "\n",
    "    def __iter__(self):\n",
    "        return iter(self.vertList.values())"
   ]
  },
  {
   "cell_type": "code",
   "execution_count": null,
   "metadata": {},
   "outputs": [],
   "source": [
    "g = Graph()"
   ]
  },
  {
   "cell_type": "code",
   "execution_count": null,
   "metadata": {},
   "outputs": [],
   "source": [
    "g.vertList"
   ]
  },
  {
   "cell_type": "code",
   "execution_count": null,
   "metadata": {},
   "outputs": [],
   "source": [
    "for i in range(6):\n",
    "    g.addVertex(i)"
   ]
  },
  {
   "cell_type": "code",
   "execution_count": null,
   "metadata": {},
   "outputs": [],
   "source": [
    "g.getWeight("
   ]
  },
  {
   "cell_type": "code",
   "execution_count": null,
   "metadata": {},
   "outputs": [],
   "source": [
    "g.vertList[5].connectedTo.keys()"
   ]
  },
  {
   "cell_type": "code",
   "execution_count": null,
   "metadata": {},
   "outputs": [],
   "source": [
    "g.addEdge(1,2,4)"
   ]
  },
  {
   "cell_type": "code",
   "execution_count": null,
   "metadata": {},
   "outputs": [],
   "source": [
    "g.vertList[1].connectedTo"
   ]
  },
  {
   "cell_type": "code",
   "execution_count": null,
   "metadata": {},
   "outputs": [],
   "source": [
    "g.getVertices()"
   ]
  },
  {
   "cell_type": "code",
   "execution_count": null,
   "metadata": {},
   "outputs": [],
   "source": [
    "g.addEdge(0,1,5)\n",
    "g.addEdge(0,5,2)\n",
    "g.addEdge(2,3,9)\n",
    "g.addEdge(3,4,7)\n",
    "g.addEdge(3,5,3)\n",
    "g.addEdge(4,0,1)\n",
    "g.addEdge(5,4,8)\n",
    "g.addEdge(5,2,1)"
   ]
  },
  {
   "cell_type": "code",
   "execution_count": null,
   "metadata": {},
   "outputs": [],
   "source": [
    "g.vertList[5].getWeight(g.vertList[4])"
   ]
  },
  {
   "cell_type": "code",
   "execution_count": null,
   "metadata": {},
   "outputs": [],
   "source": [
    "for v in g:\n",
    "    for w in v.getConnections():\n",
    "        print(\"( %s , %s , %s )\" % (v.getId(), w.getId(), g.vertList[v.getId()].getWeight(g.vertList[w.getId()])))"
   ]
  },
  {
   "cell_type": "code",
   "execution_count": null,
   "metadata": {},
   "outputs": [],
   "source": []
  }
 ],
 "metadata": {
  "anaconda-cloud": {},
  "kernelspec": {
   "display_name": "Python 3 (ipykernel)",
   "language": "python",
   "name": "python3"
  },
  "language_info": {
   "codemirror_mode": {
    "name": "ipython",
    "version": 3
   },
   "file_extension": ".py",
   "mimetype": "text/x-python",
   "name": "python",
   "nbconvert_exporter": "python",
   "pygments_lexer": "ipython3",
   "version": "3.10.9"
  }
 },
 "nbformat": 4,
 "nbformat_minor": 1
}
